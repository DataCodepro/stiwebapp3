{
 "cells": [
  {
   "cell_type": "code",
   "execution_count": 29,
   "metadata": {},
   "outputs": [],
   "source": [
    "import numpy as np\n",
    "import pandas as pd\n",
    "import plotly.express as px"
   ]
  },
  {
   "cell_type": "code",
   "execution_count": 30,
   "metadata": {},
   "outputs": [],
   "source": [
    "df = pd.read_csv('nigeria-innovation.csv')"
   ]
  },
  {
   "cell_type": "code",
   "execution_count": 31,
   "metadata": {},
   "outputs": [],
   "source": [
    "df2 = df[['obstacle_cost1',\n",
    "'obstacle_cost2',\n",
    "'obstacle_cost3',\n",
    "'obstacle_cost4',\n",
    "'obstacle_cost5',\n",
    "'obstacle_knowledge1',\n",
    "'obstacle_knowledge2',\n",
    "'obstacle_knowledge3',\n",
    "'obstacle_knowledge4',\n",
    "'obstacle_market1',\n",
    "'obstacle_market2',\n",
    "'obstacle_market3',\n",
    "'obstacle_market4',\n",
    "'obstacle_market5',\n",
    "'obstacle_infra1',\n",
    "'obstacle_infra2',\n",
    "'obstacle_need1',\n",
    "'obstacle_need2',\n",
    "'obstacle_other1',\n",
    "'obstacle_other2',\n",
    "'obstacle_other3'\n",
    "]]\n"
   ]
  },
  {
   "cell_type": "code",
   "execution_count": 32,
   "metadata": {},
   "outputs": [
    {
     "name": "stderr",
     "output_type": "stream",
     "text": [
      "C:\\Users\\Simeon\\AppData\\Local\\Temp\\ipykernel_10148\\3079480622.py:1: SettingWithCopyWarning:\n",
      "\n",
      "\n",
      "A value is trying to be set on a copy of a slice from a DataFrame\n",
      "\n",
      "See the caveats in the documentation: https://pandas.pydata.org/pandas-docs/stable/user_guide/indexing.html#returning-a-view-versus-a-copy\n",
      "\n"
     ]
    }
   ],
   "source": []
  },
  {
   "cell_type": "code",
   "execution_count": 33,
   "metadata": {},
   "outputs": [],
   "source": [
    "d1=pd.DataFrame(df2[['obstacle_cost1']].value_counts())\n",
    "d2 =pd.DataFrame(df2[['obstacle_cost2']].value_counts())\n",
    "d3 =pd.DataFrame(df2[['obstacle_cost3']].value_counts())\n",
    "d4 =pd.DataFrame(df2[['obstacle_cost4']].value_counts())\n",
    "d5 =pd.DataFrame(df2[['obstacle_cost5']].value_counts())\n",
    "d6 =pd.DataFrame(df2[['obstacle_knowledge1']].value_counts())\n",
    "d7 =pd.DataFrame(df2[['obstacle_knowledge2']].value_counts())\n",
    "d8 =pd.DataFrame(df2[['obstacle_knowledge3']].value_counts())\n",
    "d9 =pd.DataFrame(df2[['obstacle_knowledge4']].value_counts())\n",
    "d10 =pd.DataFrame(df2[['obstacle_market1']].value_counts())\n",
    "d11=pd.DataFrame(df2[['obstacle_market2']].value_counts())\n",
    "d13=pd.DataFrame(df2[['obstacle_market3']].value_counts())\n",
    "d15=pd.DataFrame(df2[['obstacle_market4']].value_counts())\n",
    "d16=pd.DataFrame(df2[['obstacle_market5']].value_counts())\n",
    "d17=pd.DataFrame(df2[['obstacle_infra1']].value_counts())\n",
    "d18=pd.DataFrame(df2[['obstacle_infra2']].value_counts())\n",
    "d19=pd.DataFrame(df2[['obstacle_need1']].value_counts())\n",
    "d20=pd.DataFrame(df2[['obstacle_need2']].value_counts())\n",
    "d21 =pd.DataFrame(df2[['obstacle_other1']].value_counts())\n",
    "d22=pd.DataFrame(df2[['obstacle_other2']].value_counts())\n",
    "d23=pd.DataFrame(df2[['obstacle_other3']].value_counts())\n"
   ]
  },
  {
   "cell_type": "code",
   "execution_count": 34,
   "metadata": {},
   "outputs": [],
   "source": [
    "d1.reset_index(inplace=True)\n",
    "d2.reset_index(inplace=True)\n",
    "d3.reset_index(inplace=True)\n",
    "d4.reset_index(inplace=True)\n",
    "d5.reset_index(inplace=True)\n",
    "d6.reset_index(inplace=True)\n",
    "d7.reset_index(inplace=True)\n",
    "d8.reset_index(inplace=True)\n",
    "d9.reset_index(inplace=True)\n",
    "d10.reset_index(inplace=True)\n",
    "d11.reset_index(inplace=True)\n",
    "d13.reset_index(inplace=True)\n",
    "d15.reset_index(inplace=True)\n",
    "d16.reset_index(inplace=True)\n",
    "d17.reset_index(inplace=True)\n",
    "d18.reset_index(inplace=True)\n",
    "d19.reset_index(inplace=True)\n",
    "d20.reset_index(inplace=True)\n",
    "d21.reset_index(inplace=True)\n",
    "d22.reset_index(inplace=True)\n",
    "d23.reset_index(inplace=True)"
   ]
  },
  {
   "cell_type": "code",
   "execution_count": 35,
   "metadata": {},
   "outputs": [],
   "source": [
    "obstacle = pd.concat([d1,d2,d3,d4,d5,d6,d7,d8,d9,d10,d11,d13,d15,d16,d17,d18,d19,d20,d21,d22,d23],axis=1)"
   ]
  },
  {
   "cell_type": "code",
   "execution_count": 36,
   "metadata": {},
   "outputs": [],
   "source": [
    "obstacle.replace({' ':'Unspecified'},inplace =True)\n",
    "obstacle.rename({0:'Output'},axis = 1,inplace=True)\n",
    "obstacle.transpose().to_csv('obstacle.csv')"
   ]
  },
  {
   "cell_type": "code",
   "execution_count": 37,
   "metadata": {},
   "outputs": [
    {
     "name": "stderr",
     "output_type": "stream",
     "text": [
      "C:\\Users\\Simeon\\AppData\\Local\\Temp\\ipykernel_10148\\3058260082.py:10: SettingWithCopyWarning:\n",
      "\n",
      "\n",
      "A value is trying to be set on a copy of a slice from a DataFrame\n",
      "\n",
      "See the caveats in the documentation: https://pandas.pydata.org/pandas-docs/stable/user_guide/indexing.html#returning-a-view-versus-a-copy\n",
      "\n"
     ]
    }
   ],
   "source": [
    "df3 = df[['policysup1',\n",
    "'policysup2',\n",
    "'policysup3',\n",
    "'policysup4',\n",
    "'policysup5',\n",
    "'policysup6',\n",
    "'policysup7',\n",
    "'policysup8'\n",
    "]]\n",
    "df3.replace({'3':'Highly important','2':'Moderately important','1':'Slightly important','0':'Not important','':'Unspecified'},inplace=True)\n",
    "d1=pd.DataFrame(df3[['policysup1']].value_counts())\n",
    "d2 =pd.DataFrame(df3[['policysup2']].value_counts())\n",
    "d3 =pd.DataFrame(df3[['policysup3']].value_counts())\n",
    "d4 =pd.DataFrame(df3[['policysup4']].value_counts())\n",
    "d5 =pd.DataFrame(df3[['policysup5']].value_counts())\n",
    "d6 =pd.DataFrame(df3[['policysup6']].value_counts())\n",
    "d7 =pd.DataFrame(df3[['policysup7']].value_counts())\n",
    "d8 =pd.DataFrame(df3[['policysup8']].value_counts())\n",
    "d1.reset_index(inplace=True)\n",
    "d2.reset_index(inplace=True)\n",
    "d3.reset_index(inplace=True)\n",
    "d4.reset_index(inplace=True)\n",
    "d5.reset_index(inplace=True)\n",
    "d6.reset_index(inplace=True)\n",
    "d7.reset_index(inplace=True)\n",
    "d8.reset_index(inplace=True)\n",
    "policy = pd.concat([d1,d2,d3,d4,d5,d6,d7,d8],axis=1)\n",
    "policy.replace({' ':'Unspecified'},inplace =True)\n",
    "policy.rename({0:'Output'},axis = 1,inplace=True)\n",
    "policy.transpose().to_csv('policy.csv')"
   ]
  },
  {
   "cell_type": "code",
   "execution_count": 40,
   "metadata": {},
   "outputs": [
    {
     "name": "stderr",
     "output_type": "stream",
     "text": [
      "C:\\Users\\Simeon\\AppData\\Local\\Temp\\ipykernel_10148\\2650106418.py:7: SettingWithCopyWarning:\n",
      "\n",
      "\n",
      "A value is trying to be set on a copy of a slice from a DataFrame\n",
      "\n",
      "See the caveats in the documentation: https://pandas.pydata.org/pandas-docs/stable/user_guide/indexing.html#returning-a-view-versus-a-copy\n",
      "\n"
     ]
    }
   ],
   "source": [
    "df4=df[['ieffect_org1',\n",
    "'ieffect_org2',\n",
    "'ieffect_org3',\n",
    "'ieffect_org4',\n",
    "'ieffect_org5'\n",
    "]]\n",
    "df4.replace({'3':'High','2':'Medium','1':'Low','0':'Not experienced','':'Unspecified'},inplace=True)"
   ]
  },
  {
   "cell_type": "code",
   "execution_count": 41,
   "metadata": {},
   "outputs": [],
   "source": [
    "d1=pd.DataFrame(df4[['ieffect_org1']].value_counts())\n",
    "d2 =pd.DataFrame(df4[['ieffect_org2']].value_counts())\n",
    "d3 =pd.DataFrame(df4[['ieffect_org3']].value_counts())\n",
    "d4 =pd.DataFrame(df4[['ieffect_org4']].value_counts())\n",
    "d5 =pd.DataFrame(df4[['ieffect_org5']].value_counts())\n",
    "d1.reset_index(inplace=True)\n",
    "d2.reset_index(inplace=True)\n",
    "d3.reset_index(inplace=True)\n",
    "d4.reset_index(inplace=True)\n",
    "d5.reset_index(inplace=True)\n",
    "effect = pd.concat([d1,d2,d3,d4,d5],axis=1)\n",
    "effect.replace({' ':'Unspecified'},inplace =True)\n",
    "effect.rename({0:'Response'},axis = 1,inplace=True)\n",
    "effect.transpose().to_csv('effect.csv')"
   ]
  },
  {
   "cell_type": "code",
   "execution_count": 42,
   "metadata": {},
   "outputs": [
    {
     "data": {
      "text/plain": [
       "0    600\n",
       "     515\n",
       "1    244\n",
       "Name: coop, dtype: int64"
      ]
     },
     "execution_count": 42,
     "metadata": {},
     "output_type": "execute_result"
    }
   ],
   "source": [
    "df5 = df[['grphq','coop']]\n",
    "df5['coop'].value_counts()"
   ]
  },
  {
   "cell_type": "code",
   "execution_count": 43,
   "metadata": {},
   "outputs": [
    {
     "name": "stderr",
     "output_type": "stream",
     "text": [
      "C:\\Users\\Simeon\\AppData\\Local\\Temp\\ipykernel_10148\\4041287811.py:1: SettingWithCopyWarning:\n",
      "\n",
      "\n",
      "A value is trying to be set on a copy of a slice from a DataFrame\n",
      "\n",
      "See the caveats in the documentation: https://pandas.pydata.org/pandas-docs/stable/user_guide/indexing.html#returning-a-view-versus-a-copy\n",
      "\n"
     ]
    }
   ],
   "source": [
    "df5.replace({' ':-1},inplace=True)\n",
    "df5 = df5[(df5['grphq'] != -1)&(df5['coop']!=-1)]\n"
   ]
  },
  {
   "cell_type": "code",
   "execution_count": 44,
   "metadata": {},
   "outputs": [
    {
     "name": "stdout",
     "output_type": "stream",
     "text": [
      "<class 'pandas.core.frame.DataFrame'>\n",
      "Int64Index: 204 entries, 20 to 1353\n",
      "Data columns (total 2 columns):\n",
      " #   Column  Non-Null Count  Dtype \n",
      "---  ------  --------------  ----- \n",
      " 0   grphq   204 non-null    object\n",
      " 1   coop    204 non-null    object\n",
      "dtypes: object(2)\n",
      "memory usage: 4.8+ KB\n"
     ]
    }
   ],
   "source": [
    "df5.info()"
   ]
  },
  {
   "cell_type": "code",
   "execution_count": 45,
   "metadata": {},
   "outputs": [],
   "source": [
    "df5 = pd.crosstab(df5['grphq'],df5['coop'])\n"
   ]
  },
  {
   "cell_type": "code",
   "execution_count": 46,
   "metadata": {},
   "outputs": [
    {
     "name": "stderr",
     "output_type": "stream",
     "text": [
      "C:\\Users\\Simeon\\AppData\\Local\\Temp\\ipykernel_10148\\977592908.py:12: SettingWithCopyWarning:\n",
      "\n",
      "\n",
      "A value is trying to be set on a copy of a slice from a DataFrame\n",
      "\n",
      "See the caveats in the documentation: https://pandas.pydata.org/pandas-docs/stable/user_guide/indexing.html#returning-a-view-versus-a-copy\n",
      "\n"
     ]
    }
   ],
   "source": [
    "df6=df[['sinfo1',\n",
    "'sinfo2',\n",
    "'sinfo3',\n",
    "'sinfo4',\n",
    "'sinfo5',\n",
    "'sinfo6',\n",
    "'sinfo7',\n",
    "'sinfo8',\n",
    "'sinfo9',\n",
    "'sinfo10'\n",
    "]]\n",
    "df6.replace({'3':'High','2':'Medium','1':'Low','0':'Not Used','':'Unspecified'},inplace=True)"
   ]
  },
  {
   "cell_type": "code",
   "execution_count": 47,
   "metadata": {},
   "outputs": [],
   "source": [
    "d1=pd.DataFrame(df6[['sinfo1']].value_counts())\n",
    "d2 =pd.DataFrame(df6[['sinfo2']].value_counts())\n",
    "d3 =pd.DataFrame(df6[['sinfo3']].value_counts())\n",
    "d4 =pd.DataFrame(df6[['sinfo4']].value_counts())\n",
    "d5 =pd.DataFrame(df6[['sinfo5']].value_counts())\n",
    "d6 =pd.DataFrame(df6[['sinfo6']].value_counts())\n",
    "d7 =pd.DataFrame(df6[['sinfo7']].value_counts())\n",
    "d8 =pd.DataFrame(df6[['sinfo8']].value_counts())\n",
    "d9 =pd.DataFrame(df6[['sinfo9']].value_counts())\n",
    "d10 =pd.DataFrame(df6[['sinfo10']].value_counts())"
   ]
  },
  {
   "cell_type": "code",
   "execution_count": 48,
   "metadata": {},
   "outputs": [],
   "source": [
    "d1.reset_index(inplace=True)\n",
    "d2.reset_index(inplace=True)\n",
    "d3.reset_index(inplace=True)\n",
    "d4.reset_index(inplace=True)\n",
    "d5.reset_index(inplace=True)\n",
    "d6.reset_index(inplace=True)\n",
    "d7.reset_index(inplace=True)\n",
    "d8.reset_index(inplace=True)\n",
    "d9.reset_index(inplace=True)\n",
    "d10.reset_index(inplace=True)"
   ]
  },
  {
   "cell_type": "code",
   "execution_count": 49,
   "metadata": {},
   "outputs": [],
   "source": [
    "info = pd.concat([d1,d2,d3,d4,d5,d6,d7,d8,d9,d10],axis=1)\n",
    "info.replace({' ':'Unspecified'},inplace =True)\n",
    "info.rename({0:'Response'},axis = 1,inplace=True)\n",
    "info.transpose().to_csv('infosource.csv')"
   ]
  },
  {
   "cell_type": "code",
   "execution_count": 50,
   "metadata": {},
   "outputs": [
    {
     "data": {
      "text/html": [
       "<div>\n",
       "<style scoped>\n",
       "    .dataframe tbody tr th:only-of-type {\n",
       "        vertical-align: middle;\n",
       "    }\n",
       "\n",
       "    .dataframe tbody tr th {\n",
       "        vertical-align: top;\n",
       "    }\n",
       "\n",
       "    .dataframe thead th {\n",
       "        text-align: right;\n",
       "    }\n",
       "</style>\n",
       "<table border=\"1\" class=\"dataframe\">\n",
       "  <thead>\n",
       "    <tr style=\"text-align: right;\">\n",
       "      <th></th>\n",
       "      <th>sinfo1</th>\n",
       "      <th>sinfo2</th>\n",
       "      <th>sinfo3</th>\n",
       "      <th>sinfo4</th>\n",
       "      <th>sinfo5</th>\n",
       "      <th>sinfo6</th>\n",
       "      <th>sinfo7</th>\n",
       "      <th>sinfo8</th>\n",
       "      <th>sinfo9</th>\n",
       "      <th>sinfo10</th>\n",
       "    </tr>\n",
       "  </thead>\n",
       "  <tbody>\n",
       "    <tr>\n",
       "      <th>0</th>\n",
       "      <td>High</td>\n",
       "      <td>Medium</td>\n",
       "      <td>High</td>\n",
       "      <td>Not Used</td>\n",
       "      <td>High</td>\n",
       "      <td>Not Used</td>\n",
       "      <td>Not Used</td>\n",
       "      <td>Not Used</td>\n",
       "      <td>Not Used</td>\n",
       "      <td>High</td>\n",
       "    </tr>\n",
       "    <tr>\n",
       "      <th>1</th>\n",
       "      <td>High</td>\n",
       "      <td>High</td>\n",
       "      <td>Medium</td>\n",
       "      <td>Not Used</td>\n",
       "      <td>Not Used</td>\n",
       "      <td>Not Used</td>\n",
       "      <td>Not Used</td>\n",
       "      <td>Low</td>\n",
       "      <td>Low</td>\n",
       "      <td>Low</td>\n",
       "    </tr>\n",
       "    <tr>\n",
       "      <th>2</th>\n",
       "      <td></td>\n",
       "      <td></td>\n",
       "      <td></td>\n",
       "      <td></td>\n",
       "      <td></td>\n",
       "      <td></td>\n",
       "      <td></td>\n",
       "      <td></td>\n",
       "      <td></td>\n",
       "      <td></td>\n",
       "    </tr>\n",
       "    <tr>\n",
       "      <th>3</th>\n",
       "      <td>Not Used</td>\n",
       "      <td>Medium</td>\n",
       "      <td>Not Used</td>\n",
       "      <td>Not Used</td>\n",
       "      <td>Not Used</td>\n",
       "      <td>Not Used</td>\n",
       "      <td>Not Used</td>\n",
       "      <td>Not Used</td>\n",
       "      <td>Not Used</td>\n",
       "      <td>Not Used</td>\n",
       "    </tr>\n",
       "    <tr>\n",
       "      <th>4</th>\n",
       "      <td>Not Used</td>\n",
       "      <td>Not Used</td>\n",
       "      <td>Not Used</td>\n",
       "      <td>Not Used</td>\n",
       "      <td>Not Used</td>\n",
       "      <td>Not Used</td>\n",
       "      <td>Not Used</td>\n",
       "      <td>Not Used</td>\n",
       "      <td>Not Used</td>\n",
       "      <td>Not Used</td>\n",
       "    </tr>\n",
       "    <tr>\n",
       "      <th>...</th>\n",
       "      <td>...</td>\n",
       "      <td>...</td>\n",
       "      <td>...</td>\n",
       "      <td>...</td>\n",
       "      <td>...</td>\n",
       "      <td>...</td>\n",
       "      <td>...</td>\n",
       "      <td>...</td>\n",
       "      <td>...</td>\n",
       "      <td>...</td>\n",
       "    </tr>\n",
       "    <tr>\n",
       "      <th>1354</th>\n",
       "      <td>High</td>\n",
       "      <td>High</td>\n",
       "      <td>High</td>\n",
       "      <td>Medium</td>\n",
       "      <td>High</td>\n",
       "      <td>Low</td>\n",
       "      <td>Low</td>\n",
       "      <td>Low</td>\n",
       "      <td>Not Used</td>\n",
       "      <td>Medium</td>\n",
       "    </tr>\n",
       "    <tr>\n",
       "      <th>1355</th>\n",
       "      <td>High</td>\n",
       "      <td>Medium</td>\n",
       "      <td>Medium</td>\n",
       "      <td>Medium</td>\n",
       "      <td>Medium</td>\n",
       "      <td>Not Used</td>\n",
       "      <td>Not Used</td>\n",
       "      <td>Not Used</td>\n",
       "      <td>Not Used</td>\n",
       "      <td>High</td>\n",
       "    </tr>\n",
       "    <tr>\n",
       "      <th>1356</th>\n",
       "      <td>High</td>\n",
       "      <td>Medium</td>\n",
       "      <td>High</td>\n",
       "      <td>High</td>\n",
       "      <td>Medium</td>\n",
       "      <td>Low</td>\n",
       "      <td>Low</td>\n",
       "      <td>Low</td>\n",
       "      <td>Not Used</td>\n",
       "      <td>Low</td>\n",
       "    </tr>\n",
       "    <tr>\n",
       "      <th>1357</th>\n",
       "      <td>Medium</td>\n",
       "      <td>High</td>\n",
       "      <td>Not Used</td>\n",
       "      <td>High</td>\n",
       "      <td>Not Used</td>\n",
       "      <td>Not Used</td>\n",
       "      <td>Not Used</td>\n",
       "      <td></td>\n",
       "      <td>High</td>\n",
       "      <td></td>\n",
       "    </tr>\n",
       "    <tr>\n",
       "      <th>1358</th>\n",
       "      <td>High</td>\n",
       "      <td>High</td>\n",
       "      <td>Medium</td>\n",
       "      <td>Low</td>\n",
       "      <td>Medium</td>\n",
       "      <td>High</td>\n",
       "      <td>Low</td>\n",
       "      <td>Medium</td>\n",
       "      <td>Low</td>\n",
       "      <td>Medium</td>\n",
       "    </tr>\n",
       "  </tbody>\n",
       "</table>\n",
       "<p>1359 rows × 10 columns</p>\n",
       "</div>"
      ],
      "text/plain": [
       "        sinfo1    sinfo2    sinfo3    sinfo4    sinfo5    sinfo6    sinfo7  \\\n",
       "0         High    Medium      High  Not Used      High  Not Used  Not Used   \n",
       "1         High      High    Medium  Not Used  Not Used  Not Used  Not Used   \n",
       "2                                                                            \n",
       "3     Not Used    Medium  Not Used  Not Used  Not Used  Not Used  Not Used   \n",
       "4     Not Used  Not Used  Not Used  Not Used  Not Used  Not Used  Not Used   \n",
       "...        ...       ...       ...       ...       ...       ...       ...   \n",
       "1354      High      High      High    Medium      High       Low       Low   \n",
       "1355      High    Medium    Medium    Medium    Medium  Not Used  Not Used   \n",
       "1356      High    Medium      High      High    Medium       Low       Low   \n",
       "1357    Medium      High  Not Used      High  Not Used  Not Used  Not Used   \n",
       "1358      High      High    Medium       Low    Medium      High       Low   \n",
       "\n",
       "        sinfo8    sinfo9   sinfo10  \n",
       "0     Not Used  Not Used      High  \n",
       "1          Low       Low       Low  \n",
       "2                                   \n",
       "3     Not Used  Not Used  Not Used  \n",
       "4     Not Used  Not Used  Not Used  \n",
       "...        ...       ...       ...  \n",
       "1354       Low  Not Used    Medium  \n",
       "1355  Not Used  Not Used      High  \n",
       "1356       Low  Not Used       Low  \n",
       "1357                High            \n",
       "1358    Medium       Low    Medium  \n",
       "\n",
       "[1359 rows x 10 columns]"
      ]
     },
     "execution_count": 50,
     "metadata": {},
     "output_type": "execute_result"
    }
   ],
   "source": [
    "df6#5"
   ]
  },
  {
   "cell_type": "code",
   "execution_count": null,
   "metadata": {},
   "outputs": [],
   "source": [
    "1,3,5,8,9,10"
   ]
  },
  {
   "cell_type": "code",
   "execution_count": null,
   "metadata": {},
   "outputs": [
    {
     "data": {
      "application/vnd.plotly.v1+json": {
       "config": {
        "plotlyServerURL": "https://plot.ly"
       },
       "data": [
        {
         "alignmentgroup": "True",
         "bingroup": "x",
         "hovertemplate": "sinfo1=%{x}<br>count=%{y}<extra></extra>",
         "legendgroup": "High",
         "marker": {
          "color": "#636efa",
          "pattern": {
           "shape": ""
          }
         },
         "name": "High",
         "offsetgroup": "High",
         "orientation": "v",
         "showlegend": true,
         "type": "histogram",
         "x": [
          "High",
          "High",
          "High",
          "High",
          "High",
          "High",
          "High",
          "High",
          "High",
          "High",
          "High",
          "High",
          "High",
          "High",
          "High",
          "High",
          "High",
          "High",
          "High",
          "High",
          "High",
          "High",
          "High",
          "High",
          "High",
          "High",
          "High",
          "High",
          "High",
          "High",
          "High",
          "High",
          "High",
          "High",
          "High",
          "High",
          "High",
          "High",
          "High",
          "High",
          "High",
          "High",
          "High",
          "High",
          "High",
          "High",
          "High",
          "High",
          "High",
          "High",
          "High",
          "High",
          "High",
          "High",
          "High",
          "High",
          "High",
          "High",
          "High",
          "High",
          "High",
          "High",
          "High",
          "High",
          "High",
          "High",
          "High",
          "High",
          "High",
          "High",
          "High",
          "High",
          "High",
          "High",
          "High",
          "High",
          "High",
          "High",
          "High",
          "High",
          "High",
          "High",
          "High",
          "High",
          "High",
          "High",
          "High",
          "High",
          "High",
          "High",
          "High",
          "High",
          "High",
          "High",
          "High",
          "High",
          "High",
          "High",
          "High",
          "High",
          "High",
          "High",
          "High",
          "High",
          "High",
          "High",
          "High",
          "High",
          "High",
          "High",
          "High",
          "High",
          "High",
          "High",
          "High",
          "High",
          "High",
          "High",
          "High",
          "High",
          "High",
          "High",
          "High",
          "High",
          "High",
          "High",
          "High",
          "High",
          "High",
          "High",
          "High",
          "High",
          "High",
          "High",
          "High",
          "High",
          "High",
          "High",
          "High",
          "High",
          "High",
          "High",
          "High",
          "High",
          "High",
          "High",
          "High",
          "High",
          "High",
          "High",
          "High",
          "High",
          "High",
          "High",
          "High",
          "High",
          "High",
          "High",
          "High",
          "High",
          "High",
          "High",
          "High",
          "High",
          "High",
          "High",
          "High",
          "High",
          "High",
          "High",
          "High",
          "High",
          "High",
          "High",
          "High",
          "High",
          "High",
          "High",
          "High",
          "High",
          "High",
          "High",
          "High",
          "High",
          "High",
          "High",
          "High",
          "High",
          "High",
          "High",
          "High",
          "High",
          "High",
          "High",
          "High",
          "High",
          "High",
          "High",
          "High",
          "High",
          "High",
          "High",
          "High",
          "High",
          "High",
          "High",
          "High",
          "High",
          "High",
          "High",
          "High",
          "High",
          "High",
          "High",
          "High",
          "High",
          "High",
          "High",
          "High",
          "High",
          "High",
          "High",
          "High",
          "High",
          "High",
          "High",
          "High",
          "High",
          "High",
          "High",
          "High",
          "High",
          "High",
          "High",
          "High",
          "High",
          "High",
          "High",
          "High",
          "High",
          "High",
          "High",
          "High",
          "High",
          "High",
          "High",
          "High",
          "High",
          "High",
          "High",
          "High",
          "High",
          "High",
          "High",
          "High",
          "High",
          "High",
          "High",
          "High",
          "High",
          "High",
          "High",
          "High",
          "High",
          "High",
          "High",
          "High",
          "High",
          "High",
          "High",
          "High",
          "High",
          "High",
          "High",
          "High",
          "High",
          "High",
          "High",
          "High",
          "High",
          "High",
          "High",
          "High",
          "High",
          "High",
          "High",
          "High",
          "High",
          "High",
          "High",
          "High",
          "High",
          "High",
          "High",
          "High",
          "High",
          "High",
          "High",
          "High",
          "High",
          "High",
          "High",
          "High",
          "High",
          "High",
          "High",
          "High",
          "High",
          "High",
          "High",
          "High",
          "High",
          "High",
          "High",
          "High",
          "High",
          "High",
          "High",
          "High",
          "High",
          "High",
          "High",
          "High",
          "High",
          "High",
          "High",
          "High",
          "High",
          "High",
          "High",
          "High",
          "High",
          "High",
          "High",
          "High",
          "High",
          "High",
          "High",
          "High",
          "High",
          "High",
          "High",
          "High",
          "High",
          "High",
          "High",
          "High",
          "High",
          "High",
          "High",
          "High",
          "High",
          "High",
          "High",
          "High",
          "High",
          "High",
          "High",
          "High",
          "High",
          "High",
          "High",
          "High",
          "High",
          "High",
          "High",
          "High",
          "High",
          "High",
          "High",
          "High",
          "High",
          "High",
          "High",
          "High",
          "High",
          "High",
          "High",
          "High",
          "High",
          "High",
          "High",
          "High",
          "High",
          "High",
          "High",
          "High",
          "High",
          "High",
          "High",
          "High",
          "High",
          "High",
          "High",
          "High",
          "High",
          "High",
          "High",
          "High",
          "High",
          "High",
          "High",
          "High",
          "High",
          "High",
          "High",
          "High",
          "High",
          "High",
          "High",
          "High",
          "High",
          "High",
          "High",
          "High",
          "High",
          "High",
          "High",
          "High",
          "High",
          "High",
          "High",
          "High",
          "High",
          "High",
          "High",
          "High",
          "High",
          "High",
          "High",
          "High",
          "High",
          "High",
          "High",
          "High",
          "High",
          "High",
          "High",
          "High",
          "High",
          "High",
          "High",
          "High",
          "High",
          "High",
          "High",
          "High",
          "High",
          "High",
          "High",
          "High",
          "High",
          "High",
          "High",
          "High",
          "High",
          "High",
          "High",
          "High",
          "High"
         ],
         "xaxis": "x",
         "yaxis": "y"
        },
        {
         "alignmentgroup": "True",
         "bingroup": "x",
         "hovertemplate": "sinfo1=%{x}<br>count=%{y}<extra></extra>",
         "legendgroup": " ",
         "marker": {
          "color": "#EF553B",
          "pattern": {
           "shape": ""
          }
         },
         "name": " ",
         "offsetgroup": " ",
         "orientation": "v",
         "showlegend": true,
         "type": "histogram",
         "x": [
          " ",
          " ",
          " ",
          " ",
          " ",
          " ",
          " ",
          " ",
          " ",
          " ",
          " ",
          " ",
          " ",
          " ",
          " ",
          " ",
          " ",
          " ",
          " ",
          " ",
          " ",
          " ",
          " ",
          " ",
          " ",
          " ",
          " ",
          " ",
          " ",
          " ",
          " ",
          " ",
          " ",
          " ",
          " ",
          " ",
          " ",
          " ",
          " ",
          " ",
          " ",
          " ",
          " ",
          " ",
          " ",
          " ",
          " ",
          " ",
          " ",
          " ",
          " ",
          " ",
          " ",
          " ",
          " ",
          " ",
          " ",
          " ",
          " ",
          " ",
          " ",
          " ",
          " ",
          " ",
          " ",
          " ",
          " ",
          " ",
          " ",
          " ",
          " ",
          " ",
          " ",
          " ",
          " ",
          " ",
          " ",
          " ",
          " ",
          " ",
          " ",
          " ",
          " ",
          " ",
          " ",
          " ",
          " ",
          " ",
          " ",
          " ",
          " ",
          " ",
          " ",
          " ",
          " ",
          " ",
          " ",
          " ",
          " ",
          " ",
          " ",
          " ",
          " ",
          " ",
          " ",
          " ",
          " ",
          " ",
          " ",
          " ",
          " ",
          " ",
          " ",
          " ",
          " ",
          " ",
          " ",
          " ",
          " ",
          " ",
          " ",
          " ",
          " ",
          " ",
          " ",
          " ",
          " ",
          " ",
          " ",
          " ",
          " ",
          " ",
          " ",
          " ",
          " ",
          " ",
          " ",
          " ",
          " ",
          " ",
          " ",
          " ",
          " ",
          " ",
          " ",
          " ",
          " ",
          " ",
          " ",
          " ",
          " ",
          " ",
          " ",
          " ",
          " ",
          " ",
          " ",
          " ",
          " ",
          " ",
          " ",
          " ",
          " ",
          " ",
          " ",
          " ",
          " ",
          " ",
          " ",
          " ",
          " ",
          " ",
          " ",
          " ",
          " ",
          " ",
          " ",
          " ",
          " ",
          " ",
          " ",
          " ",
          " ",
          " ",
          " ",
          " ",
          " ",
          " ",
          " ",
          " ",
          " ",
          " ",
          " ",
          " ",
          " ",
          " ",
          " ",
          " ",
          " ",
          " ",
          " ",
          " ",
          " ",
          " ",
          " ",
          " ",
          " ",
          " ",
          " ",
          " ",
          " ",
          " ",
          " ",
          " ",
          " ",
          " ",
          " ",
          " ",
          " ",
          " ",
          " ",
          " ",
          " ",
          " ",
          " ",
          " ",
          " ",
          " ",
          " ",
          " ",
          " ",
          " ",
          " ",
          " ",
          " ",
          " ",
          " ",
          " ",
          " ",
          " ",
          " ",
          " ",
          " ",
          " ",
          " ",
          " ",
          " ",
          " ",
          " ",
          " ",
          " ",
          " ",
          " ",
          " ",
          " ",
          " ",
          " ",
          " ",
          " ",
          " ",
          " ",
          " ",
          " ",
          " ",
          " ",
          " ",
          " ",
          " ",
          " ",
          " ",
          " ",
          " ",
          " ",
          " ",
          " ",
          " ",
          " ",
          " ",
          " ",
          " ",
          " ",
          " ",
          " ",
          " ",
          " ",
          " ",
          " ",
          " ",
          " ",
          " ",
          " ",
          " ",
          " ",
          " ",
          " ",
          " ",
          " ",
          " ",
          " ",
          " ",
          " ",
          " ",
          " ",
          " ",
          " ",
          " ",
          " ",
          " ",
          " ",
          " ",
          " ",
          " ",
          " ",
          " ",
          " ",
          " ",
          " ",
          " ",
          " ",
          " ",
          " ",
          " ",
          " ",
          " ",
          " ",
          " ",
          " ",
          " ",
          " ",
          " ",
          " ",
          " ",
          " ",
          " ",
          " ",
          " ",
          " ",
          " ",
          " ",
          " ",
          " ",
          " ",
          " ",
          " ",
          " ",
          " ",
          " ",
          " ",
          " ",
          " ",
          " ",
          " ",
          " ",
          " ",
          " ",
          " ",
          " ",
          " ",
          " ",
          " ",
          " ",
          " ",
          " ",
          " ",
          " ",
          " ",
          " ",
          " ",
          " ",
          " ",
          " ",
          " ",
          " ",
          " ",
          " ",
          " ",
          " ",
          " ",
          " ",
          " ",
          " ",
          " ",
          " ",
          " ",
          " ",
          " ",
          " ",
          " ",
          " ",
          " ",
          " ",
          " ",
          " ",
          " ",
          " ",
          " ",
          " ",
          " ",
          " ",
          " ",
          " ",
          " ",
          " ",
          " ",
          " ",
          " ",
          " ",
          " ",
          " ",
          " ",
          " ",
          " ",
          " ",
          " ",
          " ",
          " ",
          " ",
          " ",
          " ",
          " ",
          " ",
          " ",
          " ",
          " ",
          " ",
          " ",
          " ",
          " ",
          " ",
          " ",
          " ",
          " ",
          " ",
          " ",
          " ",
          " ",
          " ",
          " ",
          " ",
          " ",
          " ",
          " ",
          " ",
          " "
         ],
         "xaxis": "x",
         "yaxis": "y"
        },
        {
         "alignmentgroup": "True",
         "bingroup": "x",
         "hovertemplate": "sinfo1=%{x}<br>count=%{y}<extra></extra>",
         "legendgroup": "Not Used",
         "marker": {
          "color": "#00cc96",
          "pattern": {
           "shape": ""
          }
         },
         "name": "Not Used",
         "offsetgroup": "Not Used",
         "orientation": "v",
         "showlegend": true,
         "type": "histogram",
         "x": [
          "Not Used",
          "Not Used",
          "Not Used",
          "Not Used",
          "Not Used",
          "Not Used",
          "Not Used",
          "Not Used",
          "Not Used",
          "Not Used",
          "Not Used",
          "Not Used",
          "Not Used",
          "Not Used",
          "Not Used",
          "Not Used",
          "Not Used",
          "Not Used",
          "Not Used",
          "Not Used",
          "Not Used",
          "Not Used",
          "Not Used",
          "Not Used",
          "Not Used",
          "Not Used",
          "Not Used",
          "Not Used",
          "Not Used",
          "Not Used",
          "Not Used",
          "Not Used",
          "Not Used",
          "Not Used",
          "Not Used",
          "Not Used",
          "Not Used",
          "Not Used",
          "Not Used",
          "Not Used",
          "Not Used",
          "Not Used",
          "Not Used",
          "Not Used",
          "Not Used",
          "Not Used",
          "Not Used",
          "Not Used",
          "Not Used",
          "Not Used",
          "Not Used",
          "Not Used",
          "Not Used",
          "Not Used",
          "Not Used",
          "Not Used",
          "Not Used",
          "Not Used",
          "Not Used",
          "Not Used",
          "Not Used",
          "Not Used",
          "Not Used",
          "Not Used",
          "Not Used",
          "Not Used",
          "Not Used",
          "Not Used",
          "Not Used",
          "Not Used",
          "Not Used",
          "Not Used",
          "Not Used",
          "Not Used",
          "Not Used",
          "Not Used",
          "Not Used",
          "Not Used",
          "Not Used",
          "Not Used",
          "Not Used",
          "Not Used",
          "Not Used",
          "Not Used",
          "Not Used",
          "Not Used",
          "Not Used",
          "Not Used",
          "Not Used",
          "Not Used",
          "Not Used",
          "Not Used",
          "Not Used",
          "Not Used",
          "Not Used",
          "Not Used",
          "Not Used",
          "Not Used",
          "Not Used",
          "Not Used",
          "Not Used",
          "Not Used",
          "Not Used",
          "Not Used",
          "Not Used",
          "Not Used",
          "Not Used",
          "Not Used",
          "Not Used",
          "Not Used",
          "Not Used",
          "Not Used",
          "Not Used",
          "Not Used",
          "Not Used",
          "Not Used",
          "Not Used",
          "Not Used",
          "Not Used",
          "Not Used",
          "Not Used",
          "Not Used",
          "Not Used",
          "Not Used",
          "Not Used",
          "Not Used",
          "Not Used",
          "Not Used",
          "Not Used",
          "Not Used",
          "Not Used",
          "Not Used",
          "Not Used",
          "Not Used",
          "Not Used",
          "Not Used",
          "Not Used",
          "Not Used"
         ],
         "xaxis": "x",
         "yaxis": "y"
        },
        {
         "alignmentgroup": "True",
         "bingroup": "x",
         "hovertemplate": "sinfo1=%{x}<br>count=%{y}<extra></extra>",
         "legendgroup": "Medium",
         "marker": {
          "color": "#ab63fa",
          "pattern": {
           "shape": ""
          }
         },
         "name": "Medium",
         "offsetgroup": "Medium",
         "orientation": "v",
         "showlegend": true,
         "type": "histogram",
         "x": [
          "Medium",
          "Medium",
          "Medium",
          "Medium",
          "Medium",
          "Medium",
          "Medium",
          "Medium",
          "Medium",
          "Medium",
          "Medium",
          "Medium",
          "Medium",
          "Medium",
          "Medium",
          "Medium",
          "Medium",
          "Medium",
          "Medium",
          "Medium",
          "Medium",
          "Medium",
          "Medium",
          "Medium",
          "Medium",
          "Medium",
          "Medium",
          "Medium",
          "Medium",
          "Medium",
          "Medium",
          "Medium",
          "Medium",
          "Medium",
          "Medium",
          "Medium",
          "Medium",
          "Medium",
          "Medium",
          "Medium",
          "Medium",
          "Medium",
          "Medium",
          "Medium",
          "Medium",
          "Medium",
          "Medium",
          "Medium",
          "Medium",
          "Medium",
          "Medium",
          "Medium",
          "Medium",
          "Medium",
          "Medium",
          "Medium",
          "Medium",
          "Medium",
          "Medium",
          "Medium",
          "Medium",
          "Medium",
          "Medium",
          "Medium",
          "Medium",
          "Medium",
          "Medium",
          "Medium",
          "Medium",
          "Medium",
          "Medium",
          "Medium",
          "Medium",
          "Medium",
          "Medium",
          "Medium",
          "Medium",
          "Medium",
          "Medium",
          "Medium",
          "Medium",
          "Medium",
          "Medium",
          "Medium",
          "Medium",
          "Medium",
          "Medium",
          "Medium",
          "Medium",
          "Medium",
          "Medium",
          "Medium",
          "Medium",
          "Medium",
          "Medium",
          "Medium",
          "Medium",
          "Medium",
          "Medium",
          "Medium",
          "Medium",
          "Medium",
          "Medium",
          "Medium",
          "Medium",
          "Medium",
          "Medium",
          "Medium",
          "Medium",
          "Medium",
          "Medium",
          "Medium",
          "Medium",
          "Medium",
          "Medium",
          "Medium",
          "Medium",
          "Medium",
          "Medium",
          "Medium",
          "Medium",
          "Medium",
          "Medium",
          "Medium",
          "Medium",
          "Medium",
          "Medium",
          "Medium",
          "Medium",
          "Medium",
          "Medium",
          "Medium",
          "Medium",
          "Medium",
          "Medium",
          "Medium",
          "Medium",
          "Medium",
          "Medium",
          "Medium",
          "Medium",
          "Medium",
          "Medium",
          "Medium",
          "Medium",
          "Medium",
          "Medium",
          "Medium",
          "Medium",
          "Medium",
          "Medium",
          "Medium",
          "Medium",
          "Medium",
          "Medium",
          "Medium",
          "Medium",
          "Medium",
          "Medium",
          "Medium",
          "Medium",
          "Medium",
          "Medium",
          "Medium",
          "Medium",
          "Medium",
          "Medium",
          "Medium",
          "Medium",
          "Medium",
          "Medium",
          "Medium",
          "Medium",
          "Medium",
          "Medium",
          "Medium",
          "Medium",
          "Medium",
          "Medium",
          "Medium",
          "Medium",
          "Medium",
          "Medium",
          "Medium",
          "Medium",
          "Medium",
          "Medium",
          "Medium",
          "Medium",
          "Medium",
          "Medium",
          "Medium",
          "Medium",
          "Medium",
          "Medium",
          "Medium",
          "Medium",
          "Medium",
          "Medium",
          "Medium",
          "Medium",
          "Medium",
          "Medium",
          "Medium",
          "Medium",
          "Medium",
          "Medium",
          "Medium",
          "Medium",
          "Medium",
          "Medium",
          "Medium",
          "Medium",
          "Medium",
          "Medium",
          "Medium",
          "Medium",
          "Medium",
          "Medium",
          "Medium",
          "Medium",
          "Medium",
          "Medium",
          "Medium",
          "Medium",
          "Medium",
          "Medium",
          "Medium",
          "Medium",
          "Medium",
          "Medium",
          "Medium",
          "Medium",
          "Medium",
          "Medium",
          "Medium",
          "Medium",
          "Medium",
          "Medium",
          "Medium",
          "Medium",
          "Medium",
          "Medium",
          "Medium",
          "Medium",
          "Medium",
          "Medium",
          "Medium",
          "Medium",
          "Medium",
          "Medium",
          "Medium",
          "Medium",
          "Medium",
          "Medium",
          "Medium",
          "Medium",
          "Medium",
          "Medium",
          "Medium"
         ],
         "xaxis": "x",
         "yaxis": "y"
        },
        {
         "alignmentgroup": "True",
         "bingroup": "x",
         "hovertemplate": "sinfo1=%{x}<br>count=%{y}<extra></extra>",
         "legendgroup": "Low",
         "marker": {
          "color": "#FFA15A",
          "pattern": {
           "shape": ""
          }
         },
         "name": "Low",
         "offsetgroup": "Low",
         "orientation": "v",
         "showlegend": true,
         "type": "histogram",
         "x": [
          "Low",
          "Low",
          "Low",
          "Low",
          "Low",
          "Low",
          "Low",
          "Low",
          "Low",
          "Low",
          "Low",
          "Low",
          "Low",
          "Low",
          "Low",
          "Low",
          "Low",
          "Low",
          "Low",
          "Low",
          "Low",
          "Low",
          "Low",
          "Low",
          "Low",
          "Low",
          "Low",
          "Low",
          "Low",
          "Low",
          "Low",
          "Low",
          "Low",
          "Low",
          "Low",
          "Low",
          "Low",
          "Low",
          "Low",
          "Low",
          "Low",
          "Low",
          "Low",
          "Low",
          "Low",
          "Low",
          "Low",
          "Low",
          "Low",
          "Low",
          "Low",
          "Low",
          "Low",
          "Low",
          "Low",
          "Low",
          "Low"
         ],
         "xaxis": "x",
         "yaxis": "y"
        }
       ],
       "layout": {
        "barmode": "relative",
        "height": 600,
        "legend": {
         "title": {
          "text": "sinfo1"
         },
         "tracegroupgap": 0
        },
        "margin": {
         "b": 20,
         "l": 20,
         "r": 20,
         "t": 20
        },
        "paper_bgcolor": "#202A44",
        "template": {
         "data": {
          "bar": [
           {
            "error_x": {
             "color": "#2a3f5f"
            },
            "error_y": {
             "color": "#2a3f5f"
            },
            "marker": {
             "line": {
              "color": "#E5ECF6",
              "width": 0.5
             },
             "pattern": {
              "fillmode": "overlay",
              "size": 10,
              "solidity": 0.2
             }
            },
            "type": "bar"
           }
          ],
          "barpolar": [
           {
            "marker": {
             "line": {
              "color": "#E5ECF6",
              "width": 0.5
             },
             "pattern": {
              "fillmode": "overlay",
              "size": 10,
              "solidity": 0.2
             }
            },
            "type": "barpolar"
           }
          ],
          "carpet": [
           {
            "aaxis": {
             "endlinecolor": "#2a3f5f",
             "gridcolor": "white",
             "linecolor": "white",
             "minorgridcolor": "white",
             "startlinecolor": "#2a3f5f"
            },
            "baxis": {
             "endlinecolor": "#2a3f5f",
             "gridcolor": "white",
             "linecolor": "white",
             "minorgridcolor": "white",
             "startlinecolor": "#2a3f5f"
            },
            "type": "carpet"
           }
          ],
          "choropleth": [
           {
            "colorbar": {
             "outlinewidth": 0,
             "ticks": ""
            },
            "type": "choropleth"
           }
          ],
          "contour": [
           {
            "colorbar": {
             "outlinewidth": 0,
             "ticks": ""
            },
            "colorscale": [
             [
              0,
              "#0d0887"
             ],
             [
              0.1111111111111111,
              "#46039f"
             ],
             [
              0.2222222222222222,
              "#7201a8"
             ],
             [
              0.3333333333333333,
              "#9c179e"
             ],
             [
              0.4444444444444444,
              "#bd3786"
             ],
             [
              0.5555555555555556,
              "#d8576b"
             ],
             [
              0.6666666666666666,
              "#ed7953"
             ],
             [
              0.7777777777777778,
              "#fb9f3a"
             ],
             [
              0.8888888888888888,
              "#fdca26"
             ],
             [
              1,
              "#f0f921"
             ]
            ],
            "type": "contour"
           }
          ],
          "contourcarpet": [
           {
            "colorbar": {
             "outlinewidth": 0,
             "ticks": ""
            },
            "type": "contourcarpet"
           }
          ],
          "heatmap": [
           {
            "colorbar": {
             "outlinewidth": 0,
             "ticks": ""
            },
            "colorscale": [
             [
              0,
              "#0d0887"
             ],
             [
              0.1111111111111111,
              "#46039f"
             ],
             [
              0.2222222222222222,
              "#7201a8"
             ],
             [
              0.3333333333333333,
              "#9c179e"
             ],
             [
              0.4444444444444444,
              "#bd3786"
             ],
             [
              0.5555555555555556,
              "#d8576b"
             ],
             [
              0.6666666666666666,
              "#ed7953"
             ],
             [
              0.7777777777777778,
              "#fb9f3a"
             ],
             [
              0.8888888888888888,
              "#fdca26"
             ],
             [
              1,
              "#f0f921"
             ]
            ],
            "type": "heatmap"
           }
          ],
          "heatmapgl": [
           {
            "colorbar": {
             "outlinewidth": 0,
             "ticks": ""
            },
            "colorscale": [
             [
              0,
              "#0d0887"
             ],
             [
              0.1111111111111111,
              "#46039f"
             ],
             [
              0.2222222222222222,
              "#7201a8"
             ],
             [
              0.3333333333333333,
              "#9c179e"
             ],
             [
              0.4444444444444444,
              "#bd3786"
             ],
             [
              0.5555555555555556,
              "#d8576b"
             ],
             [
              0.6666666666666666,
              "#ed7953"
             ],
             [
              0.7777777777777778,
              "#fb9f3a"
             ],
             [
              0.8888888888888888,
              "#fdca26"
             ],
             [
              1,
              "#f0f921"
             ]
            ],
            "type": "heatmapgl"
           }
          ],
          "histogram": [
           {
            "marker": {
             "pattern": {
              "fillmode": "overlay",
              "size": 10,
              "solidity": 0.2
             }
            },
            "type": "histogram"
           }
          ],
          "histogram2d": [
           {
            "colorbar": {
             "outlinewidth": 0,
             "ticks": ""
            },
            "colorscale": [
             [
              0,
              "#0d0887"
             ],
             [
              0.1111111111111111,
              "#46039f"
             ],
             [
              0.2222222222222222,
              "#7201a8"
             ],
             [
              0.3333333333333333,
              "#9c179e"
             ],
             [
              0.4444444444444444,
              "#bd3786"
             ],
             [
              0.5555555555555556,
              "#d8576b"
             ],
             [
              0.6666666666666666,
              "#ed7953"
             ],
             [
              0.7777777777777778,
              "#fb9f3a"
             ],
             [
              0.8888888888888888,
              "#fdca26"
             ],
             [
              1,
              "#f0f921"
             ]
            ],
            "type": "histogram2d"
           }
          ],
          "histogram2dcontour": [
           {
            "colorbar": {
             "outlinewidth": 0,
             "ticks": ""
            },
            "colorscale": [
             [
              0,
              "#0d0887"
             ],
             [
              0.1111111111111111,
              "#46039f"
             ],
             [
              0.2222222222222222,
              "#7201a8"
             ],
             [
              0.3333333333333333,
              "#9c179e"
             ],
             [
              0.4444444444444444,
              "#bd3786"
             ],
             [
              0.5555555555555556,
              "#d8576b"
             ],
             [
              0.6666666666666666,
              "#ed7953"
             ],
             [
              0.7777777777777778,
              "#fb9f3a"
             ],
             [
              0.8888888888888888,
              "#fdca26"
             ],
             [
              1,
              "#f0f921"
             ]
            ],
            "type": "histogram2dcontour"
           }
          ],
          "mesh3d": [
           {
            "colorbar": {
             "outlinewidth": 0,
             "ticks": ""
            },
            "type": "mesh3d"
           }
          ],
          "parcoords": [
           {
            "line": {
             "colorbar": {
              "outlinewidth": 0,
              "ticks": ""
             }
            },
            "type": "parcoords"
           }
          ],
          "pie": [
           {
            "automargin": true,
            "type": "pie"
           }
          ],
          "scatter": [
           {
            "fillpattern": {
             "fillmode": "overlay",
             "size": 10,
             "solidity": 0.2
            },
            "type": "scatter"
           }
          ],
          "scatter3d": [
           {
            "line": {
             "colorbar": {
              "outlinewidth": 0,
              "ticks": ""
             }
            },
            "marker": {
             "colorbar": {
              "outlinewidth": 0,
              "ticks": ""
             }
            },
            "type": "scatter3d"
           }
          ],
          "scattercarpet": [
           {
            "marker": {
             "colorbar": {
              "outlinewidth": 0,
              "ticks": ""
             }
            },
            "type": "scattercarpet"
           }
          ],
          "scattergeo": [
           {
            "marker": {
             "colorbar": {
              "outlinewidth": 0,
              "ticks": ""
             }
            },
            "type": "scattergeo"
           }
          ],
          "scattergl": [
           {
            "marker": {
             "colorbar": {
              "outlinewidth": 0,
              "ticks": ""
             }
            },
            "type": "scattergl"
           }
          ],
          "scattermapbox": [
           {
            "marker": {
             "colorbar": {
              "outlinewidth": 0,
              "ticks": ""
             }
            },
            "type": "scattermapbox"
           }
          ],
          "scatterpolar": [
           {
            "marker": {
             "colorbar": {
              "outlinewidth": 0,
              "ticks": ""
             }
            },
            "type": "scatterpolar"
           }
          ],
          "scatterpolargl": [
           {
            "marker": {
             "colorbar": {
              "outlinewidth": 0,
              "ticks": ""
             }
            },
            "type": "scatterpolargl"
           }
          ],
          "scatterternary": [
           {
            "marker": {
             "colorbar": {
              "outlinewidth": 0,
              "ticks": ""
             }
            },
            "type": "scatterternary"
           }
          ],
          "surface": [
           {
            "colorbar": {
             "outlinewidth": 0,
             "ticks": ""
            },
            "colorscale": [
             [
              0,
              "#0d0887"
             ],
             [
              0.1111111111111111,
              "#46039f"
             ],
             [
              0.2222222222222222,
              "#7201a8"
             ],
             [
              0.3333333333333333,
              "#9c179e"
             ],
             [
              0.4444444444444444,
              "#bd3786"
             ],
             [
              0.5555555555555556,
              "#d8576b"
             ],
             [
              0.6666666666666666,
              "#ed7953"
             ],
             [
              0.7777777777777778,
              "#fb9f3a"
             ],
             [
              0.8888888888888888,
              "#fdca26"
             ],
             [
              1,
              "#f0f921"
             ]
            ],
            "type": "surface"
           }
          ],
          "table": [
           {
            "cells": {
             "fill": {
              "color": "#EBF0F8"
             },
             "line": {
              "color": "white"
             }
            },
            "header": {
             "fill": {
              "color": "#C8D4E3"
             },
             "line": {
              "color": "white"
             }
            },
            "type": "table"
           }
          ]
         },
         "layout": {
          "annotationdefaults": {
           "arrowcolor": "#2a3f5f",
           "arrowhead": 0,
           "arrowwidth": 1
          },
          "autotypenumbers": "strict",
          "coloraxis": {
           "colorbar": {
            "outlinewidth": 0,
            "ticks": ""
           }
          },
          "colorscale": {
           "diverging": [
            [
             0,
             "#8e0152"
            ],
            [
             0.1,
             "#c51b7d"
            ],
            [
             0.2,
             "#de77ae"
            ],
            [
             0.3,
             "#f1b6da"
            ],
            [
             0.4,
             "#fde0ef"
            ],
            [
             0.5,
             "#f7f7f7"
            ],
            [
             0.6,
             "#e6f5d0"
            ],
            [
             0.7,
             "#b8e186"
            ],
            [
             0.8,
             "#7fbc41"
            ],
            [
             0.9,
             "#4d9221"
            ],
            [
             1,
             "#276419"
            ]
           ],
           "sequential": [
            [
             0,
             "#0d0887"
            ],
            [
             0.1111111111111111,
             "#46039f"
            ],
            [
             0.2222222222222222,
             "#7201a8"
            ],
            [
             0.3333333333333333,
             "#9c179e"
            ],
            [
             0.4444444444444444,
             "#bd3786"
            ],
            [
             0.5555555555555556,
             "#d8576b"
            ],
            [
             0.6666666666666666,
             "#ed7953"
            ],
            [
             0.7777777777777778,
             "#fb9f3a"
            ],
            [
             0.8888888888888888,
             "#fdca26"
            ],
            [
             1,
             "#f0f921"
            ]
           ],
           "sequentialminus": [
            [
             0,
             "#0d0887"
            ],
            [
             0.1111111111111111,
             "#46039f"
            ],
            [
             0.2222222222222222,
             "#7201a8"
            ],
            [
             0.3333333333333333,
             "#9c179e"
            ],
            [
             0.4444444444444444,
             "#bd3786"
            ],
            [
             0.5555555555555556,
             "#d8576b"
            ],
            [
             0.6666666666666666,
             "#ed7953"
            ],
            [
             0.7777777777777778,
             "#fb9f3a"
            ],
            [
             0.8888888888888888,
             "#fdca26"
            ],
            [
             1,
             "#f0f921"
            ]
           ]
          },
          "colorway": [
           "#636efa",
           "#EF553B",
           "#00cc96",
           "#ab63fa",
           "#FFA15A",
           "#19d3f3",
           "#FF6692",
           "#B6E880",
           "#FF97FF",
           "#FECB52"
          ],
          "font": {
           "color": "#2a3f5f"
          },
          "geo": {
           "bgcolor": "white",
           "lakecolor": "white",
           "landcolor": "#E5ECF6",
           "showlakes": true,
           "showland": true,
           "subunitcolor": "white"
          },
          "hoverlabel": {
           "align": "left"
          },
          "hovermode": "closest",
          "mapbox": {
           "style": "light"
          },
          "paper_bgcolor": "white",
          "plot_bgcolor": "#E5ECF6",
          "polar": {
           "angularaxis": {
            "gridcolor": "white",
            "linecolor": "white",
            "ticks": ""
           },
           "bgcolor": "#E5ECF6",
           "radialaxis": {
            "gridcolor": "white",
            "linecolor": "white",
            "ticks": ""
           }
          },
          "scene": {
           "xaxis": {
            "backgroundcolor": "#E5ECF6",
            "gridcolor": "white",
            "gridwidth": 2,
            "linecolor": "white",
            "showbackground": true,
            "ticks": "",
            "zerolinecolor": "white"
           },
           "yaxis": {
            "backgroundcolor": "#E5ECF6",
            "gridcolor": "white",
            "gridwidth": 2,
            "linecolor": "white",
            "showbackground": true,
            "ticks": "",
            "zerolinecolor": "white"
           },
           "zaxis": {
            "backgroundcolor": "#E5ECF6",
            "gridcolor": "white",
            "gridwidth": 2,
            "linecolor": "white",
            "showbackground": true,
            "ticks": "",
            "zerolinecolor": "white"
           }
          },
          "shapedefaults": {
           "line": {
            "color": "#2a3f5f"
           }
          },
          "ternary": {
           "aaxis": {
            "gridcolor": "white",
            "linecolor": "white",
            "ticks": ""
           },
           "baxis": {
            "gridcolor": "white",
            "linecolor": "white",
            "ticks": ""
           },
           "bgcolor": "#E5ECF6",
           "caxis": {
            "gridcolor": "white",
            "linecolor": "white",
            "ticks": ""
           }
          },
          "title": {
           "x": 0.05
          },
          "xaxis": {
           "automargin": true,
           "gridcolor": "white",
           "linecolor": "white",
           "ticks": "",
           "title": {
            "standoff": 15
           },
           "zerolinecolor": "white",
           "zerolinewidth": 2
          },
          "yaxis": {
           "automargin": true,
           "gridcolor": "white",
           "linecolor": "white",
           "ticks": "",
           "title": {
            "standoff": 15
           },
           "zerolinecolor": "white",
           "zerolinewidth": 2
          }
         }
        },
        "width": 800,
        "xaxis": {
         "anchor": "y",
         "categoryarray": [
          "High",
          " ",
          "Not Used",
          "Medium",
          "Low"
         ],
         "categoryorder": "array",
         "domain": [
          0,
          1
         ],
         "title": {
          "text": "sinfo1"
         }
        },
        "yaxis": {
         "anchor": "x",
         "domain": [
          0,
          1
         ],
         "title": {
          "text": "count"
         }
        }
       }
      }
     },
     "metadata": {},
     "output_type": "display_data"
    }
   ],
   "source": [
    "fig = px.histogram(df6, x=\"sinfo1\", color=\"sinfo1\",width=800, height=600)\n",
    "fig.update_layout(margin= dict(l=20, r=20, t=20, b=20),paper_bgcolor=\"#202A44\")\n",
    "fig.show()"
   ]
  },
  {
   "cell_type": "code",
   "execution_count": null,
   "metadata": {},
   "outputs": [
    {
     "data": {
      "application/vnd.plotly.v1+json": {
       "config": {
        "plotlyServerURL": "https://plot.ly"
       },
       "data": [
        {
         "alignmentgroup": "True",
         "bingroup": "x",
         "hovertemplate": "obstacle_cost1=%{x}<br>count=%{y}<extra></extra>",
         "legendgroup": "Not experienced",
         "marker": {
          "color": "#636efa",
          "pattern": {
           "shape": ""
          }
         },
         "name": "Not experienced",
         "offsetgroup": "Not experienced",
         "orientation": "v",
         "showlegend": true,
         "type": "histogram",
         "x": [
          "Not experienced",
          "Not experienced",
          "Not experienced",
          "Not experienced",
          "Not experienced",
          "Not experienced",
          "Not experienced",
          "Not experienced",
          "Not experienced",
          "Not experienced",
          "Not experienced",
          "Not experienced",
          "Not experienced",
          "Not experienced",
          "Not experienced",
          "Not experienced",
          "Not experienced",
          "Not experienced",
          "Not experienced",
          "Not experienced",
          "Not experienced",
          "Not experienced",
          "Not experienced",
          "Not experienced",
          "Not experienced",
          "Not experienced",
          "Not experienced",
          "Not experienced",
          "Not experienced",
          "Not experienced",
          "Not experienced",
          "Not experienced",
          "Not experienced",
          "Not experienced",
          "Not experienced",
          "Not experienced",
          "Not experienced",
          "Not experienced",
          "Not experienced",
          "Not experienced",
          "Not experienced",
          "Not experienced",
          "Not experienced",
          "Not experienced",
          "Not experienced",
          "Not experienced",
          "Not experienced",
          "Not experienced",
          "Not experienced",
          "Not experienced",
          "Not experienced",
          "Not experienced",
          "Not experienced",
          "Not experienced",
          "Not experienced",
          "Not experienced",
          "Not experienced",
          "Not experienced",
          "Not experienced",
          "Not experienced",
          "Not experienced",
          "Not experienced",
          "Not experienced",
          "Not experienced",
          "Not experienced",
          "Not experienced",
          "Not experienced",
          "Not experienced",
          "Not experienced",
          "Not experienced",
          "Not experienced",
          "Not experienced",
          "Not experienced",
          "Not experienced",
          "Not experienced",
          "Not experienced",
          "Not experienced",
          "Not experienced",
          "Not experienced",
          "Not experienced",
          "Not experienced",
          "Not experienced",
          "Not experienced",
          "Not experienced",
          "Not experienced",
          "Not experienced",
          "Not experienced",
          "Not experienced",
          "Not experienced",
          "Not experienced",
          "Not experienced",
          "Not experienced",
          "Not experienced",
          "Not experienced",
          "Not experienced",
          "Not experienced",
          "Not experienced",
          "Not experienced",
          "Not experienced",
          "Not experienced",
          "Not experienced",
          "Not experienced",
          "Not experienced",
          "Not experienced",
          "Not experienced",
          "Not experienced",
          "Not experienced",
          "Not experienced",
          "Not experienced",
          "Not experienced",
          "Not experienced",
          "Not experienced",
          "Not experienced",
          "Not experienced",
          "Not experienced",
          "Not experienced",
          "Not experienced",
          "Not experienced",
          "Not experienced",
          "Not experienced",
          "Not experienced",
          "Not experienced",
          "Not experienced",
          "Not experienced",
          "Not experienced",
          "Not experienced",
          "Not experienced",
          "Not experienced",
          "Not experienced",
          "Not experienced",
          "Not experienced",
          "Not experienced",
          "Not experienced",
          "Not experienced",
          "Not experienced",
          "Not experienced",
          "Not experienced",
          "Not experienced",
          "Not experienced",
          "Not experienced",
          "Not experienced",
          "Not experienced",
          "Not experienced",
          "Not experienced",
          "Not experienced",
          "Not experienced",
          "Not experienced",
          "Not experienced",
          "Not experienced",
          "Not experienced",
          "Not experienced",
          "Not experienced",
          "Not experienced",
          "Not experienced",
          "Not experienced",
          "Not experienced",
          "Not experienced",
          "Not experienced",
          "Not experienced",
          "Not experienced",
          "Not experienced",
          "Not experienced",
          "Not experienced",
          "Not experienced",
          "Not experienced",
          "Not experienced",
          "Not experienced",
          "Not experienced",
          "Not experienced",
          "Not experienced",
          "Not experienced",
          "Not experienced",
          "Not experienced",
          "Not experienced",
          "Not experienced",
          "Not experienced",
          "Not experienced",
          "Not experienced",
          "Not experienced",
          "Not experienced",
          "Not experienced",
          "Not experienced",
          "Not experienced",
          "Not experienced",
          "Not experienced",
          "Not experienced",
          "Not experienced",
          "Not experienced",
          "Not experienced",
          "Not experienced"
         ],
         "xaxis": "x",
         "yaxis": "y"
        },
        {
         "alignmentgroup": "True",
         "bingroup": "x",
         "hovertemplate": "obstacle_cost1=%{x}<br>count=%{y}<extra></extra>",
         "legendgroup": "Medium",
         "marker": {
          "color": "#EF553B",
          "pattern": {
           "shape": ""
          }
         },
         "name": "Medium",
         "offsetgroup": "Medium",
         "orientation": "v",
         "showlegend": true,
         "type": "histogram",
         "x": [
          "Medium",
          "Medium",
          "Medium",
          "Medium",
          "Medium",
          "Medium",
          "Medium",
          "Medium",
          "Medium",
          "Medium",
          "Medium",
          "Medium",
          "Medium",
          "Medium",
          "Medium",
          "Medium",
          "Medium",
          "Medium",
          "Medium",
          "Medium",
          "Medium",
          "Medium",
          "Medium",
          "Medium",
          "Medium",
          "Medium",
          "Medium",
          "Medium",
          "Medium",
          "Medium",
          "Medium",
          "Medium",
          "Medium",
          "Medium",
          "Medium",
          "Medium",
          "Medium",
          "Medium",
          "Medium",
          "Medium",
          "Medium",
          "Medium",
          "Medium",
          "Medium",
          "Medium",
          "Medium",
          "Medium",
          "Medium",
          "Medium",
          "Medium",
          "Medium",
          "Medium",
          "Medium",
          "Medium",
          "Medium",
          "Medium",
          "Medium",
          "Medium",
          "Medium",
          "Medium",
          "Medium",
          "Medium",
          "Medium",
          "Medium",
          "Medium",
          "Medium",
          "Medium",
          "Medium",
          "Medium",
          "Medium",
          "Medium",
          "Medium",
          "Medium",
          "Medium",
          "Medium",
          "Medium",
          "Medium",
          "Medium",
          "Medium",
          "Medium",
          "Medium",
          "Medium",
          "Medium",
          "Medium",
          "Medium",
          "Medium",
          "Medium",
          "Medium",
          "Medium",
          "Medium",
          "Medium",
          "Medium",
          "Medium",
          "Medium",
          "Medium",
          "Medium",
          "Medium",
          "Medium",
          "Medium",
          "Medium",
          "Medium",
          "Medium",
          "Medium",
          "Medium",
          "Medium",
          "Medium",
          "Medium",
          "Medium",
          "Medium",
          "Medium",
          "Medium",
          "Medium",
          "Medium",
          "Medium",
          "Medium",
          "Medium",
          "Medium",
          "Medium",
          "Medium",
          "Medium",
          "Medium",
          "Medium",
          "Medium",
          "Medium",
          "Medium",
          "Medium",
          "Medium",
          "Medium",
          "Medium",
          "Medium",
          "Medium",
          "Medium",
          "Medium",
          "Medium",
          "Medium",
          "Medium",
          "Medium",
          "Medium",
          "Medium",
          "Medium",
          "Medium",
          "Medium",
          "Medium",
          "Medium",
          "Medium",
          "Medium",
          "Medium",
          "Medium",
          "Medium",
          "Medium",
          "Medium",
          "Medium",
          "Medium",
          "Medium",
          "Medium",
          "Medium",
          "Medium",
          "Medium",
          "Medium",
          "Medium",
          "Medium",
          "Medium",
          "Medium",
          "Medium",
          "Medium",
          "Medium",
          "Medium",
          "Medium",
          "Medium",
          "Medium",
          "Medium",
          "Medium",
          "Medium",
          "Medium",
          "Medium",
          "Medium",
          "Medium",
          "Medium",
          "Medium",
          "Medium",
          "Medium",
          "Medium",
          "Medium",
          "Medium",
          "Medium",
          "Medium",
          "Medium",
          "Medium",
          "Medium",
          "Medium",
          "Medium",
          "Medium",
          "Medium",
          "Medium",
          "Medium",
          "Medium",
          "Medium",
          "Medium",
          "Medium",
          "Medium",
          "Medium",
          "Medium",
          "Medium",
          "Medium",
          "Medium",
          "Medium",
          "Medium",
          "Medium",
          "Medium",
          "Medium",
          "Medium",
          "Medium",
          "Medium",
          "Medium",
          "Medium",
          "Medium",
          "Medium",
          "Medium",
          "Medium",
          "Medium",
          "Medium",
          "Medium",
          "Medium",
          "Medium",
          "Medium",
          "Medium",
          "Medium",
          "Medium",
          "Medium",
          "Medium",
          "Medium",
          "Medium",
          "Medium",
          "Medium",
          "Medium",
          "Medium",
          "Medium",
          "Medium",
          "Medium",
          "Medium",
          "Medium",
          "Medium",
          "Medium",
          "Medium",
          "Medium",
          "Medium",
          "Medium",
          "Medium",
          "Medium",
          "Medium",
          "Medium",
          "Medium",
          "Medium",
          "Medium",
          "Medium",
          "Medium",
          "Medium",
          "Medium",
          "Medium",
          "Medium",
          "Medium",
          "Medium",
          "Medium",
          "Medium",
          "Medium",
          "Medium",
          "Medium",
          "Medium",
          "Medium",
          "Medium",
          "Medium",
          "Medium",
          "Medium",
          "Medium",
          "Medium",
          "Medium",
          "Medium",
          "Medium",
          "Medium",
          "Medium",
          "Medium",
          "Medium",
          "Medium",
          "Medium",
          "Medium",
          "Medium",
          "Medium",
          "Medium",
          "Medium",
          "Medium",
          "Medium",
          "Medium",
          "Medium",
          "Medium",
          "Medium",
          "Medium",
          "Medium",
          "Medium",
          "Medium",
          "Medium",
          "Medium",
          "Medium",
          "Medium",
          "Medium",
          "Medium",
          "Medium",
          "Medium",
          "Medium",
          "Medium",
          "Medium",
          "Medium",
          "Medium",
          "Medium",
          "Medium",
          "Medium",
          "Medium",
          "Medium",
          "Medium",
          "Medium",
          "Medium",
          "Medium",
          "Medium",
          "Medium",
          "Medium",
          "Medium",
          "Medium",
          "Medium",
          "Medium",
          "Medium",
          "Medium",
          "Medium",
          "Medium",
          "Medium",
          "Medium",
          "Medium",
          "Medium",
          "Medium"
         ],
         "xaxis": "x",
         "yaxis": "y"
        },
        {
         "alignmentgroup": "True",
         "bingroup": "x",
         "hovertemplate": "obstacle_cost1=%{x}<br>count=%{y}<extra></extra>",
         "legendgroup": "High",
         "marker": {
          "color": "#00cc96",
          "pattern": {
           "shape": ""
          }
         },
         "name": "High",
         "offsetgroup": "High",
         "orientation": "v",
         "showlegend": true,
         "type": "histogram",
         "x": [
          "High",
          "High",
          "High",
          "High",
          "High",
          "High",
          "High",
          "High",
          "High",
          "High",
          "High",
          "High",
          "High",
          "High",
          "High",
          "High",
          "High",
          "High",
          "High",
          "High",
          "High",
          "High",
          "High",
          "High",
          "High",
          "High",
          "High",
          "High",
          "High",
          "High",
          "High",
          "High",
          "High",
          "High",
          "High",
          "High",
          "High",
          "High",
          "High",
          "High",
          "High",
          "High",
          "High",
          "High",
          "High",
          "High",
          "High",
          "High",
          "High",
          "High",
          "High",
          "High",
          "High",
          "High",
          "High",
          "High",
          "High",
          "High",
          "High",
          "High",
          "High",
          "High",
          "High",
          "High",
          "High",
          "High",
          "High",
          "High",
          "High",
          "High",
          "High",
          "High",
          "High",
          "High",
          "High",
          "High",
          "High",
          "High",
          "High",
          "High",
          "High",
          "High",
          "High",
          "High",
          "High",
          "High",
          "High",
          "High",
          "High",
          "High",
          "High",
          "High",
          "High",
          "High",
          "High",
          "High",
          "High",
          "High",
          "High",
          "High",
          "High",
          "High",
          "High",
          "High",
          "High",
          "High",
          "High",
          "High",
          "High",
          "High",
          "High",
          "High",
          "High",
          "High",
          "High",
          "High",
          "High",
          "High",
          "High",
          "High",
          "High",
          "High",
          "High",
          "High",
          "High",
          "High",
          "High",
          "High",
          "High",
          "High",
          "High",
          "High",
          "High",
          "High",
          "High",
          "High",
          "High",
          "High",
          "High",
          "High",
          "High",
          "High",
          "High",
          "High",
          "High",
          "High",
          "High",
          "High",
          "High",
          "High",
          "High",
          "High",
          "High",
          "High",
          "High",
          "High",
          "High",
          "High",
          "High",
          "High",
          "High",
          "High",
          "High",
          "High",
          "High",
          "High",
          "High",
          "High",
          "High",
          "High",
          "High",
          "High",
          "High",
          "High",
          "High",
          "High",
          "High",
          "High",
          "High",
          "High",
          "High",
          "High",
          "High",
          "High",
          "High",
          "High",
          "High",
          "High",
          "High",
          "High",
          "High",
          "High",
          "High",
          "High",
          "High",
          "High",
          "High",
          "High",
          "High",
          "High",
          "High",
          "High",
          "High",
          "High",
          "High",
          "High",
          "High",
          "High",
          "High",
          "High",
          "High",
          "High",
          "High",
          "High",
          "High",
          "High",
          "High",
          "High",
          "High",
          "High",
          "High",
          "High",
          "High",
          "High",
          "High",
          "High",
          "High",
          "High",
          "High",
          "High",
          "High",
          "High",
          "High",
          "High",
          "High",
          "High",
          "High",
          "High",
          "High",
          "High",
          "High",
          "High",
          "High",
          "High",
          "High",
          "High",
          "High",
          "High",
          "High",
          "High",
          "High",
          "High",
          "High",
          "High",
          "High",
          "High",
          "High",
          "High",
          "High",
          "High",
          "High",
          "High",
          "High",
          "High",
          "High",
          "High",
          "High",
          "High",
          "High",
          "High",
          "High",
          "High",
          "High",
          "High",
          "High",
          "High",
          "High",
          "High",
          "High",
          "High",
          "High",
          "High",
          "High",
          "High",
          "High",
          "High",
          "High",
          "High",
          "High",
          "High",
          "High",
          "High",
          "High",
          "High",
          "High",
          "High",
          "High",
          "High",
          "High",
          "High",
          "High",
          "High",
          "High",
          "High",
          "High",
          "High",
          "High",
          "High",
          "High",
          "High",
          "High",
          "High",
          "High",
          "High",
          "High",
          "High",
          "High",
          "High",
          "High",
          "High",
          "High",
          "High",
          "High",
          "High",
          "High",
          "High",
          "High",
          "High",
          "High",
          "High",
          "High",
          "High",
          "High",
          "High",
          "High",
          "High",
          "High",
          "High",
          "High",
          "High",
          "High",
          "High",
          "High",
          "High",
          "High",
          "High",
          "High",
          "High",
          "High",
          "High",
          "High",
          "High",
          "High",
          "High",
          "High",
          "High",
          "High",
          "High",
          "High",
          "High",
          "High",
          "High",
          "High",
          "High",
          "High",
          "High",
          "High",
          "High",
          "High",
          "High",
          "High",
          "High",
          "High",
          "High",
          "High",
          "High",
          "High",
          "High",
          "High",
          "High",
          "High",
          "High",
          "High",
          "High",
          "High",
          "High",
          "High",
          "High",
          "High",
          "High",
          "High",
          "High",
          "High",
          "High",
          "High",
          "High",
          "High",
          "High",
          "High",
          "High",
          "High",
          "High",
          "High",
          "High",
          "High",
          "High",
          "High",
          "High",
          "High",
          "High",
          "High",
          "High",
          "High",
          "High",
          "High",
          "High",
          "High",
          "High",
          "High",
          "High",
          "High",
          "High",
          "High",
          "High",
          "High",
          "High",
          "High",
          "High",
          "High",
          "High",
          "High",
          "High",
          "High",
          "High",
          "High",
          "High",
          "High",
          "High",
          "High",
          "High",
          "High",
          "High",
          "High",
          "High",
          "High",
          "High",
          "High",
          "High",
          "High",
          "High",
          "High",
          "High",
          "High",
          "High",
          "High",
          "High",
          "High",
          "High",
          "High",
          "High",
          "High",
          "High",
          "High",
          "High",
          "High",
          "High",
          "High",
          "High",
          "High",
          "High",
          "High",
          "High",
          "High",
          "High",
          "High",
          "High",
          "High",
          "High",
          "High",
          "High",
          "High",
          "High",
          "High",
          "High",
          "High",
          "High",
          "High",
          "High",
          "High",
          "High",
          "High",
          "High",
          "High",
          "High",
          "High",
          "High",
          "High",
          "High",
          "High",
          "High",
          "High",
          "High",
          "High",
          "High",
          "High",
          "High",
          "High",
          "High",
          "High",
          "High",
          "High",
          "High",
          "High",
          "High",
          "High",
          "High",
          "High",
          "High",
          "High",
          "High",
          "High",
          "High",
          "High",
          "High",
          "High",
          "High",
          "High",
          "High",
          "High",
          "High",
          "High",
          "High",
          "High",
          "High",
          "High",
          "High",
          "High",
          "High",
          "High",
          "High",
          "High",
          "High",
          "High",
          "High",
          "High",
          "High",
          "High",
          "High",
          "High",
          "High",
          "High",
          "High",
          "High",
          "High",
          "High",
          "High",
          "High",
          "High",
          "High",
          "High",
          "High",
          "High",
          "High",
          "High",
          "High",
          "High",
          "High",
          "High",
          "High",
          "High",
          "High",
          "High",
          "High"
         ],
         "xaxis": "x",
         "yaxis": "y"
        },
        {
         "alignmentgroup": "True",
         "bingroup": "x",
         "hovertemplate": "obstacle_cost1=%{x}<br>count=%{y}<extra></extra>",
         "legendgroup": " ",
         "marker": {
          "color": "#ab63fa",
          "pattern": {
           "shape": ""
          }
         },
         "name": " ",
         "offsetgroup": " ",
         "orientation": "v",
         "showlegend": true,
         "type": "histogram",
         "x": [
          " ",
          " ",
          " ",
          " ",
          " ",
          " ",
          " ",
          " ",
          " ",
          " ",
          " ",
          " ",
          " ",
          " ",
          " ",
          " ",
          " ",
          " ",
          " ",
          " ",
          " ",
          " ",
          " ",
          " ",
          " ",
          " ",
          " ",
          " ",
          " ",
          " ",
          " ",
          " ",
          " ",
          " ",
          " ",
          " ",
          " ",
          " ",
          " ",
          " ",
          " ",
          " ",
          " ",
          " ",
          " ",
          " ",
          " ",
          " ",
          " ",
          " ",
          " ",
          " ",
          " ",
          " ",
          " ",
          " ",
          " ",
          " ",
          " ",
          " ",
          " ",
          " ",
          " ",
          " ",
          " ",
          " ",
          " ",
          " ",
          " ",
          " ",
          " ",
          " ",
          " ",
          " ",
          " ",
          " ",
          " ",
          " ",
          " ",
          " ",
          " ",
          " ",
          " ",
          " ",
          " ",
          " ",
          " ",
          " "
         ],
         "xaxis": "x",
         "yaxis": "y"
        },
        {
         "alignmentgroup": "True",
         "bingroup": "x",
         "hovertemplate": "obstacle_cost1=%{x}<br>count=%{y}<extra></extra>",
         "legendgroup": "Low",
         "marker": {
          "color": "#FFA15A",
          "pattern": {
           "shape": ""
          }
         },
         "name": "Low",
         "offsetgroup": "Low",
         "orientation": "v",
         "showlegend": true,
         "type": "histogram",
         "x": [
          "Low",
          "Low",
          "Low",
          "Low",
          "Low",
          "Low",
          "Low",
          "Low",
          "Low",
          "Low",
          "Low",
          "Low",
          "Low",
          "Low",
          "Low",
          "Low",
          "Low",
          "Low",
          "Low",
          "Low",
          "Low",
          "Low",
          "Low",
          "Low",
          "Low",
          "Low",
          "Low",
          "Low",
          "Low",
          "Low",
          "Low",
          "Low",
          "Low",
          "Low",
          "Low",
          "Low",
          "Low",
          "Low",
          "Low",
          "Low",
          "Low",
          "Low",
          "Low",
          "Low",
          "Low",
          "Low",
          "Low",
          "Low",
          "Low",
          "Low",
          "Low",
          "Low",
          "Low",
          "Low",
          "Low",
          "Low",
          "Low",
          "Low",
          "Low",
          "Low",
          "Low",
          "Low",
          "Low",
          "Low",
          "Low",
          "Low",
          "Low",
          "Low",
          "Low",
          "Low",
          "Low",
          "Low",
          "Low",
          "Low",
          "Low",
          "Low",
          "Low",
          "Low",
          "Low",
          "Low",
          "Low",
          "Low",
          "Low",
          "Low",
          "Low",
          "Low",
          "Low",
          "Low",
          "Low",
          "Low",
          "Low",
          "Low",
          "Low",
          "Low",
          "Low",
          "Low",
          "Low",
          "Low",
          "Low",
          "Low",
          "Low",
          "Low",
          "Low",
          "Low",
          "Low",
          "Low",
          "Low",
          "Low",
          "Low",
          "Low",
          "Low",
          "Low",
          "Low",
          "Low",
          "Low",
          "Low",
          "Low",
          "Low",
          "Low",
          "Low",
          "Low",
          "Low",
          "Low",
          "Low",
          "Low",
          "Low",
          "Low",
          "Low",
          "Low",
          "Low",
          "Low",
          "Low",
          "Low",
          "Low",
          "Low",
          "Low",
          "Low",
          "Low",
          "Low",
          "Low",
          "Low",
          "Low",
          "Low",
          "Low",
          "Low",
          "Low",
          "Low",
          "Low",
          "Low",
          "Low",
          "Low",
          "Low",
          "Low",
          "Low",
          "Low",
          "Low",
          "Low",
          "Low",
          "Low",
          "Low",
          "Low",
          "Low",
          "Low",
          "Low",
          "Low",
          "Low",
          "Low",
          "Low",
          "Low",
          "Low",
          "Low"
         ],
         "xaxis": "x",
         "yaxis": "y"
        }
       ],
       "layout": {
        "barmode": "relative",
        "height": 600,
        "legend": {
         "title": {
          "text": "obstacle_cost1"
         },
         "tracegroupgap": 0
        },
        "margin": {
         "b": 20,
         "l": 20,
         "r": 20,
         "t": 20
        },
        "paper_bgcolor": "#202A44",
        "template": {
         "data": {
          "bar": [
           {
            "error_x": {
             "color": "#2a3f5f"
            },
            "error_y": {
             "color": "#2a3f5f"
            },
            "marker": {
             "line": {
              "color": "#E5ECF6",
              "width": 0.5
             },
             "pattern": {
              "fillmode": "overlay",
              "size": 10,
              "solidity": 0.2
             }
            },
            "type": "bar"
           }
          ],
          "barpolar": [
           {
            "marker": {
             "line": {
              "color": "#E5ECF6",
              "width": 0.5
             },
             "pattern": {
              "fillmode": "overlay",
              "size": 10,
              "solidity": 0.2
             }
            },
            "type": "barpolar"
           }
          ],
          "carpet": [
           {
            "aaxis": {
             "endlinecolor": "#2a3f5f",
             "gridcolor": "white",
             "linecolor": "white",
             "minorgridcolor": "white",
             "startlinecolor": "#2a3f5f"
            },
            "baxis": {
             "endlinecolor": "#2a3f5f",
             "gridcolor": "white",
             "linecolor": "white",
             "minorgridcolor": "white",
             "startlinecolor": "#2a3f5f"
            },
            "type": "carpet"
           }
          ],
          "choropleth": [
           {
            "colorbar": {
             "outlinewidth": 0,
             "ticks": ""
            },
            "type": "choropleth"
           }
          ],
          "contour": [
           {
            "colorbar": {
             "outlinewidth": 0,
             "ticks": ""
            },
            "colorscale": [
             [
              0,
              "#0d0887"
             ],
             [
              0.1111111111111111,
              "#46039f"
             ],
             [
              0.2222222222222222,
              "#7201a8"
             ],
             [
              0.3333333333333333,
              "#9c179e"
             ],
             [
              0.4444444444444444,
              "#bd3786"
             ],
             [
              0.5555555555555556,
              "#d8576b"
             ],
             [
              0.6666666666666666,
              "#ed7953"
             ],
             [
              0.7777777777777778,
              "#fb9f3a"
             ],
             [
              0.8888888888888888,
              "#fdca26"
             ],
             [
              1,
              "#f0f921"
             ]
            ],
            "type": "contour"
           }
          ],
          "contourcarpet": [
           {
            "colorbar": {
             "outlinewidth": 0,
             "ticks": ""
            },
            "type": "contourcarpet"
           }
          ],
          "heatmap": [
           {
            "colorbar": {
             "outlinewidth": 0,
             "ticks": ""
            },
            "colorscale": [
             [
              0,
              "#0d0887"
             ],
             [
              0.1111111111111111,
              "#46039f"
             ],
             [
              0.2222222222222222,
              "#7201a8"
             ],
             [
              0.3333333333333333,
              "#9c179e"
             ],
             [
              0.4444444444444444,
              "#bd3786"
             ],
             [
              0.5555555555555556,
              "#d8576b"
             ],
             [
              0.6666666666666666,
              "#ed7953"
             ],
             [
              0.7777777777777778,
              "#fb9f3a"
             ],
             [
              0.8888888888888888,
              "#fdca26"
             ],
             [
              1,
              "#f0f921"
             ]
            ],
            "type": "heatmap"
           }
          ],
          "heatmapgl": [
           {
            "colorbar": {
             "outlinewidth": 0,
             "ticks": ""
            },
            "colorscale": [
             [
              0,
              "#0d0887"
             ],
             [
              0.1111111111111111,
              "#46039f"
             ],
             [
              0.2222222222222222,
              "#7201a8"
             ],
             [
              0.3333333333333333,
              "#9c179e"
             ],
             [
              0.4444444444444444,
              "#bd3786"
             ],
             [
              0.5555555555555556,
              "#d8576b"
             ],
             [
              0.6666666666666666,
              "#ed7953"
             ],
             [
              0.7777777777777778,
              "#fb9f3a"
             ],
             [
              0.8888888888888888,
              "#fdca26"
             ],
             [
              1,
              "#f0f921"
             ]
            ],
            "type": "heatmapgl"
           }
          ],
          "histogram": [
           {
            "marker": {
             "pattern": {
              "fillmode": "overlay",
              "size": 10,
              "solidity": 0.2
             }
            },
            "type": "histogram"
           }
          ],
          "histogram2d": [
           {
            "colorbar": {
             "outlinewidth": 0,
             "ticks": ""
            },
            "colorscale": [
             [
              0,
              "#0d0887"
             ],
             [
              0.1111111111111111,
              "#46039f"
             ],
             [
              0.2222222222222222,
              "#7201a8"
             ],
             [
              0.3333333333333333,
              "#9c179e"
             ],
             [
              0.4444444444444444,
              "#bd3786"
             ],
             [
              0.5555555555555556,
              "#d8576b"
             ],
             [
              0.6666666666666666,
              "#ed7953"
             ],
             [
              0.7777777777777778,
              "#fb9f3a"
             ],
             [
              0.8888888888888888,
              "#fdca26"
             ],
             [
              1,
              "#f0f921"
             ]
            ],
            "type": "histogram2d"
           }
          ],
          "histogram2dcontour": [
           {
            "colorbar": {
             "outlinewidth": 0,
             "ticks": ""
            },
            "colorscale": [
             [
              0,
              "#0d0887"
             ],
             [
              0.1111111111111111,
              "#46039f"
             ],
             [
              0.2222222222222222,
              "#7201a8"
             ],
             [
              0.3333333333333333,
              "#9c179e"
             ],
             [
              0.4444444444444444,
              "#bd3786"
             ],
             [
              0.5555555555555556,
              "#d8576b"
             ],
             [
              0.6666666666666666,
              "#ed7953"
             ],
             [
              0.7777777777777778,
              "#fb9f3a"
             ],
             [
              0.8888888888888888,
              "#fdca26"
             ],
             [
              1,
              "#f0f921"
             ]
            ],
            "type": "histogram2dcontour"
           }
          ],
          "mesh3d": [
           {
            "colorbar": {
             "outlinewidth": 0,
             "ticks": ""
            },
            "type": "mesh3d"
           }
          ],
          "parcoords": [
           {
            "line": {
             "colorbar": {
              "outlinewidth": 0,
              "ticks": ""
             }
            },
            "type": "parcoords"
           }
          ],
          "pie": [
           {
            "automargin": true,
            "type": "pie"
           }
          ],
          "scatter": [
           {
            "fillpattern": {
             "fillmode": "overlay",
             "size": 10,
             "solidity": 0.2
            },
            "type": "scatter"
           }
          ],
          "scatter3d": [
           {
            "line": {
             "colorbar": {
              "outlinewidth": 0,
              "ticks": ""
             }
            },
            "marker": {
             "colorbar": {
              "outlinewidth": 0,
              "ticks": ""
             }
            },
            "type": "scatter3d"
           }
          ],
          "scattercarpet": [
           {
            "marker": {
             "colorbar": {
              "outlinewidth": 0,
              "ticks": ""
             }
            },
            "type": "scattercarpet"
           }
          ],
          "scattergeo": [
           {
            "marker": {
             "colorbar": {
              "outlinewidth": 0,
              "ticks": ""
             }
            },
            "type": "scattergeo"
           }
          ],
          "scattergl": [
           {
            "marker": {
             "colorbar": {
              "outlinewidth": 0,
              "ticks": ""
             }
            },
            "type": "scattergl"
           }
          ],
          "scattermapbox": [
           {
            "marker": {
             "colorbar": {
              "outlinewidth": 0,
              "ticks": ""
             }
            },
            "type": "scattermapbox"
           }
          ],
          "scatterpolar": [
           {
            "marker": {
             "colorbar": {
              "outlinewidth": 0,
              "ticks": ""
             }
            },
            "type": "scatterpolar"
           }
          ],
          "scatterpolargl": [
           {
            "marker": {
             "colorbar": {
              "outlinewidth": 0,
              "ticks": ""
             }
            },
            "type": "scatterpolargl"
           }
          ],
          "scatterternary": [
           {
            "marker": {
             "colorbar": {
              "outlinewidth": 0,
              "ticks": ""
             }
            },
            "type": "scatterternary"
           }
          ],
          "surface": [
           {
            "colorbar": {
             "outlinewidth": 0,
             "ticks": ""
            },
            "colorscale": [
             [
              0,
              "#0d0887"
             ],
             [
              0.1111111111111111,
              "#46039f"
             ],
             [
              0.2222222222222222,
              "#7201a8"
             ],
             [
              0.3333333333333333,
              "#9c179e"
             ],
             [
              0.4444444444444444,
              "#bd3786"
             ],
             [
              0.5555555555555556,
              "#d8576b"
             ],
             [
              0.6666666666666666,
              "#ed7953"
             ],
             [
              0.7777777777777778,
              "#fb9f3a"
             ],
             [
              0.8888888888888888,
              "#fdca26"
             ],
             [
              1,
              "#f0f921"
             ]
            ],
            "type": "surface"
           }
          ],
          "table": [
           {
            "cells": {
             "fill": {
              "color": "#EBF0F8"
             },
             "line": {
              "color": "white"
             }
            },
            "header": {
             "fill": {
              "color": "#C8D4E3"
             },
             "line": {
              "color": "white"
             }
            },
            "type": "table"
           }
          ]
         },
         "layout": {
          "annotationdefaults": {
           "arrowcolor": "#2a3f5f",
           "arrowhead": 0,
           "arrowwidth": 1
          },
          "autotypenumbers": "strict",
          "coloraxis": {
           "colorbar": {
            "outlinewidth": 0,
            "ticks": ""
           }
          },
          "colorscale": {
           "diverging": [
            [
             0,
             "#8e0152"
            ],
            [
             0.1,
             "#c51b7d"
            ],
            [
             0.2,
             "#de77ae"
            ],
            [
             0.3,
             "#f1b6da"
            ],
            [
             0.4,
             "#fde0ef"
            ],
            [
             0.5,
             "#f7f7f7"
            ],
            [
             0.6,
             "#e6f5d0"
            ],
            [
             0.7,
             "#b8e186"
            ],
            [
             0.8,
             "#7fbc41"
            ],
            [
             0.9,
             "#4d9221"
            ],
            [
             1,
             "#276419"
            ]
           ],
           "sequential": [
            [
             0,
             "#0d0887"
            ],
            [
             0.1111111111111111,
             "#46039f"
            ],
            [
             0.2222222222222222,
             "#7201a8"
            ],
            [
             0.3333333333333333,
             "#9c179e"
            ],
            [
             0.4444444444444444,
             "#bd3786"
            ],
            [
             0.5555555555555556,
             "#d8576b"
            ],
            [
             0.6666666666666666,
             "#ed7953"
            ],
            [
             0.7777777777777778,
             "#fb9f3a"
            ],
            [
             0.8888888888888888,
             "#fdca26"
            ],
            [
             1,
             "#f0f921"
            ]
           ],
           "sequentialminus": [
            [
             0,
             "#0d0887"
            ],
            [
             0.1111111111111111,
             "#46039f"
            ],
            [
             0.2222222222222222,
             "#7201a8"
            ],
            [
             0.3333333333333333,
             "#9c179e"
            ],
            [
             0.4444444444444444,
             "#bd3786"
            ],
            [
             0.5555555555555556,
             "#d8576b"
            ],
            [
             0.6666666666666666,
             "#ed7953"
            ],
            [
             0.7777777777777778,
             "#fb9f3a"
            ],
            [
             0.8888888888888888,
             "#fdca26"
            ],
            [
             1,
             "#f0f921"
            ]
           ]
          },
          "colorway": [
           "#636efa",
           "#EF553B",
           "#00cc96",
           "#ab63fa",
           "#FFA15A",
           "#19d3f3",
           "#FF6692",
           "#B6E880",
           "#FF97FF",
           "#FECB52"
          ],
          "font": {
           "color": "#2a3f5f"
          },
          "geo": {
           "bgcolor": "white",
           "lakecolor": "white",
           "landcolor": "#E5ECF6",
           "showlakes": true,
           "showland": true,
           "subunitcolor": "white"
          },
          "hoverlabel": {
           "align": "left"
          },
          "hovermode": "closest",
          "mapbox": {
           "style": "light"
          },
          "paper_bgcolor": "white",
          "plot_bgcolor": "#E5ECF6",
          "polar": {
           "angularaxis": {
            "gridcolor": "white",
            "linecolor": "white",
            "ticks": ""
           },
           "bgcolor": "#E5ECF6",
           "radialaxis": {
            "gridcolor": "white",
            "linecolor": "white",
            "ticks": ""
           }
          },
          "scene": {
           "xaxis": {
            "backgroundcolor": "#E5ECF6",
            "gridcolor": "white",
            "gridwidth": 2,
            "linecolor": "white",
            "showbackground": true,
            "ticks": "",
            "zerolinecolor": "white"
           },
           "yaxis": {
            "backgroundcolor": "#E5ECF6",
            "gridcolor": "white",
            "gridwidth": 2,
            "linecolor": "white",
            "showbackground": true,
            "ticks": "",
            "zerolinecolor": "white"
           },
           "zaxis": {
            "backgroundcolor": "#E5ECF6",
            "gridcolor": "white",
            "gridwidth": 2,
            "linecolor": "white",
            "showbackground": true,
            "ticks": "",
            "zerolinecolor": "white"
           }
          },
          "shapedefaults": {
           "line": {
            "color": "#2a3f5f"
           }
          },
          "ternary": {
           "aaxis": {
            "gridcolor": "white",
            "linecolor": "white",
            "ticks": ""
           },
           "baxis": {
            "gridcolor": "white",
            "linecolor": "white",
            "ticks": ""
           },
           "bgcolor": "#E5ECF6",
           "caxis": {
            "gridcolor": "white",
            "linecolor": "white",
            "ticks": ""
           }
          },
          "title": {
           "x": 0.05
          },
          "xaxis": {
           "automargin": true,
           "gridcolor": "white",
           "linecolor": "white",
           "ticks": "",
           "title": {
            "standoff": 15
           },
           "zerolinecolor": "white",
           "zerolinewidth": 2
          },
          "yaxis": {
           "automargin": true,
           "gridcolor": "white",
           "linecolor": "white",
           "ticks": "",
           "title": {
            "standoff": 15
           },
           "zerolinecolor": "white",
           "zerolinewidth": 2
          }
         }
        },
        "width": 800,
        "xaxis": {
         "anchor": "y",
         "categoryarray": [
          "Not experienced",
          "Medium",
          "High",
          " ",
          "Low"
         ],
         "categoryorder": "array",
         "domain": [
          0,
          1
         ],
         "title": {
          "text": "obstacle_cost1"
         }
        },
        "yaxis": {
         "anchor": "x",
         "domain": [
          0,
          1
         ],
         "title": {
          "text": "count"
         }
        }
       }
      }
     },
     "metadata": {},
     "output_type": "display_data"
    }
   ],
   "source": [
    "df2#10\n",
    "fig = px.histogram(df2, x=\"obstacle_cost1\", color=\"obstacle_cost1\",width=800, height=600)\n",
    "fig.update_layout(margin= dict(l=20, r=20, t=20, b=20),paper_bgcolor=\"#202A44\")\n",
    "fig.show()"
   ]
  },
  {
   "cell_type": "code",
   "execution_count": null,
   "metadata": {},
   "outputs": [
    {
     "data": {
      "text/html": [
       "<div>\n",
       "<style scoped>\n",
       "    .dataframe tbody tr th:only-of-type {\n",
       "        vertical-align: middle;\n",
       "    }\n",
       "\n",
       "    .dataframe tbody tr th {\n",
       "        vertical-align: top;\n",
       "    }\n",
       "\n",
       "    .dataframe thead th {\n",
       "        text-align: right;\n",
       "    }\n",
       "</style>\n",
       "<table border=\"1\" class=\"dataframe\">\n",
       "  <thead>\n",
       "    <tr style=\"text-align: right;\">\n",
       "      <th></th>\n",
       "      <th>policysup1</th>\n",
       "      <th>policysup2</th>\n",
       "      <th>policysup3</th>\n",
       "      <th>policysup4</th>\n",
       "      <th>policysup5</th>\n",
       "      <th>policysup6</th>\n",
       "      <th>policysup7</th>\n",
       "      <th>policysup8</th>\n",
       "    </tr>\n",
       "  </thead>\n",
       "  <tbody>\n",
       "    <tr>\n",
       "      <th>0</th>\n",
       "      <td>Not important</td>\n",
       "      <td>Not important</td>\n",
       "      <td>Moderately important</td>\n",
       "      <td>Highly important</td>\n",
       "      <td>Highly important</td>\n",
       "      <td>Highly important</td>\n",
       "      <td>Not Specified</td>\n",
       "      <td>Not important</td>\n",
       "    </tr>\n",
       "    <tr>\n",
       "      <th>1</th>\n",
       "      <td>Not Specified</td>\n",
       "      <td>Not Specified</td>\n",
       "      <td>Not Specified</td>\n",
       "      <td>Not Specified</td>\n",
       "      <td>Not Specified</td>\n",
       "      <td>Not Specified</td>\n",
       "      <td>Not Specified</td>\n",
       "      <td>Not important</td>\n",
       "    </tr>\n",
       "    <tr>\n",
       "      <th>2</th>\n",
       "      <td>Not Specified</td>\n",
       "      <td>Not Specified</td>\n",
       "      <td>Not Specified</td>\n",
       "      <td>Not Specified</td>\n",
       "      <td>Not Specified</td>\n",
       "      <td>Not Specified</td>\n",
       "      <td>Not Specified</td>\n",
       "      <td>Not Specified</td>\n",
       "    </tr>\n",
       "    <tr>\n",
       "      <th>3</th>\n",
       "      <td>Slightly important</td>\n",
       "      <td>Highly important</td>\n",
       "      <td>Moderately important</td>\n",
       "      <td>Highly important</td>\n",
       "      <td>Moderately important</td>\n",
       "      <td>Highly important</td>\n",
       "      <td>Highly important</td>\n",
       "      <td>Not Specified</td>\n",
       "    </tr>\n",
       "    <tr>\n",
       "      <th>4</th>\n",
       "      <td>Not Specified</td>\n",
       "      <td>Not Specified</td>\n",
       "      <td>Not Specified</td>\n",
       "      <td>Not Specified</td>\n",
       "      <td>Not Specified</td>\n",
       "      <td>Not Specified</td>\n",
       "      <td>Not Specified</td>\n",
       "      <td>Not Specified</td>\n",
       "    </tr>\n",
       "    <tr>\n",
       "      <th>...</th>\n",
       "      <td>...</td>\n",
       "      <td>...</td>\n",
       "      <td>...</td>\n",
       "      <td>...</td>\n",
       "      <td>...</td>\n",
       "      <td>...</td>\n",
       "      <td>...</td>\n",
       "      <td>...</td>\n",
       "    </tr>\n",
       "    <tr>\n",
       "      <th>1354</th>\n",
       "      <td>Not Specified</td>\n",
       "      <td>Not Specified</td>\n",
       "      <td>Not Specified</td>\n",
       "      <td>Not Specified</td>\n",
       "      <td>Not Specified</td>\n",
       "      <td>Not Specified</td>\n",
       "      <td>Not Specified</td>\n",
       "      <td>Not Specified</td>\n",
       "    </tr>\n",
       "    <tr>\n",
       "      <th>1355</th>\n",
       "      <td>Not Specified</td>\n",
       "      <td>Not Specified</td>\n",
       "      <td>Not Specified</td>\n",
       "      <td>Not Specified</td>\n",
       "      <td>Not Specified</td>\n",
       "      <td>Not Specified</td>\n",
       "      <td>Not Specified</td>\n",
       "      <td>Not Specified</td>\n",
       "    </tr>\n",
       "    <tr>\n",
       "      <th>1356</th>\n",
       "      <td>Not Specified</td>\n",
       "      <td>Not Specified</td>\n",
       "      <td>Not Specified</td>\n",
       "      <td>Not Specified</td>\n",
       "      <td>Not Specified</td>\n",
       "      <td>Not Specified</td>\n",
       "      <td>Not Specified</td>\n",
       "      <td>Not Specified</td>\n",
       "    </tr>\n",
       "    <tr>\n",
       "      <th>1357</th>\n",
       "      <td>Not Specified</td>\n",
       "      <td>Not Specified</td>\n",
       "      <td>Not Specified</td>\n",
       "      <td>Not Specified</td>\n",
       "      <td>Not Specified</td>\n",
       "      <td>Not Specified</td>\n",
       "      <td>Not Specified</td>\n",
       "      <td>Not Specified</td>\n",
       "    </tr>\n",
       "    <tr>\n",
       "      <th>1358</th>\n",
       "      <td>Not Specified</td>\n",
       "      <td>Not Specified</td>\n",
       "      <td>Not Specified</td>\n",
       "      <td>Not Specified</td>\n",
       "      <td>Not Specified</td>\n",
       "      <td>Not Specified</td>\n",
       "      <td>Not Specified</td>\n",
       "      <td>Not Specified</td>\n",
       "    </tr>\n",
       "  </tbody>\n",
       "</table>\n",
       "<p>1359 rows × 8 columns</p>\n",
       "</div>"
      ],
      "text/plain": [
       "              policysup1        policysup2            policysup3  \\\n",
       "0          Not important     Not important  Moderately important   \n",
       "1          Not Specified     Not Specified         Not Specified   \n",
       "2          Not Specified     Not Specified         Not Specified   \n",
       "3     Slightly important  Highly important  Moderately important   \n",
       "4          Not Specified     Not Specified         Not Specified   \n",
       "...                  ...               ...                   ...   \n",
       "1354       Not Specified     Not Specified         Not Specified   \n",
       "1355       Not Specified     Not Specified         Not Specified   \n",
       "1356       Not Specified     Not Specified         Not Specified   \n",
       "1357       Not Specified     Not Specified         Not Specified   \n",
       "1358       Not Specified     Not Specified         Not Specified   \n",
       "\n",
       "            policysup4            policysup5        policysup6  \\\n",
       "0     Highly important      Highly important  Highly important   \n",
       "1        Not Specified         Not Specified     Not Specified   \n",
       "2        Not Specified         Not Specified     Not Specified   \n",
       "3     Highly important  Moderately important  Highly important   \n",
       "4        Not Specified         Not Specified     Not Specified   \n",
       "...                ...                   ...               ...   \n",
       "1354     Not Specified         Not Specified     Not Specified   \n",
       "1355     Not Specified         Not Specified     Not Specified   \n",
       "1356     Not Specified         Not Specified     Not Specified   \n",
       "1357     Not Specified         Not Specified     Not Specified   \n",
       "1358     Not Specified         Not Specified     Not Specified   \n",
       "\n",
       "            policysup7     policysup8  \n",
       "0        Not Specified  Not important  \n",
       "1        Not Specified  Not important  \n",
       "2        Not Specified  Not Specified  \n",
       "3     Highly important  Not Specified  \n",
       "4        Not Specified  Not Specified  \n",
       "...                ...            ...  \n",
       "1354     Not Specified  Not Specified  \n",
       "1355     Not Specified  Not Specified  \n",
       "1356     Not Specified  Not Specified  \n",
       "1357     Not Specified  Not Specified  \n",
       "1358     Not Specified  Not Specified  \n",
       "\n",
       "[1359 rows x 8 columns]"
      ]
     },
     "execution_count": 134,
     "metadata": {},
     "output_type": "execute_result"
    }
   ],
   "source": [
    "df3.replace({' ':'Not Specified'},inplace=True)\n",
    "df3#9"
   ]
  },
  {
   "cell_type": "code",
   "execution_count": null,
   "metadata": {},
   "outputs": [
    {
     "data": {
      "application/vnd.plotly.v1+json": {
       "config": {
        "plotlyServerURL": "https://plot.ly"
       },
       "data": [
        {
         "alignmentgroup": "True",
         "bingroup": "x",
         "hovertemplate": "policysup1=%{x}<br>count=%{y}<extra></extra>",
         "legendgroup": "Not important",
         "marker": {
          "color": "#636efa",
          "pattern": {
           "shape": ""
          }
         },
         "name": "Not important",
         "offsetgroup": "Not important",
         "orientation": "v",
         "showlegend": true,
         "type": "histogram",
         "x": [
          "Not important",
          "Not important",
          "Not important",
          "Not important",
          "Not important",
          "Not important",
          "Not important",
          "Not important",
          "Not important",
          "Not important",
          "Not important",
          "Not important",
          "Not important",
          "Not important",
          "Not important",
          "Not important",
          "Not important",
          "Not important",
          "Not important",
          "Not important",
          "Not important",
          "Not important",
          "Not important",
          "Not important",
          "Not important",
          "Not important",
          "Not important",
          "Not important",
          "Not important",
          "Not important",
          "Not important",
          "Not important",
          "Not important",
          "Not important",
          "Not important",
          "Not important",
          "Not important",
          "Not important",
          "Not important",
          "Not important",
          "Not important",
          "Not important",
          "Not important",
          "Not important",
          "Not important",
          "Not important",
          "Not important",
          "Not important",
          "Not important",
          "Not important",
          "Not important",
          "Not important",
          "Not important",
          "Not important",
          "Not important",
          "Not important",
          "Not important",
          "Not important",
          "Not important",
          "Not important",
          "Not important",
          "Not important",
          "Not important",
          "Not important",
          "Not important",
          "Not important",
          "Not important",
          "Not important",
          "Not important",
          "Not important",
          "Not important",
          "Not important",
          "Not important",
          "Not important",
          "Not important",
          "Not important",
          "Not important",
          "Not important",
          "Not important",
          "Not important",
          "Not important",
          "Not important",
          "Not important",
          "Not important",
          "Not important",
          "Not important",
          "Not important",
          "Not important",
          "Not important",
          "Not important",
          "Not important",
          "Not important",
          "Not important",
          "Not important",
          "Not important",
          "Not important",
          "Not important",
          "Not important",
          "Not important"
         ],
         "xaxis": "x",
         "yaxis": "y"
        },
        {
         "alignmentgroup": "True",
         "bingroup": "x",
         "hovertemplate": "policysup1=%{x}<br>count=%{y}<extra></extra>",
         "legendgroup": "Not Specified",
         "marker": {
          "color": "#EF553B",
          "pattern": {
           "shape": ""
          }
         },
         "name": "Not Specified",
         "offsetgroup": "Not Specified",
         "orientation": "v",
         "showlegend": true,
         "type": "histogram",
         "x": [
          "Not Specified",
          "Not Specified",
          "Not Specified",
          "Not Specified",
          "Not Specified",
          "Not Specified",
          "Not Specified",
          "Not Specified",
          "Not Specified",
          "Not Specified",
          "Not Specified",
          "Not Specified",
          "Not Specified",
          "Not Specified",
          "Not Specified",
          "Not Specified",
          "Not Specified",
          "Not Specified",
          "Not Specified",
          "Not Specified",
          "Not Specified",
          "Not Specified",
          "Not Specified",
          "Not Specified",
          "Not Specified",
          "Not Specified",
          "Not Specified",
          "Not Specified",
          "Not Specified",
          "Not Specified",
          "Not Specified",
          "Not Specified",
          "Not Specified",
          "Not Specified",
          "Not Specified",
          "Not Specified",
          "Not Specified",
          "Not Specified",
          "Not Specified",
          "Not Specified",
          "Not Specified",
          "Not Specified",
          "Not Specified",
          "Not Specified",
          "Not Specified",
          "Not Specified",
          "Not Specified",
          "Not Specified",
          "Not Specified",
          "Not Specified",
          "Not Specified",
          "Not Specified",
          "Not Specified",
          "Not Specified",
          "Not Specified",
          "Not Specified",
          "Not Specified",
          "Not Specified",
          "Not Specified",
          "Not Specified",
          "Not Specified",
          "Not Specified",
          "Not Specified",
          "Not Specified",
          "Not Specified",
          "Not Specified",
          "Not Specified",
          "Not Specified",
          "Not Specified",
          "Not Specified",
          "Not Specified",
          "Not Specified",
          "Not Specified",
          "Not Specified",
          "Not Specified",
          "Not Specified",
          "Not Specified",
          "Not Specified",
          "Not Specified",
          "Not Specified",
          "Not Specified",
          "Not Specified",
          "Not Specified",
          "Not Specified",
          "Not Specified",
          "Not Specified",
          "Not Specified",
          "Not Specified",
          "Not Specified",
          "Not Specified",
          "Not Specified",
          "Not Specified",
          "Not Specified",
          "Not Specified",
          "Not Specified",
          "Not Specified",
          "Not Specified",
          "Not Specified",
          "Not Specified",
          "Not Specified",
          "Not Specified",
          "Not Specified",
          "Not Specified",
          "Not Specified",
          "Not Specified",
          "Not Specified",
          "Not Specified",
          "Not Specified",
          "Not Specified",
          "Not Specified",
          "Not Specified",
          "Not Specified",
          "Not Specified",
          "Not Specified",
          "Not Specified",
          "Not Specified",
          "Not Specified",
          "Not Specified",
          "Not Specified",
          "Not Specified",
          "Not Specified",
          "Not Specified",
          "Not Specified",
          "Not Specified",
          "Not Specified",
          "Not Specified",
          "Not Specified",
          "Not Specified",
          "Not Specified",
          "Not Specified",
          "Not Specified",
          "Not Specified",
          "Not Specified",
          "Not Specified",
          "Not Specified",
          "Not Specified",
          "Not Specified",
          "Not Specified",
          "Not Specified",
          "Not Specified",
          "Not Specified",
          "Not Specified",
          "Not Specified",
          "Not Specified",
          "Not Specified",
          "Not Specified",
          "Not Specified",
          "Not Specified",
          "Not Specified",
          "Not Specified",
          "Not Specified",
          "Not Specified",
          "Not Specified",
          "Not Specified",
          "Not Specified",
          "Not Specified",
          "Not Specified",
          "Not Specified",
          "Not Specified",
          "Not Specified",
          "Not Specified",
          "Not Specified",
          "Not Specified",
          "Not Specified",
          "Not Specified",
          "Not Specified",
          "Not Specified",
          "Not Specified",
          "Not Specified",
          "Not Specified",
          "Not Specified",
          "Not Specified",
          "Not Specified",
          "Not Specified",
          "Not Specified",
          "Not Specified",
          "Not Specified",
          "Not Specified",
          "Not Specified",
          "Not Specified",
          "Not Specified",
          "Not Specified",
          "Not Specified",
          "Not Specified",
          "Not Specified",
          "Not Specified",
          "Not Specified",
          "Not Specified",
          "Not Specified",
          "Not Specified",
          "Not Specified",
          "Not Specified",
          "Not Specified",
          "Not Specified",
          "Not Specified",
          "Not Specified",
          "Not Specified",
          "Not Specified",
          "Not Specified",
          "Not Specified",
          "Not Specified",
          "Not Specified",
          "Not Specified",
          "Not Specified",
          "Not Specified",
          "Not Specified",
          "Not Specified",
          "Not Specified",
          "Not Specified",
          "Not Specified",
          "Not Specified",
          "Not Specified",
          "Not Specified",
          "Not Specified",
          "Not Specified",
          "Not Specified",
          "Not Specified",
          "Not Specified",
          "Not Specified",
          "Not Specified",
          "Not Specified",
          "Not Specified",
          "Not Specified",
          "Not Specified",
          "Not Specified",
          "Not Specified",
          "Not Specified",
          "Not Specified",
          "Not Specified",
          "Not Specified",
          "Not Specified",
          "Not Specified",
          "Not Specified",
          "Not Specified",
          "Not Specified",
          "Not Specified",
          "Not Specified",
          "Not Specified",
          "Not Specified",
          "Not Specified",
          "Not Specified",
          "Not Specified",
          "Not Specified",
          "Not Specified",
          "Not Specified",
          "Not Specified",
          "Not Specified",
          "Not Specified",
          "Not Specified",
          "Not Specified",
          "Not Specified",
          "Not Specified",
          "Not Specified",
          "Not Specified",
          "Not Specified",
          "Not Specified",
          "Not Specified",
          "Not Specified",
          "Not Specified",
          "Not Specified",
          "Not Specified",
          "Not Specified",
          "Not Specified",
          "Not Specified",
          "Not Specified",
          "Not Specified",
          "Not Specified",
          "Not Specified",
          "Not Specified",
          "Not Specified",
          "Not Specified",
          "Not Specified",
          "Not Specified",
          "Not Specified",
          "Not Specified",
          "Not Specified",
          "Not Specified",
          "Not Specified",
          "Not Specified",
          "Not Specified",
          "Not Specified",
          "Not Specified",
          "Not Specified",
          "Not Specified",
          "Not Specified",
          "Not Specified",
          "Not Specified",
          "Not Specified",
          "Not Specified",
          "Not Specified",
          "Not Specified",
          "Not Specified",
          "Not Specified",
          "Not Specified",
          "Not Specified",
          "Not Specified",
          "Not Specified",
          "Not Specified",
          "Not Specified",
          "Not Specified",
          "Not Specified",
          "Not Specified",
          "Not Specified",
          "Not Specified",
          "Not Specified",
          "Not Specified",
          "Not Specified",
          "Not Specified",
          "Not Specified",
          "Not Specified",
          "Not Specified",
          "Not Specified",
          "Not Specified",
          "Not Specified",
          "Not Specified",
          "Not Specified",
          "Not Specified",
          "Not Specified",
          "Not Specified",
          "Not Specified",
          "Not Specified",
          "Not Specified",
          "Not Specified",
          "Not Specified",
          "Not Specified",
          "Not Specified",
          "Not Specified",
          "Not Specified",
          "Not Specified",
          "Not Specified",
          "Not Specified",
          "Not Specified",
          "Not Specified",
          "Not Specified",
          "Not Specified",
          "Not Specified",
          "Not Specified",
          "Not Specified",
          "Not Specified",
          "Not Specified",
          "Not Specified",
          "Not Specified",
          "Not Specified",
          "Not Specified",
          "Not Specified",
          "Not Specified",
          "Not Specified",
          "Not Specified",
          "Not Specified",
          "Not Specified",
          "Not Specified",
          "Not Specified",
          "Not Specified",
          "Not Specified",
          "Not Specified",
          "Not Specified",
          "Not Specified",
          "Not Specified",
          "Not Specified",
          "Not Specified",
          "Not Specified",
          "Not Specified",
          "Not Specified",
          "Not Specified",
          "Not Specified",
          "Not Specified",
          "Not Specified",
          "Not Specified",
          "Not Specified",
          "Not Specified",
          "Not Specified",
          "Not Specified",
          "Not Specified",
          "Not Specified",
          "Not Specified",
          "Not Specified",
          "Not Specified",
          "Not Specified",
          "Not Specified",
          "Not Specified",
          "Not Specified",
          "Not Specified",
          "Not Specified",
          "Not Specified",
          "Not Specified",
          "Not Specified",
          "Not Specified",
          "Not Specified",
          "Not Specified",
          "Not Specified",
          "Not Specified",
          "Not Specified",
          "Not Specified",
          "Not Specified",
          "Not Specified",
          "Not Specified",
          "Not Specified",
          "Not Specified",
          "Not Specified",
          "Not Specified",
          "Not Specified",
          "Not Specified",
          "Not Specified",
          "Not Specified",
          "Not Specified",
          "Not Specified",
          "Not Specified",
          "Not Specified",
          "Not Specified",
          "Not Specified",
          "Not Specified",
          "Not Specified",
          "Not Specified",
          "Not Specified",
          "Not Specified",
          "Not Specified",
          "Not Specified",
          "Not Specified",
          "Not Specified",
          "Not Specified",
          "Not Specified",
          "Not Specified",
          "Not Specified",
          "Not Specified",
          "Not Specified",
          "Not Specified",
          "Not Specified",
          "Not Specified",
          "Not Specified",
          "Not Specified",
          "Not Specified",
          "Not Specified",
          "Not Specified",
          "Not Specified",
          "Not Specified",
          "Not Specified",
          "Not Specified",
          "Not Specified",
          "Not Specified",
          "Not Specified",
          "Not Specified",
          "Not Specified",
          "Not Specified",
          "Not Specified",
          "Not Specified",
          "Not Specified",
          "Not Specified",
          "Not Specified",
          "Not Specified",
          "Not Specified",
          "Not Specified",
          "Not Specified",
          "Not Specified",
          "Not Specified",
          "Not Specified",
          "Not Specified",
          "Not Specified",
          "Not Specified",
          "Not Specified",
          "Not Specified",
          "Not Specified",
          "Not Specified",
          "Not Specified",
          "Not Specified",
          "Not Specified",
          "Not Specified",
          "Not Specified",
          "Not Specified",
          "Not Specified",
          "Not Specified",
          "Not Specified",
          "Not Specified",
          "Not Specified",
          "Not Specified",
          "Not Specified",
          "Not Specified",
          "Not Specified",
          "Not Specified",
          "Not Specified",
          "Not Specified",
          "Not Specified",
          "Not Specified",
          "Not Specified",
          "Not Specified",
          "Not Specified",
          "Not Specified",
          "Not Specified",
          "Not Specified",
          "Not Specified",
          "Not Specified",
          "Not Specified",
          "Not Specified",
          "Not Specified",
          "Not Specified",
          "Not Specified",
          "Not Specified",
          "Not Specified",
          "Not Specified",
          "Not Specified",
          "Not Specified",
          "Not Specified",
          "Not Specified",
          "Not Specified",
          "Not Specified",
          "Not Specified",
          "Not Specified",
          "Not Specified",
          "Not Specified",
          "Not Specified",
          "Not Specified",
          "Not Specified",
          "Not Specified",
          "Not Specified",
          "Not Specified",
          "Not Specified",
          "Not Specified",
          "Not Specified",
          "Not Specified",
          "Not Specified",
          "Not Specified",
          "Not Specified",
          "Not Specified",
          "Not Specified",
          "Not Specified",
          "Not Specified",
          "Not Specified",
          "Not Specified",
          "Not Specified",
          "Not Specified",
          "Not Specified",
          "Not Specified",
          "Not Specified",
          "Not Specified",
          "Not Specified",
          "Not Specified",
          "Not Specified",
          "Not Specified",
          "Not Specified",
          "Not Specified",
          "Not Specified",
          "Not Specified",
          "Not Specified",
          "Not Specified",
          "Not Specified",
          "Not Specified",
          "Not Specified",
          "Not Specified",
          "Not Specified",
          "Not Specified",
          "Not Specified",
          "Not Specified",
          "Not Specified",
          "Not Specified",
          "Not Specified",
          "Not Specified",
          "Not Specified",
          "Not Specified",
          "Not Specified",
          "Not Specified",
          "Not Specified",
          "Not Specified",
          "Not Specified",
          "Not Specified",
          "Not Specified",
          "Not Specified",
          "Not Specified",
          "Not Specified",
          "Not Specified",
          "Not Specified",
          "Not Specified",
          "Not Specified",
          "Not Specified",
          "Not Specified",
          "Not Specified",
          "Not Specified",
          "Not Specified",
          "Not Specified",
          "Not Specified",
          "Not Specified",
          "Not Specified",
          "Not Specified",
          "Not Specified",
          "Not Specified",
          "Not Specified",
          "Not Specified",
          "Not Specified",
          "Not Specified",
          "Not Specified",
          "Not Specified",
          "Not Specified",
          "Not Specified",
          "Not Specified",
          "Not Specified",
          "Not Specified",
          "Not Specified",
          "Not Specified",
          "Not Specified",
          "Not Specified",
          "Not Specified",
          "Not Specified",
          "Not Specified",
          "Not Specified",
          "Not Specified",
          "Not Specified",
          "Not Specified",
          "Not Specified",
          "Not Specified",
          "Not Specified",
          "Not Specified",
          "Not Specified",
          "Not Specified",
          "Not Specified",
          "Not Specified",
          "Not Specified",
          "Not Specified",
          "Not Specified",
          "Not Specified",
          "Not Specified",
          "Not Specified",
          "Not Specified",
          "Not Specified",
          "Not Specified",
          "Not Specified",
          "Not Specified",
          "Not Specified",
          "Not Specified",
          "Not Specified",
          "Not Specified",
          "Not Specified",
          "Not Specified",
          "Not Specified",
          "Not Specified",
          "Not Specified",
          "Not Specified",
          "Not Specified",
          "Not Specified",
          "Not Specified",
          "Not Specified",
          "Not Specified",
          "Not Specified",
          "Not Specified",
          "Not Specified",
          "Not Specified",
          "Not Specified",
          "Not Specified",
          "Not Specified",
          "Not Specified",
          "Not Specified",
          "Not Specified",
          "Not Specified",
          "Not Specified",
          "Not Specified",
          "Not Specified",
          "Not Specified",
          "Not Specified",
          "Not Specified",
          "Not Specified",
          "Not Specified",
          "Not Specified",
          "Not Specified",
          "Not Specified",
          "Not Specified",
          "Not Specified",
          "Not Specified",
          "Not Specified",
          "Not Specified",
          "Not Specified",
          "Not Specified",
          "Not Specified",
          "Not Specified",
          "Not Specified",
          "Not Specified",
          "Not Specified",
          "Not Specified",
          "Not Specified",
          "Not Specified",
          "Not Specified",
          "Not Specified",
          "Not Specified",
          "Not Specified",
          "Not Specified",
          "Not Specified",
          "Not Specified",
          "Not Specified",
          "Not Specified",
          "Not Specified",
          "Not Specified",
          "Not Specified",
          "Not Specified",
          "Not Specified",
          "Not Specified",
          "Not Specified",
          "Not Specified",
          "Not Specified",
          "Not Specified",
          "Not Specified",
          "Not Specified",
          "Not Specified",
          "Not Specified",
          "Not Specified",
          "Not Specified",
          "Not Specified",
          "Not Specified",
          "Not Specified",
          "Not Specified",
          "Not Specified",
          "Not Specified",
          "Not Specified",
          "Not Specified",
          "Not Specified",
          "Not Specified",
          "Not Specified",
          "Not Specified",
          "Not Specified",
          "Not Specified",
          "Not Specified",
          "Not Specified",
          "Not Specified",
          "Not Specified",
          "Not Specified",
          "Not Specified",
          "Not Specified",
          "Not Specified",
          "Not Specified",
          "Not Specified",
          "Not Specified",
          "Not Specified",
          "Not Specified",
          "Not Specified",
          "Not Specified",
          "Not Specified",
          "Not Specified",
          "Not Specified",
          "Not Specified",
          "Not Specified",
          "Not Specified",
          "Not Specified",
          "Not Specified",
          "Not Specified",
          "Not Specified",
          "Not Specified",
          "Not Specified",
          "Not Specified",
          "Not Specified",
          "Not Specified",
          "Not Specified",
          "Not Specified",
          "Not Specified",
          "Not Specified",
          "Not Specified",
          "Not Specified",
          "Not Specified",
          "Not Specified",
          "Not Specified",
          "Not Specified",
          "Not Specified",
          "Not Specified",
          "Not Specified",
          "Not Specified",
          "Not Specified",
          "Not Specified",
          "Not Specified",
          "Not Specified",
          "Not Specified",
          "Not Specified",
          "Not Specified",
          "Not Specified",
          "Not Specified",
          "Not Specified",
          "Not Specified",
          "Not Specified",
          "Not Specified",
          "Not Specified",
          "Not Specified",
          "Not Specified",
          "Not Specified",
          "Not Specified",
          "Not Specified",
          "Not Specified",
          "Not Specified",
          "Not Specified",
          "Not Specified",
          "Not Specified",
          "Not Specified",
          "Not Specified",
          "Not Specified",
          "Not Specified",
          "Not Specified",
          "Not Specified",
          "Not Specified",
          "Not Specified",
          "Not Specified",
          "Not Specified",
          "Not Specified",
          "Not Specified",
          "Not Specified",
          "Not Specified",
          "Not Specified",
          "Not Specified",
          "Not Specified",
          "Not Specified",
          "Not Specified",
          "Not Specified",
          "Not Specified",
          "Not Specified",
          "Not Specified",
          "Not Specified",
          "Not Specified",
          "Not Specified",
          "Not Specified",
          "Not Specified",
          "Not Specified",
          "Not Specified",
          "Not Specified",
          "Not Specified",
          "Not Specified",
          "Not Specified",
          "Not Specified",
          "Not Specified",
          "Not Specified",
          "Not Specified",
          "Not Specified",
          "Not Specified",
          "Not Specified",
          "Not Specified",
          "Not Specified",
          "Not Specified",
          "Not Specified",
          "Not Specified",
          "Not Specified",
          "Not Specified",
          "Not Specified",
          "Not Specified",
          "Not Specified",
          "Not Specified",
          "Not Specified",
          "Not Specified",
          "Not Specified",
          "Not Specified",
          "Not Specified",
          "Not Specified",
          "Not Specified",
          "Not Specified",
          "Not Specified",
          "Not Specified",
          "Not Specified",
          "Not Specified",
          "Not Specified",
          "Not Specified",
          "Not Specified",
          "Not Specified",
          "Not Specified",
          "Not Specified",
          "Not Specified",
          "Not Specified",
          "Not Specified",
          "Not Specified",
          "Not Specified",
          "Not Specified",
          "Not Specified",
          "Not Specified",
          "Not Specified",
          "Not Specified",
          "Not Specified",
          "Not Specified",
          "Not Specified",
          "Not Specified",
          "Not Specified",
          "Not Specified",
          "Not Specified",
          "Not Specified",
          "Not Specified",
          "Not Specified",
          "Not Specified",
          "Not Specified",
          "Not Specified",
          "Not Specified",
          "Not Specified",
          "Not Specified",
          "Not Specified",
          "Not Specified",
          "Not Specified",
          "Not Specified",
          "Not Specified",
          "Not Specified",
          "Not Specified",
          "Not Specified",
          "Not Specified",
          "Not Specified",
          "Not Specified",
          "Not Specified",
          "Not Specified",
          "Not Specified",
          "Not Specified",
          "Not Specified",
          "Not Specified",
          "Not Specified",
          "Not Specified",
          "Not Specified",
          "Not Specified",
          "Not Specified",
          "Not Specified",
          "Not Specified",
          "Not Specified",
          "Not Specified",
          "Not Specified",
          "Not Specified",
          "Not Specified",
          "Not Specified",
          "Not Specified",
          "Not Specified",
          "Not Specified",
          "Not Specified",
          "Not Specified",
          "Not Specified",
          "Not Specified",
          "Not Specified",
          "Not Specified",
          "Not Specified",
          "Not Specified",
          "Not Specified",
          "Not Specified",
          "Not Specified",
          "Not Specified",
          "Not Specified",
          "Not Specified",
          "Not Specified",
          "Not Specified",
          "Not Specified",
          "Not Specified",
          "Not Specified",
          "Not Specified",
          "Not Specified",
          "Not Specified",
          "Not Specified",
          "Not Specified",
          "Not Specified",
          "Not Specified",
          "Not Specified",
          "Not Specified",
          "Not Specified",
          "Not Specified",
          "Not Specified",
          "Not Specified",
          "Not Specified",
          "Not Specified",
          "Not Specified",
          "Not Specified",
          "Not Specified",
          "Not Specified",
          "Not Specified",
          "Not Specified",
          "Not Specified",
          "Not Specified",
          "Not Specified",
          "Not Specified",
          "Not Specified",
          "Not Specified",
          "Not Specified",
          "Not Specified",
          "Not Specified",
          "Not Specified"
         ],
         "xaxis": "x",
         "yaxis": "y"
        },
        {
         "alignmentgroup": "True",
         "bingroup": "x",
         "hovertemplate": "policysup1=%{x}<br>count=%{y}<extra></extra>",
         "legendgroup": "Slightly important",
         "marker": {
          "color": "#00cc96",
          "pattern": {
           "shape": ""
          }
         },
         "name": "Slightly important",
         "offsetgroup": "Slightly important",
         "orientation": "v",
         "showlegend": true,
         "type": "histogram",
         "x": [
          "Slightly important",
          "Slightly important",
          "Slightly important",
          "Slightly important",
          "Slightly important",
          "Slightly important",
          "Slightly important",
          "Slightly important",
          "Slightly important",
          "Slightly important",
          "Slightly important",
          "Slightly important",
          "Slightly important",
          "Slightly important",
          "Slightly important",
          "Slightly important",
          "Slightly important",
          "Slightly important",
          "Slightly important",
          "Slightly important",
          "Slightly important",
          "Slightly important",
          "Slightly important",
          "Slightly important",
          "Slightly important",
          "Slightly important",
          "Slightly important",
          "Slightly important",
          "Slightly important",
          "Slightly important",
          "Slightly important",
          "Slightly important",
          "Slightly important",
          "Slightly important",
          "Slightly important",
          "Slightly important",
          "Slightly important",
          "Slightly important",
          "Slightly important",
          "Slightly important",
          "Slightly important"
         ],
         "xaxis": "x",
         "yaxis": "y"
        },
        {
         "alignmentgroup": "True",
         "bingroup": "x",
         "hovertemplate": "policysup1=%{x}<br>count=%{y}<extra></extra>",
         "legendgroup": "Highly important",
         "marker": {
          "color": "#ab63fa",
          "pattern": {
           "shape": ""
          }
         },
         "name": "Highly important",
         "offsetgroup": "Highly important",
         "orientation": "v",
         "showlegend": true,
         "type": "histogram",
         "x": [
          "Highly important",
          "Highly important",
          "Highly important",
          "Highly important",
          "Highly important",
          "Highly important",
          "Highly important",
          "Highly important",
          "Highly important",
          "Highly important",
          "Highly important",
          "Highly important",
          "Highly important",
          "Highly important",
          "Highly important",
          "Highly important",
          "Highly important",
          "Highly important",
          "Highly important",
          "Highly important",
          "Highly important",
          "Highly important",
          "Highly important",
          "Highly important",
          "Highly important",
          "Highly important",
          "Highly important",
          "Highly important",
          "Highly important",
          "Highly important",
          "Highly important",
          "Highly important",
          "Highly important",
          "Highly important",
          "Highly important",
          "Highly important",
          "Highly important",
          "Highly important",
          "Highly important",
          "Highly important",
          "Highly important",
          "Highly important",
          "Highly important",
          "Highly important",
          "Highly important",
          "Highly important",
          "Highly important",
          "Highly important",
          "Highly important",
          "Highly important",
          "Highly important",
          "Highly important",
          "Highly important",
          "Highly important",
          "Highly important",
          "Highly important",
          "Highly important",
          "Highly important",
          "Highly important",
          "Highly important",
          "Highly important",
          "Highly important",
          "Highly important",
          "Highly important",
          "Highly important",
          "Highly important",
          "Highly important",
          "Highly important",
          "Highly important",
          "Highly important",
          "Highly important",
          "Highly important",
          "Highly important",
          "Highly important",
          "Highly important",
          "Highly important",
          "Highly important",
          "Highly important",
          "Highly important",
          "Highly important",
          "Highly important",
          "Highly important",
          "Highly important",
          "Highly important",
          "Highly important",
          "Highly important",
          "Highly important",
          "Highly important",
          "Highly important",
          "Highly important",
          "Highly important",
          "Highly important",
          "Highly important",
          "Highly important",
          "Highly important",
          "Highly important",
          "Highly important",
          "Highly important",
          "Highly important",
          "Highly important",
          "Highly important",
          "Highly important",
          "Highly important",
          "Highly important",
          "Highly important",
          "Highly important",
          "Highly important",
          "Highly important",
          "Highly important",
          "Highly important",
          "Highly important",
          "Highly important",
          "Highly important",
          "Highly important",
          "Highly important",
          "Highly important",
          "Highly important",
          "Highly important",
          "Highly important",
          "Highly important",
          "Highly important",
          "Highly important",
          "Highly important",
          "Highly important",
          "Highly important",
          "Highly important",
          "Highly important",
          "Highly important",
          "Highly important",
          "Highly important",
          "Highly important",
          "Highly important",
          "Highly important",
          "Highly important",
          "Highly important",
          "Highly important",
          "Highly important",
          "Highly important",
          "Highly important",
          "Highly important",
          "Highly important",
          "Highly important",
          "Highly important",
          "Highly important",
          "Highly important",
          "Highly important",
          "Highly important",
          "Highly important",
          "Highly important",
          "Highly important",
          "Highly important",
          "Highly important",
          "Highly important",
          "Highly important",
          "Highly important",
          "Highly important",
          "Highly important",
          "Highly important",
          "Highly important",
          "Highly important",
          "Highly important",
          "Highly important",
          "Highly important",
          "Highly important",
          "Highly important",
          "Highly important",
          "Highly important",
          "Highly important",
          "Highly important",
          "Highly important",
          "Highly important",
          "Highly important",
          "Highly important",
          "Highly important",
          "Highly important",
          "Highly important",
          "Highly important",
          "Highly important",
          "Highly important",
          "Highly important",
          "Highly important",
          "Highly important",
          "Highly important",
          "Highly important",
          "Highly important",
          "Highly important",
          "Highly important",
          "Highly important",
          "Highly important",
          "Highly important",
          "Highly important",
          "Highly important",
          "Highly important",
          "Highly important",
          "Highly important",
          "Highly important"
         ],
         "xaxis": "x",
         "yaxis": "y"
        },
        {
         "alignmentgroup": "True",
         "bingroup": "x",
         "hovertemplate": "policysup1=%{x}<br>count=%{y}<extra></extra>",
         "legendgroup": "Moderately important",
         "marker": {
          "color": "#FFA15A",
          "pattern": {
           "shape": ""
          }
         },
         "name": "Moderately important",
         "offsetgroup": "Moderately important",
         "orientation": "v",
         "showlegend": true,
         "type": "histogram",
         "x": [
          "Moderately important",
          "Moderately important",
          "Moderately important",
          "Moderately important",
          "Moderately important",
          "Moderately important",
          "Moderately important",
          "Moderately important",
          "Moderately important",
          "Moderately important",
          "Moderately important",
          "Moderately important",
          "Moderately important",
          "Moderately important",
          "Moderately important",
          "Moderately important",
          "Moderately important",
          "Moderately important",
          "Moderately important",
          "Moderately important",
          "Moderately important",
          "Moderately important",
          "Moderately important",
          "Moderately important",
          "Moderately important",
          "Moderately important",
          "Moderately important",
          "Moderately important",
          "Moderately important",
          "Moderately important",
          "Moderately important",
          "Moderately important",
          "Moderately important",
          "Moderately important",
          "Moderately important",
          "Moderately important",
          "Moderately important",
          "Moderately important",
          "Moderately important",
          "Moderately important",
          "Moderately important",
          "Moderately important",
          "Moderately important",
          "Moderately important",
          "Moderately important",
          "Moderately important",
          "Moderately important",
          "Moderately important",
          "Moderately important",
          "Moderately important",
          "Moderately important",
          "Moderately important",
          "Moderately important",
          "Moderately important",
          "Moderately important",
          "Moderately important",
          "Moderately important",
          "Moderately important",
          "Moderately important",
          "Moderately important",
          "Moderately important"
         ],
         "xaxis": "x",
         "yaxis": "y"
        }
       ],
       "layout": {
        "barmode": "relative",
        "height": 600,
        "legend": {
         "title": {
          "text": "policysup1"
         },
         "tracegroupgap": 0
        },
        "margin": {
         "b": 20,
         "l": 20,
         "r": 20,
         "t": 20
        },
        "paper_bgcolor": "#202A44",
        "template": {
         "data": {
          "bar": [
           {
            "error_x": {
             "color": "#2a3f5f"
            },
            "error_y": {
             "color": "#2a3f5f"
            },
            "marker": {
             "line": {
              "color": "#E5ECF6",
              "width": 0.5
             },
             "pattern": {
              "fillmode": "overlay",
              "size": 10,
              "solidity": 0.2
             }
            },
            "type": "bar"
           }
          ],
          "barpolar": [
           {
            "marker": {
             "line": {
              "color": "#E5ECF6",
              "width": 0.5
             },
             "pattern": {
              "fillmode": "overlay",
              "size": 10,
              "solidity": 0.2
             }
            },
            "type": "barpolar"
           }
          ],
          "carpet": [
           {
            "aaxis": {
             "endlinecolor": "#2a3f5f",
             "gridcolor": "white",
             "linecolor": "white",
             "minorgridcolor": "white",
             "startlinecolor": "#2a3f5f"
            },
            "baxis": {
             "endlinecolor": "#2a3f5f",
             "gridcolor": "white",
             "linecolor": "white",
             "minorgridcolor": "white",
             "startlinecolor": "#2a3f5f"
            },
            "type": "carpet"
           }
          ],
          "choropleth": [
           {
            "colorbar": {
             "outlinewidth": 0,
             "ticks": ""
            },
            "type": "choropleth"
           }
          ],
          "contour": [
           {
            "colorbar": {
             "outlinewidth": 0,
             "ticks": ""
            },
            "colorscale": [
             [
              0,
              "#0d0887"
             ],
             [
              0.1111111111111111,
              "#46039f"
             ],
             [
              0.2222222222222222,
              "#7201a8"
             ],
             [
              0.3333333333333333,
              "#9c179e"
             ],
             [
              0.4444444444444444,
              "#bd3786"
             ],
             [
              0.5555555555555556,
              "#d8576b"
             ],
             [
              0.6666666666666666,
              "#ed7953"
             ],
             [
              0.7777777777777778,
              "#fb9f3a"
             ],
             [
              0.8888888888888888,
              "#fdca26"
             ],
             [
              1,
              "#f0f921"
             ]
            ],
            "type": "contour"
           }
          ],
          "contourcarpet": [
           {
            "colorbar": {
             "outlinewidth": 0,
             "ticks": ""
            },
            "type": "contourcarpet"
           }
          ],
          "heatmap": [
           {
            "colorbar": {
             "outlinewidth": 0,
             "ticks": ""
            },
            "colorscale": [
             [
              0,
              "#0d0887"
             ],
             [
              0.1111111111111111,
              "#46039f"
             ],
             [
              0.2222222222222222,
              "#7201a8"
             ],
             [
              0.3333333333333333,
              "#9c179e"
             ],
             [
              0.4444444444444444,
              "#bd3786"
             ],
             [
              0.5555555555555556,
              "#d8576b"
             ],
             [
              0.6666666666666666,
              "#ed7953"
             ],
             [
              0.7777777777777778,
              "#fb9f3a"
             ],
             [
              0.8888888888888888,
              "#fdca26"
             ],
             [
              1,
              "#f0f921"
             ]
            ],
            "type": "heatmap"
           }
          ],
          "heatmapgl": [
           {
            "colorbar": {
             "outlinewidth": 0,
             "ticks": ""
            },
            "colorscale": [
             [
              0,
              "#0d0887"
             ],
             [
              0.1111111111111111,
              "#46039f"
             ],
             [
              0.2222222222222222,
              "#7201a8"
             ],
             [
              0.3333333333333333,
              "#9c179e"
             ],
             [
              0.4444444444444444,
              "#bd3786"
             ],
             [
              0.5555555555555556,
              "#d8576b"
             ],
             [
              0.6666666666666666,
              "#ed7953"
             ],
             [
              0.7777777777777778,
              "#fb9f3a"
             ],
             [
              0.8888888888888888,
              "#fdca26"
             ],
             [
              1,
              "#f0f921"
             ]
            ],
            "type": "heatmapgl"
           }
          ],
          "histogram": [
           {
            "marker": {
             "pattern": {
              "fillmode": "overlay",
              "size": 10,
              "solidity": 0.2
             }
            },
            "type": "histogram"
           }
          ],
          "histogram2d": [
           {
            "colorbar": {
             "outlinewidth": 0,
             "ticks": ""
            },
            "colorscale": [
             [
              0,
              "#0d0887"
             ],
             [
              0.1111111111111111,
              "#46039f"
             ],
             [
              0.2222222222222222,
              "#7201a8"
             ],
             [
              0.3333333333333333,
              "#9c179e"
             ],
             [
              0.4444444444444444,
              "#bd3786"
             ],
             [
              0.5555555555555556,
              "#d8576b"
             ],
             [
              0.6666666666666666,
              "#ed7953"
             ],
             [
              0.7777777777777778,
              "#fb9f3a"
             ],
             [
              0.8888888888888888,
              "#fdca26"
             ],
             [
              1,
              "#f0f921"
             ]
            ],
            "type": "histogram2d"
           }
          ],
          "histogram2dcontour": [
           {
            "colorbar": {
             "outlinewidth": 0,
             "ticks": ""
            },
            "colorscale": [
             [
              0,
              "#0d0887"
             ],
             [
              0.1111111111111111,
              "#46039f"
             ],
             [
              0.2222222222222222,
              "#7201a8"
             ],
             [
              0.3333333333333333,
              "#9c179e"
             ],
             [
              0.4444444444444444,
              "#bd3786"
             ],
             [
              0.5555555555555556,
              "#d8576b"
             ],
             [
              0.6666666666666666,
              "#ed7953"
             ],
             [
              0.7777777777777778,
              "#fb9f3a"
             ],
             [
              0.8888888888888888,
              "#fdca26"
             ],
             [
              1,
              "#f0f921"
             ]
            ],
            "type": "histogram2dcontour"
           }
          ],
          "mesh3d": [
           {
            "colorbar": {
             "outlinewidth": 0,
             "ticks": ""
            },
            "type": "mesh3d"
           }
          ],
          "parcoords": [
           {
            "line": {
             "colorbar": {
              "outlinewidth": 0,
              "ticks": ""
             }
            },
            "type": "parcoords"
           }
          ],
          "pie": [
           {
            "automargin": true,
            "type": "pie"
           }
          ],
          "scatter": [
           {
            "fillpattern": {
             "fillmode": "overlay",
             "size": 10,
             "solidity": 0.2
            },
            "type": "scatter"
           }
          ],
          "scatter3d": [
           {
            "line": {
             "colorbar": {
              "outlinewidth": 0,
              "ticks": ""
             }
            },
            "marker": {
             "colorbar": {
              "outlinewidth": 0,
              "ticks": ""
             }
            },
            "type": "scatter3d"
           }
          ],
          "scattercarpet": [
           {
            "marker": {
             "colorbar": {
              "outlinewidth": 0,
              "ticks": ""
             }
            },
            "type": "scattercarpet"
           }
          ],
          "scattergeo": [
           {
            "marker": {
             "colorbar": {
              "outlinewidth": 0,
              "ticks": ""
             }
            },
            "type": "scattergeo"
           }
          ],
          "scattergl": [
           {
            "marker": {
             "colorbar": {
              "outlinewidth": 0,
              "ticks": ""
             }
            },
            "type": "scattergl"
           }
          ],
          "scattermapbox": [
           {
            "marker": {
             "colorbar": {
              "outlinewidth": 0,
              "ticks": ""
             }
            },
            "type": "scattermapbox"
           }
          ],
          "scatterpolar": [
           {
            "marker": {
             "colorbar": {
              "outlinewidth": 0,
              "ticks": ""
             }
            },
            "type": "scatterpolar"
           }
          ],
          "scatterpolargl": [
           {
            "marker": {
             "colorbar": {
              "outlinewidth": 0,
              "ticks": ""
             }
            },
            "type": "scatterpolargl"
           }
          ],
          "scatterternary": [
           {
            "marker": {
             "colorbar": {
              "outlinewidth": 0,
              "ticks": ""
             }
            },
            "type": "scatterternary"
           }
          ],
          "surface": [
           {
            "colorbar": {
             "outlinewidth": 0,
             "ticks": ""
            },
            "colorscale": [
             [
              0,
              "#0d0887"
             ],
             [
              0.1111111111111111,
              "#46039f"
             ],
             [
              0.2222222222222222,
              "#7201a8"
             ],
             [
              0.3333333333333333,
              "#9c179e"
             ],
             [
              0.4444444444444444,
              "#bd3786"
             ],
             [
              0.5555555555555556,
              "#d8576b"
             ],
             [
              0.6666666666666666,
              "#ed7953"
             ],
             [
              0.7777777777777778,
              "#fb9f3a"
             ],
             [
              0.8888888888888888,
              "#fdca26"
             ],
             [
              1,
              "#f0f921"
             ]
            ],
            "type": "surface"
           }
          ],
          "table": [
           {
            "cells": {
             "fill": {
              "color": "#EBF0F8"
             },
             "line": {
              "color": "white"
             }
            },
            "header": {
             "fill": {
              "color": "#C8D4E3"
             },
             "line": {
              "color": "white"
             }
            },
            "type": "table"
           }
          ]
         },
         "layout": {
          "annotationdefaults": {
           "arrowcolor": "#2a3f5f",
           "arrowhead": 0,
           "arrowwidth": 1
          },
          "autotypenumbers": "strict",
          "coloraxis": {
           "colorbar": {
            "outlinewidth": 0,
            "ticks": ""
           }
          },
          "colorscale": {
           "diverging": [
            [
             0,
             "#8e0152"
            ],
            [
             0.1,
             "#c51b7d"
            ],
            [
             0.2,
             "#de77ae"
            ],
            [
             0.3,
             "#f1b6da"
            ],
            [
             0.4,
             "#fde0ef"
            ],
            [
             0.5,
             "#f7f7f7"
            ],
            [
             0.6,
             "#e6f5d0"
            ],
            [
             0.7,
             "#b8e186"
            ],
            [
             0.8,
             "#7fbc41"
            ],
            [
             0.9,
             "#4d9221"
            ],
            [
             1,
             "#276419"
            ]
           ],
           "sequential": [
            [
             0,
             "#0d0887"
            ],
            [
             0.1111111111111111,
             "#46039f"
            ],
            [
             0.2222222222222222,
             "#7201a8"
            ],
            [
             0.3333333333333333,
             "#9c179e"
            ],
            [
             0.4444444444444444,
             "#bd3786"
            ],
            [
             0.5555555555555556,
             "#d8576b"
            ],
            [
             0.6666666666666666,
             "#ed7953"
            ],
            [
             0.7777777777777778,
             "#fb9f3a"
            ],
            [
             0.8888888888888888,
             "#fdca26"
            ],
            [
             1,
             "#f0f921"
            ]
           ],
           "sequentialminus": [
            [
             0,
             "#0d0887"
            ],
            [
             0.1111111111111111,
             "#46039f"
            ],
            [
             0.2222222222222222,
             "#7201a8"
            ],
            [
             0.3333333333333333,
             "#9c179e"
            ],
            [
             0.4444444444444444,
             "#bd3786"
            ],
            [
             0.5555555555555556,
             "#d8576b"
            ],
            [
             0.6666666666666666,
             "#ed7953"
            ],
            [
             0.7777777777777778,
             "#fb9f3a"
            ],
            [
             0.8888888888888888,
             "#fdca26"
            ],
            [
             1,
             "#f0f921"
            ]
           ]
          },
          "colorway": [
           "#636efa",
           "#EF553B",
           "#00cc96",
           "#ab63fa",
           "#FFA15A",
           "#19d3f3",
           "#FF6692",
           "#B6E880",
           "#FF97FF",
           "#FECB52"
          ],
          "font": {
           "color": "#2a3f5f"
          },
          "geo": {
           "bgcolor": "white",
           "lakecolor": "white",
           "landcolor": "#E5ECF6",
           "showlakes": true,
           "showland": true,
           "subunitcolor": "white"
          },
          "hoverlabel": {
           "align": "left"
          },
          "hovermode": "closest",
          "mapbox": {
           "style": "light"
          },
          "paper_bgcolor": "white",
          "plot_bgcolor": "#E5ECF6",
          "polar": {
           "angularaxis": {
            "gridcolor": "white",
            "linecolor": "white",
            "ticks": ""
           },
           "bgcolor": "#E5ECF6",
           "radialaxis": {
            "gridcolor": "white",
            "linecolor": "white",
            "ticks": ""
           }
          },
          "scene": {
           "xaxis": {
            "backgroundcolor": "#E5ECF6",
            "gridcolor": "white",
            "gridwidth": 2,
            "linecolor": "white",
            "showbackground": true,
            "ticks": "",
            "zerolinecolor": "white"
           },
           "yaxis": {
            "backgroundcolor": "#E5ECF6",
            "gridcolor": "white",
            "gridwidth": 2,
            "linecolor": "white",
            "showbackground": true,
            "ticks": "",
            "zerolinecolor": "white"
           },
           "zaxis": {
            "backgroundcolor": "#E5ECF6",
            "gridcolor": "white",
            "gridwidth": 2,
            "linecolor": "white",
            "showbackground": true,
            "ticks": "",
            "zerolinecolor": "white"
           }
          },
          "shapedefaults": {
           "line": {
            "color": "#2a3f5f"
           }
          },
          "ternary": {
           "aaxis": {
            "gridcolor": "white",
            "linecolor": "white",
            "ticks": ""
           },
           "baxis": {
            "gridcolor": "white",
            "linecolor": "white",
            "ticks": ""
           },
           "bgcolor": "#E5ECF6",
           "caxis": {
            "gridcolor": "white",
            "linecolor": "white",
            "ticks": ""
           }
          },
          "title": {
           "x": 0.05
          },
          "xaxis": {
           "automargin": true,
           "gridcolor": "white",
           "linecolor": "white",
           "ticks": "",
           "title": {
            "standoff": 15
           },
           "zerolinecolor": "white",
           "zerolinewidth": 2
          },
          "yaxis": {
           "automargin": true,
           "gridcolor": "white",
           "linecolor": "white",
           "ticks": "",
           "title": {
            "standoff": 15
           },
           "zerolinecolor": "white",
           "zerolinewidth": 2
          }
         }
        },
        "width": 800,
        "xaxis": {
         "anchor": "y",
         "categoryarray": [
          "Not important",
          "Not Specified",
          "Slightly important",
          "Highly important",
          "Moderately important"
         ],
         "categoryorder": "array",
         "domain": [
          0,
          1
         ],
         "title": {
          "text": "policysup1"
         }
        },
        "yaxis": {
         "anchor": "x",
         "domain": [
          0,
          1
         ],
         "title": {
          "text": "count"
         }
        }
       }
      }
     },
     "metadata": {},
     "output_type": "display_data"
    }
   ],
   "source": [
    "fig = px.histogram(df3, x=\"policysup1\", color=\"policysup1\",width=800, height=600)\n",
    "fig.update_layout(margin= dict(l=20, r=20, t=20, b=20),paper_bgcolor=\"#202A44\")\n",
    "fig.show()"
   ]
  },
  {
   "cell_type": "code",
   "execution_count": null,
   "metadata": {},
   "outputs": [
    {
     "name": "stderr",
     "output_type": "stream",
     "text": [
      "C:\\Users\\Simeon\\AppData\\Local\\Temp\\ipykernel_10124\\3030907998.py:2: SettingWithCopyWarning:\n",
      "\n",
      "\n",
      "A value is trying to be set on a copy of a slice from a DataFrame\n",
      "\n",
      "See the caveats in the documentation: https://pandas.pydata.org/pandas-docs/stable/user_guide/indexing.html#returning-a-view-versus-a-copy\n",
      "\n"
     ]
    },
    {
     "data": {
      "application/vnd.plotly.v1+json": {
       "config": {
        "plotlyServerURL": "https://plot.ly"
       },
       "data": [
        {
         "alignmentgroup": "True",
         "bingroup": "x",
         "hovertemplate": "ieffect_org1=%{x}<br>count=%{y}<extra></extra>",
         "legendgroup": "High",
         "marker": {
          "color": "#636efa",
          "pattern": {
           "shape": ""
          }
         },
         "name": "High",
         "offsetgroup": "High",
         "orientation": "v",
         "showlegend": true,
         "type": "histogram",
         "x": [
          "High",
          "High",
          "High",
          "High",
          "High",
          "High",
          "High",
          "High",
          "High",
          "High",
          "High",
          "High",
          "High",
          "High",
          "High",
          "High",
          "High",
          "High",
          "High",
          "High",
          "High",
          "High",
          "High",
          "High",
          "High",
          "High",
          "High",
          "High",
          "High",
          "High",
          "High",
          "High",
          "High",
          "High",
          "High",
          "High",
          "High",
          "High",
          "High",
          "High",
          "High",
          "High",
          "High",
          "High",
          "High",
          "High",
          "High",
          "High",
          "High",
          "High",
          "High",
          "High",
          "High",
          "High",
          "High",
          "High",
          "High",
          "High",
          "High",
          "High",
          "High",
          "High",
          "High",
          "High",
          "High",
          "High",
          "High",
          "High",
          "High",
          "High",
          "High",
          "High",
          "High",
          "High",
          "High",
          "High",
          "High",
          "High",
          "High",
          "High",
          "High",
          "High",
          "High",
          "High",
          "High",
          "High",
          "High",
          "High",
          "High",
          "High",
          "High",
          "High",
          "High",
          "High",
          "High",
          "High",
          "High",
          "High",
          "High",
          "High",
          "High",
          "High",
          "High",
          "High",
          "High",
          "High",
          "High",
          "High",
          "High",
          "High",
          "High",
          "High",
          "High",
          "High",
          "High",
          "High",
          "High",
          "High",
          "High",
          "High",
          "High",
          "High",
          "High",
          "High",
          "High",
          "High",
          "High",
          "High",
          "High",
          "High",
          "High",
          "High",
          "High",
          "High",
          "High",
          "High",
          "High",
          "High",
          "High",
          "High",
          "High",
          "High",
          "High",
          "High",
          "High",
          "High",
          "High",
          "High",
          "High",
          "High",
          "High",
          "High",
          "High",
          "High",
          "High",
          "High",
          "High",
          "High",
          "High",
          "High",
          "High",
          "High",
          "High",
          "High",
          "High",
          "High",
          "High",
          "High",
          "High",
          "High",
          "High",
          "High",
          "High",
          "High",
          "High",
          "High",
          "High",
          "High",
          "High",
          "High",
          "High",
          "High",
          "High",
          "High",
          "High",
          "High",
          "High",
          "High",
          "High",
          "High",
          "High",
          "High",
          "High",
          "High",
          "High",
          "High",
          "High",
          "High",
          "High",
          "High",
          "High",
          "High",
          "High",
          "High",
          "High",
          "High",
          "High",
          "High",
          "High",
          "High",
          "High",
          "High",
          "High",
          "High",
          "High",
          "High",
          "High",
          "High",
          "High",
          "High",
          "High",
          "High",
          "High",
          "High",
          "High",
          "High",
          "High",
          "High",
          "High",
          "High",
          "High",
          "High",
          "High",
          "High",
          "High",
          "High",
          "High",
          "High",
          "High",
          "High",
          "High",
          "High",
          "High",
          "High",
          "High",
          "High",
          "High",
          "High",
          "High",
          "High",
          "High",
          "High",
          "High",
          "High",
          "High",
          "High",
          "High",
          "High",
          "High",
          "High",
          "High",
          "High",
          "High",
          "High",
          "High",
          "High",
          "High",
          "High",
          "High",
          "High",
          "High",
          "High",
          "High",
          "High",
          "High",
          "High",
          "High",
          "High",
          "High",
          "High",
          "High",
          "High",
          "High",
          "High",
          "High",
          "High",
          "High",
          "High",
          "High",
          "High",
          "High",
          "High",
          "High",
          "High",
          "High",
          "High",
          "High",
          "High",
          "High",
          "High",
          "High",
          "High",
          "High",
          "High",
          "High",
          "High",
          "High",
          "High",
          "High",
          "High",
          "High",
          "High",
          "High",
          "High",
          "High",
          "High",
          "High",
          "High",
          "High",
          "High",
          "High",
          "High",
          "High",
          "High",
          "High",
          "High",
          "High",
          "High",
          "High",
          "High",
          "High",
          "High",
          "High",
          "High",
          "High",
          "High",
          "High",
          "High",
          "High",
          "High",
          "High",
          "High",
          "High",
          "High",
          "High",
          "High",
          "High",
          "High",
          "High",
          "High",
          "High",
          "High",
          "High",
          "High",
          "High",
          "High",
          "High",
          "High",
          "High",
          "High",
          "High",
          "High",
          "High",
          "High",
          "High",
          "High",
          "High",
          "High",
          "High",
          "High",
          "High",
          "High",
          "High",
          "High",
          "High",
          "High",
          "High",
          "High"
         ],
         "xaxis": "x",
         "yaxis": "y"
        },
        {
         "alignmentgroup": "True",
         "bingroup": "x",
         "hovertemplate": "ieffect_org1=%{x}<br>count=%{y}<extra></extra>",
         "legendgroup": "Not Specified",
         "marker": {
          "color": "#EF553B",
          "pattern": {
           "shape": ""
          }
         },
         "name": "Not Specified",
         "offsetgroup": "Not Specified",
         "orientation": "v",
         "showlegend": true,
         "type": "histogram",
         "x": [
          "Not Specified",
          "Not Specified",
          "Not Specified",
          "Not Specified",
          "Not Specified",
          "Not Specified",
          "Not Specified",
          "Not Specified",
          "Not Specified",
          "Not Specified",
          "Not Specified",
          "Not Specified",
          "Not Specified",
          "Not Specified",
          "Not Specified",
          "Not Specified",
          "Not Specified",
          "Not Specified",
          "Not Specified",
          "Not Specified",
          "Not Specified",
          "Not Specified",
          "Not Specified",
          "Not Specified",
          "Not Specified",
          "Not Specified",
          "Not Specified",
          "Not Specified",
          "Not Specified",
          "Not Specified",
          "Not Specified",
          "Not Specified",
          "Not Specified",
          "Not Specified",
          "Not Specified",
          "Not Specified",
          "Not Specified",
          "Not Specified",
          "Not Specified",
          "Not Specified",
          "Not Specified",
          "Not Specified",
          "Not Specified",
          "Not Specified",
          "Not Specified",
          "Not Specified",
          "Not Specified",
          "Not Specified",
          "Not Specified",
          "Not Specified",
          "Not Specified",
          "Not Specified",
          "Not Specified",
          "Not Specified",
          "Not Specified",
          "Not Specified",
          "Not Specified",
          "Not Specified",
          "Not Specified",
          "Not Specified",
          "Not Specified",
          "Not Specified",
          "Not Specified",
          "Not Specified",
          "Not Specified",
          "Not Specified",
          "Not Specified",
          "Not Specified",
          "Not Specified",
          "Not Specified",
          "Not Specified",
          "Not Specified",
          "Not Specified",
          "Not Specified",
          "Not Specified",
          "Not Specified",
          "Not Specified",
          "Not Specified",
          "Not Specified",
          "Not Specified",
          "Not Specified",
          "Not Specified",
          "Not Specified",
          "Not Specified",
          "Not Specified",
          "Not Specified",
          "Not Specified",
          "Not Specified",
          "Not Specified",
          "Not Specified",
          "Not Specified",
          "Not Specified",
          "Not Specified",
          "Not Specified",
          "Not Specified",
          "Not Specified",
          "Not Specified",
          "Not Specified",
          "Not Specified",
          "Not Specified",
          "Not Specified",
          "Not Specified",
          "Not Specified",
          "Not Specified",
          "Not Specified",
          "Not Specified",
          "Not Specified",
          "Not Specified",
          "Not Specified",
          "Not Specified",
          "Not Specified",
          "Not Specified",
          "Not Specified",
          "Not Specified",
          "Not Specified",
          "Not Specified",
          "Not Specified",
          "Not Specified",
          "Not Specified",
          "Not Specified",
          "Not Specified",
          "Not Specified",
          "Not Specified",
          "Not Specified",
          "Not Specified",
          "Not Specified",
          "Not Specified",
          "Not Specified",
          "Not Specified",
          "Not Specified",
          "Not Specified",
          "Not Specified",
          "Not Specified",
          "Not Specified",
          "Not Specified",
          "Not Specified",
          "Not Specified",
          "Not Specified",
          "Not Specified",
          "Not Specified",
          "Not Specified",
          "Not Specified",
          "Not Specified",
          "Not Specified",
          "Not Specified",
          "Not Specified",
          "Not Specified",
          "Not Specified",
          "Not Specified",
          "Not Specified",
          "Not Specified",
          "Not Specified",
          "Not Specified",
          "Not Specified",
          "Not Specified",
          "Not Specified",
          "Not Specified",
          "Not Specified",
          "Not Specified",
          "Not Specified",
          "Not Specified",
          "Not Specified",
          "Not Specified",
          "Not Specified",
          "Not Specified",
          "Not Specified",
          "Not Specified",
          "Not Specified",
          "Not Specified",
          "Not Specified",
          "Not Specified",
          "Not Specified",
          "Not Specified",
          "Not Specified",
          "Not Specified",
          "Not Specified",
          "Not Specified",
          "Not Specified",
          "Not Specified",
          "Not Specified",
          "Not Specified",
          "Not Specified",
          "Not Specified",
          "Not Specified",
          "Not Specified",
          "Not Specified",
          "Not Specified",
          "Not Specified",
          "Not Specified",
          "Not Specified",
          "Not Specified",
          "Not Specified",
          "Not Specified",
          "Not Specified",
          "Not Specified",
          "Not Specified",
          "Not Specified",
          "Not Specified",
          "Not Specified",
          "Not Specified",
          "Not Specified",
          "Not Specified",
          "Not Specified",
          "Not Specified",
          "Not Specified",
          "Not Specified",
          "Not Specified",
          "Not Specified",
          "Not Specified",
          "Not Specified",
          "Not Specified",
          "Not Specified",
          "Not Specified",
          "Not Specified",
          "Not Specified",
          "Not Specified",
          "Not Specified",
          "Not Specified",
          "Not Specified",
          "Not Specified",
          "Not Specified",
          "Not Specified",
          "Not Specified",
          "Not Specified",
          "Not Specified",
          "Not Specified",
          "Not Specified",
          "Not Specified",
          "Not Specified",
          "Not Specified",
          "Not Specified",
          "Not Specified",
          "Not Specified",
          "Not Specified",
          "Not Specified",
          "Not Specified",
          "Not Specified",
          "Not Specified",
          "Not Specified",
          "Not Specified",
          "Not Specified",
          "Not Specified",
          "Not Specified",
          "Not Specified",
          "Not Specified",
          "Not Specified",
          "Not Specified",
          "Not Specified",
          "Not Specified",
          "Not Specified",
          "Not Specified",
          "Not Specified",
          "Not Specified",
          "Not Specified",
          "Not Specified",
          "Not Specified",
          "Not Specified",
          "Not Specified",
          "Not Specified",
          "Not Specified",
          "Not Specified",
          "Not Specified",
          "Not Specified",
          "Not Specified",
          "Not Specified",
          "Not Specified",
          "Not Specified",
          "Not Specified",
          "Not Specified",
          "Not Specified",
          "Not Specified",
          "Not Specified",
          "Not Specified",
          "Not Specified",
          "Not Specified",
          "Not Specified",
          "Not Specified",
          "Not Specified",
          "Not Specified",
          "Not Specified",
          "Not Specified",
          "Not Specified",
          "Not Specified",
          "Not Specified",
          "Not Specified",
          "Not Specified",
          "Not Specified",
          "Not Specified",
          "Not Specified",
          "Not Specified",
          "Not Specified",
          "Not Specified",
          "Not Specified",
          "Not Specified",
          "Not Specified",
          "Not Specified",
          "Not Specified",
          "Not Specified",
          "Not Specified",
          "Not Specified",
          "Not Specified",
          "Not Specified",
          "Not Specified",
          "Not Specified",
          "Not Specified",
          "Not Specified",
          "Not Specified",
          "Not Specified",
          "Not Specified",
          "Not Specified",
          "Not Specified",
          "Not Specified",
          "Not Specified",
          "Not Specified",
          "Not Specified",
          "Not Specified",
          "Not Specified",
          "Not Specified",
          "Not Specified",
          "Not Specified",
          "Not Specified",
          "Not Specified",
          "Not Specified",
          "Not Specified",
          "Not Specified",
          "Not Specified",
          "Not Specified",
          "Not Specified",
          "Not Specified",
          "Not Specified",
          "Not Specified",
          "Not Specified",
          "Not Specified",
          "Not Specified",
          "Not Specified",
          "Not Specified",
          "Not Specified",
          "Not Specified",
          "Not Specified",
          "Not Specified",
          "Not Specified",
          "Not Specified",
          "Not Specified",
          "Not Specified",
          "Not Specified",
          "Not Specified",
          "Not Specified",
          "Not Specified",
          "Not Specified",
          "Not Specified",
          "Not Specified",
          "Not Specified",
          "Not Specified",
          "Not Specified",
          "Not Specified",
          "Not Specified",
          "Not Specified",
          "Not Specified",
          "Not Specified",
          "Not Specified",
          "Not Specified",
          "Not Specified",
          "Not Specified",
          "Not Specified",
          "Not Specified",
          "Not Specified",
          "Not Specified",
          "Not Specified",
          "Not Specified",
          "Not Specified",
          "Not Specified",
          "Not Specified",
          "Not Specified",
          "Not Specified",
          "Not Specified",
          "Not Specified",
          "Not Specified",
          "Not Specified",
          "Not Specified",
          "Not Specified",
          "Not Specified",
          "Not Specified",
          "Not Specified",
          "Not Specified",
          "Not Specified",
          "Not Specified",
          "Not Specified",
          "Not Specified",
          "Not Specified",
          "Not Specified",
          "Not Specified",
          "Not Specified",
          "Not Specified",
          "Not Specified",
          "Not Specified",
          "Not Specified",
          "Not Specified",
          "Not Specified",
          "Not Specified",
          "Not Specified",
          "Not Specified",
          "Not Specified",
          "Not Specified",
          "Not Specified",
          "Not Specified",
          "Not Specified",
          "Not Specified",
          "Not Specified",
          "Not Specified",
          "Not Specified",
          "Not Specified",
          "Not Specified",
          "Not Specified",
          "Not Specified",
          "Not Specified",
          "Not Specified",
          "Not Specified",
          "Not Specified",
          "Not Specified",
          "Not Specified",
          "Not Specified",
          "Not Specified",
          "Not Specified",
          "Not Specified",
          "Not Specified",
          "Not Specified",
          "Not Specified",
          "Not Specified",
          "Not Specified",
          "Not Specified",
          "Not Specified",
          "Not Specified",
          "Not Specified",
          "Not Specified",
          "Not Specified",
          "Not Specified",
          "Not Specified",
          "Not Specified",
          "Not Specified",
          "Not Specified",
          "Not Specified",
          "Not Specified",
          "Not Specified",
          "Not Specified",
          "Not Specified",
          "Not Specified",
          "Not Specified",
          "Not Specified",
          "Not Specified",
          "Not Specified",
          "Not Specified",
          "Not Specified",
          "Not Specified",
          "Not Specified",
          "Not Specified",
          "Not Specified",
          "Not Specified",
          "Not Specified",
          "Not Specified",
          "Not Specified",
          "Not Specified",
          "Not Specified",
          "Not Specified",
          "Not Specified",
          "Not Specified",
          "Not Specified",
          "Not Specified",
          "Not Specified",
          "Not Specified",
          "Not Specified",
          "Not Specified",
          "Not Specified",
          "Not Specified",
          "Not Specified",
          "Not Specified",
          "Not Specified",
          "Not Specified",
          "Not Specified",
          "Not Specified",
          "Not Specified",
          "Not Specified",
          "Not Specified",
          "Not Specified",
          "Not Specified",
          "Not Specified",
          "Not Specified",
          "Not Specified",
          "Not Specified",
          "Not Specified",
          "Not Specified",
          "Not Specified",
          "Not Specified",
          "Not Specified",
          "Not Specified",
          "Not Specified",
          "Not Specified",
          "Not Specified",
          "Not Specified",
          "Not Specified",
          "Not Specified",
          "Not Specified",
          "Not Specified",
          "Not Specified",
          "Not Specified",
          "Not Specified",
          "Not Specified",
          "Not Specified",
          "Not Specified",
          "Not Specified",
          "Not Specified",
          "Not Specified",
          "Not Specified",
          "Not Specified",
          "Not Specified",
          "Not Specified",
          "Not Specified",
          "Not Specified",
          "Not Specified",
          "Not Specified",
          "Not Specified",
          "Not Specified",
          "Not Specified",
          "Not Specified",
          "Not Specified",
          "Not Specified",
          "Not Specified",
          "Not Specified",
          "Not Specified",
          "Not Specified",
          "Not Specified",
          "Not Specified",
          "Not Specified",
          "Not Specified",
          "Not Specified",
          "Not Specified",
          "Not Specified",
          "Not Specified",
          "Not Specified",
          "Not Specified",
          "Not Specified",
          "Not Specified",
          "Not Specified",
          "Not Specified",
          "Not Specified",
          "Not Specified",
          "Not Specified",
          "Not Specified",
          "Not Specified",
          "Not Specified",
          "Not Specified",
          "Not Specified",
          "Not Specified",
          "Not Specified",
          "Not Specified",
          "Not Specified",
          "Not Specified",
          "Not Specified",
          "Not Specified",
          "Not Specified",
          "Not Specified",
          "Not Specified",
          "Not Specified",
          "Not Specified",
          "Not Specified",
          "Not Specified",
          "Not Specified",
          "Not Specified",
          "Not Specified",
          "Not Specified",
          "Not Specified",
          "Not Specified",
          "Not Specified",
          "Not Specified",
          "Not Specified",
          "Not Specified",
          "Not Specified",
          "Not Specified",
          "Not Specified",
          "Not Specified",
          "Not Specified",
          "Not Specified",
          "Not Specified",
          "Not Specified",
          "Not Specified",
          "Not Specified",
          "Not Specified",
          "Not Specified",
          "Not Specified",
          "Not Specified",
          "Not Specified",
          "Not Specified",
          "Not Specified",
          "Not Specified",
          "Not Specified",
          "Not Specified",
          "Not Specified",
          "Not Specified",
          "Not Specified",
          "Not Specified",
          "Not Specified",
          "Not Specified",
          "Not Specified",
          "Not Specified",
          "Not Specified"
         ],
         "xaxis": "x",
         "yaxis": "y"
        },
        {
         "alignmentgroup": "True",
         "bingroup": "x",
         "hovertemplate": "ieffect_org1=%{x}<br>count=%{y}<extra></extra>",
         "legendgroup": "Medium",
         "marker": {
          "color": "#00cc96",
          "pattern": {
           "shape": ""
          }
         },
         "name": "Medium",
         "offsetgroup": "Medium",
         "orientation": "v",
         "showlegend": true,
         "type": "histogram",
         "x": [
          "Medium",
          "Medium",
          "Medium",
          "Medium",
          "Medium",
          "Medium",
          "Medium",
          "Medium",
          "Medium",
          "Medium",
          "Medium",
          "Medium",
          "Medium",
          "Medium",
          "Medium",
          "Medium",
          "Medium",
          "Medium",
          "Medium",
          "Medium",
          "Medium",
          "Medium",
          "Medium",
          "Medium",
          "Medium",
          "Medium",
          "Medium",
          "Medium",
          "Medium",
          "Medium",
          "Medium",
          "Medium",
          "Medium",
          "Medium",
          "Medium",
          "Medium",
          "Medium",
          "Medium",
          "Medium",
          "Medium",
          "Medium",
          "Medium",
          "Medium",
          "Medium",
          "Medium",
          "Medium",
          "Medium",
          "Medium",
          "Medium",
          "Medium",
          "Medium",
          "Medium",
          "Medium",
          "Medium",
          "Medium",
          "Medium",
          "Medium",
          "Medium",
          "Medium",
          "Medium",
          "Medium",
          "Medium",
          "Medium",
          "Medium",
          "Medium",
          "Medium",
          "Medium",
          "Medium",
          "Medium",
          "Medium",
          "Medium",
          "Medium",
          "Medium",
          "Medium",
          "Medium",
          "Medium",
          "Medium",
          "Medium",
          "Medium",
          "Medium",
          "Medium",
          "Medium",
          "Medium",
          "Medium",
          "Medium",
          "Medium",
          "Medium",
          "Medium",
          "Medium",
          "Medium",
          "Medium",
          "Medium",
          "Medium",
          "Medium",
          "Medium",
          "Medium",
          "Medium",
          "Medium",
          "Medium",
          "Medium",
          "Medium",
          "Medium",
          "Medium",
          "Medium",
          "Medium",
          "Medium",
          "Medium",
          "Medium",
          "Medium",
          "Medium",
          "Medium",
          "Medium",
          "Medium",
          "Medium",
          "Medium",
          "Medium",
          "Medium",
          "Medium",
          "Medium",
          "Medium",
          "Medium",
          "Medium",
          "Medium",
          "Medium",
          "Medium",
          "Medium",
          "Medium",
          "Medium",
          "Medium",
          "Medium",
          "Medium",
          "Medium",
          "Medium",
          "Medium",
          "Medium",
          "Medium",
          "Medium",
          "Medium",
          "Medium",
          "Medium",
          "Medium",
          "Medium",
          "Medium",
          "Medium",
          "Medium",
          "Medium",
          "Medium",
          "Medium",
          "Medium",
          "Medium",
          "Medium",
          "Medium",
          "Medium",
          "Medium",
          "Medium",
          "Medium",
          "Medium",
          "Medium",
          "Medium",
          "Medium",
          "Medium",
          "Medium",
          "Medium",
          "Medium",
          "Medium",
          "Medium",
          "Medium",
          "Medium",
          "Medium",
          "Medium",
          "Medium",
          "Medium",
          "Medium",
          "Medium",
          "Medium",
          "Medium",
          "Medium",
          "Medium",
          "Medium",
          "Medium",
          "Medium",
          "Medium",
          "Medium",
          "Medium",
          "Medium",
          "Medium",
          "Medium",
          "Medium",
          "Medium",
          "Medium",
          "Medium",
          "Medium",
          "Medium",
          "Medium",
          "Medium",
          "Medium",
          "Medium",
          "Medium",
          "Medium",
          "Medium",
          "Medium",
          "Medium",
          "Medium",
          "Medium",
          "Medium",
          "Medium",
          "Medium",
          "Medium",
          "Medium",
          "Medium",
          "Medium",
          "Medium",
          "Medium",
          "Medium",
          "Medium",
          "Medium",
          "Medium",
          "Medium",
          "Medium",
          "Medium",
          "Medium",
          "Medium",
          "Medium",
          "Medium",
          "Medium",
          "Medium",
          "Medium",
          "Medium",
          "Medium",
          "Medium",
          "Medium",
          "Medium",
          "Medium",
          "Medium",
          "Medium",
          "Medium",
          "Medium",
          "Medium",
          "Medium",
          "Medium",
          "Medium",
          "Medium",
          "Medium",
          "Medium",
          "Medium",
          "Medium",
          "Medium",
          "Medium",
          "Medium",
          "Medium",
          "Medium",
          "Medium",
          "Medium"
         ],
         "xaxis": "x",
         "yaxis": "y"
        },
        {
         "alignmentgroup": "True",
         "bingroup": "x",
         "hovertemplate": "ieffect_org1=%{x}<br>count=%{y}<extra></extra>",
         "legendgroup": "Low",
         "marker": {
          "color": "#ab63fa",
          "pattern": {
           "shape": ""
          }
         },
         "name": "Low",
         "offsetgroup": "Low",
         "orientation": "v",
         "showlegend": true,
         "type": "histogram",
         "x": [
          "Low",
          "Low",
          "Low",
          "Low",
          "Low",
          "Low",
          "Low",
          "Low",
          "Low",
          "Low",
          "Low",
          "Low",
          "Low",
          "Low",
          "Low",
          "Low",
          "Low",
          "Low",
          "Low",
          "Low",
          "Low",
          "Low",
          "Low",
          "Low",
          "Low",
          "Low",
          "Low",
          "Low",
          "Low",
          "Low",
          "Low",
          "Low",
          "Low",
          "Low",
          "Low",
          "Low",
          "Low",
          "Low",
          "Low",
          "Low",
          "Low",
          "Low",
          "Low",
          "Low",
          "Low",
          "Low",
          "Low",
          "Low",
          "Low",
          "Low",
          "Low",
          "Low",
          "Low",
          "Low",
          "Low",
          "Low",
          "Low",
          "Low",
          "Low",
          "Low",
          "Low",
          "Low",
          "Low",
          "Low",
          "Low",
          "Low",
          "Low",
          "Low",
          "Low",
          "Low",
          "Low",
          "Low",
          "Low",
          "Low",
          "Low",
          "Low",
          "Low",
          "Low",
          "Low",
          "Low",
          "Low",
          "Low",
          "Low"
         ],
         "xaxis": "x",
         "yaxis": "y"
        },
        {
         "alignmentgroup": "True",
         "bingroup": "x",
         "hovertemplate": "ieffect_org1=%{x}<br>count=%{y}<extra></extra>",
         "legendgroup": "Not experienced",
         "marker": {
          "color": "#FFA15A",
          "pattern": {
           "shape": ""
          }
         },
         "name": "Not experienced",
         "offsetgroup": "Not experienced",
         "orientation": "v",
         "showlegend": true,
         "type": "histogram",
         "x": [
          "Not experienced",
          "Not experienced",
          "Not experienced",
          "Not experienced",
          "Not experienced",
          "Not experienced",
          "Not experienced",
          "Not experienced",
          "Not experienced",
          "Not experienced",
          "Not experienced",
          "Not experienced",
          "Not experienced",
          "Not experienced",
          "Not experienced",
          "Not experienced",
          "Not experienced",
          "Not experienced",
          "Not experienced",
          "Not experienced",
          "Not experienced",
          "Not experienced",
          "Not experienced",
          "Not experienced",
          "Not experienced",
          "Not experienced",
          "Not experienced",
          "Not experienced",
          "Not experienced",
          "Not experienced",
          "Not experienced",
          "Not experienced",
          "Not experienced",
          "Not experienced",
          "Not experienced",
          "Not experienced",
          "Not experienced",
          "Not experienced",
          "Not experienced",
          "Not experienced",
          "Not experienced"
         ],
         "xaxis": "x",
         "yaxis": "y"
        }
       ],
       "layout": {
        "barmode": "relative",
        "height": 600,
        "legend": {
         "title": {
          "text": "ieffect_org1"
         },
         "tracegroupgap": 0
        },
        "margin": {
         "b": 20,
         "l": 20,
         "r": 20,
         "t": 20
        },
        "paper_bgcolor": "#202A44",
        "template": {
         "data": {
          "bar": [
           {
            "error_x": {
             "color": "#2a3f5f"
            },
            "error_y": {
             "color": "#2a3f5f"
            },
            "marker": {
             "line": {
              "color": "#E5ECF6",
              "width": 0.5
             },
             "pattern": {
              "fillmode": "overlay",
              "size": 10,
              "solidity": 0.2
             }
            },
            "type": "bar"
           }
          ],
          "barpolar": [
           {
            "marker": {
             "line": {
              "color": "#E5ECF6",
              "width": 0.5
             },
             "pattern": {
              "fillmode": "overlay",
              "size": 10,
              "solidity": 0.2
             }
            },
            "type": "barpolar"
           }
          ],
          "carpet": [
           {
            "aaxis": {
             "endlinecolor": "#2a3f5f",
             "gridcolor": "white",
             "linecolor": "white",
             "minorgridcolor": "white",
             "startlinecolor": "#2a3f5f"
            },
            "baxis": {
             "endlinecolor": "#2a3f5f",
             "gridcolor": "white",
             "linecolor": "white",
             "minorgridcolor": "white",
             "startlinecolor": "#2a3f5f"
            },
            "type": "carpet"
           }
          ],
          "choropleth": [
           {
            "colorbar": {
             "outlinewidth": 0,
             "ticks": ""
            },
            "type": "choropleth"
           }
          ],
          "contour": [
           {
            "colorbar": {
             "outlinewidth": 0,
             "ticks": ""
            },
            "colorscale": [
             [
              0,
              "#0d0887"
             ],
             [
              0.1111111111111111,
              "#46039f"
             ],
             [
              0.2222222222222222,
              "#7201a8"
             ],
             [
              0.3333333333333333,
              "#9c179e"
             ],
             [
              0.4444444444444444,
              "#bd3786"
             ],
             [
              0.5555555555555556,
              "#d8576b"
             ],
             [
              0.6666666666666666,
              "#ed7953"
             ],
             [
              0.7777777777777778,
              "#fb9f3a"
             ],
             [
              0.8888888888888888,
              "#fdca26"
             ],
             [
              1,
              "#f0f921"
             ]
            ],
            "type": "contour"
           }
          ],
          "contourcarpet": [
           {
            "colorbar": {
             "outlinewidth": 0,
             "ticks": ""
            },
            "type": "contourcarpet"
           }
          ],
          "heatmap": [
           {
            "colorbar": {
             "outlinewidth": 0,
             "ticks": ""
            },
            "colorscale": [
             [
              0,
              "#0d0887"
             ],
             [
              0.1111111111111111,
              "#46039f"
             ],
             [
              0.2222222222222222,
              "#7201a8"
             ],
             [
              0.3333333333333333,
              "#9c179e"
             ],
             [
              0.4444444444444444,
              "#bd3786"
             ],
             [
              0.5555555555555556,
              "#d8576b"
             ],
             [
              0.6666666666666666,
              "#ed7953"
             ],
             [
              0.7777777777777778,
              "#fb9f3a"
             ],
             [
              0.8888888888888888,
              "#fdca26"
             ],
             [
              1,
              "#f0f921"
             ]
            ],
            "type": "heatmap"
           }
          ],
          "heatmapgl": [
           {
            "colorbar": {
             "outlinewidth": 0,
             "ticks": ""
            },
            "colorscale": [
             [
              0,
              "#0d0887"
             ],
             [
              0.1111111111111111,
              "#46039f"
             ],
             [
              0.2222222222222222,
              "#7201a8"
             ],
             [
              0.3333333333333333,
              "#9c179e"
             ],
             [
              0.4444444444444444,
              "#bd3786"
             ],
             [
              0.5555555555555556,
              "#d8576b"
             ],
             [
              0.6666666666666666,
              "#ed7953"
             ],
             [
              0.7777777777777778,
              "#fb9f3a"
             ],
             [
              0.8888888888888888,
              "#fdca26"
             ],
             [
              1,
              "#f0f921"
             ]
            ],
            "type": "heatmapgl"
           }
          ],
          "histogram": [
           {
            "marker": {
             "pattern": {
              "fillmode": "overlay",
              "size": 10,
              "solidity": 0.2
             }
            },
            "type": "histogram"
           }
          ],
          "histogram2d": [
           {
            "colorbar": {
             "outlinewidth": 0,
             "ticks": ""
            },
            "colorscale": [
             [
              0,
              "#0d0887"
             ],
             [
              0.1111111111111111,
              "#46039f"
             ],
             [
              0.2222222222222222,
              "#7201a8"
             ],
             [
              0.3333333333333333,
              "#9c179e"
             ],
             [
              0.4444444444444444,
              "#bd3786"
             ],
             [
              0.5555555555555556,
              "#d8576b"
             ],
             [
              0.6666666666666666,
              "#ed7953"
             ],
             [
              0.7777777777777778,
              "#fb9f3a"
             ],
             [
              0.8888888888888888,
              "#fdca26"
             ],
             [
              1,
              "#f0f921"
             ]
            ],
            "type": "histogram2d"
           }
          ],
          "histogram2dcontour": [
           {
            "colorbar": {
             "outlinewidth": 0,
             "ticks": ""
            },
            "colorscale": [
             [
              0,
              "#0d0887"
             ],
             [
              0.1111111111111111,
              "#46039f"
             ],
             [
              0.2222222222222222,
              "#7201a8"
             ],
             [
              0.3333333333333333,
              "#9c179e"
             ],
             [
              0.4444444444444444,
              "#bd3786"
             ],
             [
              0.5555555555555556,
              "#d8576b"
             ],
             [
              0.6666666666666666,
              "#ed7953"
             ],
             [
              0.7777777777777778,
              "#fb9f3a"
             ],
             [
              0.8888888888888888,
              "#fdca26"
             ],
             [
              1,
              "#f0f921"
             ]
            ],
            "type": "histogram2dcontour"
           }
          ],
          "mesh3d": [
           {
            "colorbar": {
             "outlinewidth": 0,
             "ticks": ""
            },
            "type": "mesh3d"
           }
          ],
          "parcoords": [
           {
            "line": {
             "colorbar": {
              "outlinewidth": 0,
              "ticks": ""
             }
            },
            "type": "parcoords"
           }
          ],
          "pie": [
           {
            "automargin": true,
            "type": "pie"
           }
          ],
          "scatter": [
           {
            "fillpattern": {
             "fillmode": "overlay",
             "size": 10,
             "solidity": 0.2
            },
            "type": "scatter"
           }
          ],
          "scatter3d": [
           {
            "line": {
             "colorbar": {
              "outlinewidth": 0,
              "ticks": ""
             }
            },
            "marker": {
             "colorbar": {
              "outlinewidth": 0,
              "ticks": ""
             }
            },
            "type": "scatter3d"
           }
          ],
          "scattercarpet": [
           {
            "marker": {
             "colorbar": {
              "outlinewidth": 0,
              "ticks": ""
             }
            },
            "type": "scattercarpet"
           }
          ],
          "scattergeo": [
           {
            "marker": {
             "colorbar": {
              "outlinewidth": 0,
              "ticks": ""
             }
            },
            "type": "scattergeo"
           }
          ],
          "scattergl": [
           {
            "marker": {
             "colorbar": {
              "outlinewidth": 0,
              "ticks": ""
             }
            },
            "type": "scattergl"
           }
          ],
          "scattermapbox": [
           {
            "marker": {
             "colorbar": {
              "outlinewidth": 0,
              "ticks": ""
             }
            },
            "type": "scattermapbox"
           }
          ],
          "scatterpolar": [
           {
            "marker": {
             "colorbar": {
              "outlinewidth": 0,
              "ticks": ""
             }
            },
            "type": "scatterpolar"
           }
          ],
          "scatterpolargl": [
           {
            "marker": {
             "colorbar": {
              "outlinewidth": 0,
              "ticks": ""
             }
            },
            "type": "scatterpolargl"
           }
          ],
          "scatterternary": [
           {
            "marker": {
             "colorbar": {
              "outlinewidth": 0,
              "ticks": ""
             }
            },
            "type": "scatterternary"
           }
          ],
          "surface": [
           {
            "colorbar": {
             "outlinewidth": 0,
             "ticks": ""
            },
            "colorscale": [
             [
              0,
              "#0d0887"
             ],
             [
              0.1111111111111111,
              "#46039f"
             ],
             [
              0.2222222222222222,
              "#7201a8"
             ],
             [
              0.3333333333333333,
              "#9c179e"
             ],
             [
              0.4444444444444444,
              "#bd3786"
             ],
             [
              0.5555555555555556,
              "#d8576b"
             ],
             [
              0.6666666666666666,
              "#ed7953"
             ],
             [
              0.7777777777777778,
              "#fb9f3a"
             ],
             [
              0.8888888888888888,
              "#fdca26"
             ],
             [
              1,
              "#f0f921"
             ]
            ],
            "type": "surface"
           }
          ],
          "table": [
           {
            "cells": {
             "fill": {
              "color": "#EBF0F8"
             },
             "line": {
              "color": "white"
             }
            },
            "header": {
             "fill": {
              "color": "#C8D4E3"
             },
             "line": {
              "color": "white"
             }
            },
            "type": "table"
           }
          ]
         },
         "layout": {
          "annotationdefaults": {
           "arrowcolor": "#2a3f5f",
           "arrowhead": 0,
           "arrowwidth": 1
          },
          "autotypenumbers": "strict",
          "coloraxis": {
           "colorbar": {
            "outlinewidth": 0,
            "ticks": ""
           }
          },
          "colorscale": {
           "diverging": [
            [
             0,
             "#8e0152"
            ],
            [
             0.1,
             "#c51b7d"
            ],
            [
             0.2,
             "#de77ae"
            ],
            [
             0.3,
             "#f1b6da"
            ],
            [
             0.4,
             "#fde0ef"
            ],
            [
             0.5,
             "#f7f7f7"
            ],
            [
             0.6,
             "#e6f5d0"
            ],
            [
             0.7,
             "#b8e186"
            ],
            [
             0.8,
             "#7fbc41"
            ],
            [
             0.9,
             "#4d9221"
            ],
            [
             1,
             "#276419"
            ]
           ],
           "sequential": [
            [
             0,
             "#0d0887"
            ],
            [
             0.1111111111111111,
             "#46039f"
            ],
            [
             0.2222222222222222,
             "#7201a8"
            ],
            [
             0.3333333333333333,
             "#9c179e"
            ],
            [
             0.4444444444444444,
             "#bd3786"
            ],
            [
             0.5555555555555556,
             "#d8576b"
            ],
            [
             0.6666666666666666,
             "#ed7953"
            ],
            [
             0.7777777777777778,
             "#fb9f3a"
            ],
            [
             0.8888888888888888,
             "#fdca26"
            ],
            [
             1,
             "#f0f921"
            ]
           ],
           "sequentialminus": [
            [
             0,
             "#0d0887"
            ],
            [
             0.1111111111111111,
             "#46039f"
            ],
            [
             0.2222222222222222,
             "#7201a8"
            ],
            [
             0.3333333333333333,
             "#9c179e"
            ],
            [
             0.4444444444444444,
             "#bd3786"
            ],
            [
             0.5555555555555556,
             "#d8576b"
            ],
            [
             0.6666666666666666,
             "#ed7953"
            ],
            [
             0.7777777777777778,
             "#fb9f3a"
            ],
            [
             0.8888888888888888,
             "#fdca26"
            ],
            [
             1,
             "#f0f921"
            ]
           ]
          },
          "colorway": [
           "#636efa",
           "#EF553B",
           "#00cc96",
           "#ab63fa",
           "#FFA15A",
           "#19d3f3",
           "#FF6692",
           "#B6E880",
           "#FF97FF",
           "#FECB52"
          ],
          "font": {
           "color": "#2a3f5f"
          },
          "geo": {
           "bgcolor": "white",
           "lakecolor": "white",
           "landcolor": "#E5ECF6",
           "showlakes": true,
           "showland": true,
           "subunitcolor": "white"
          },
          "hoverlabel": {
           "align": "left"
          },
          "hovermode": "closest",
          "mapbox": {
           "style": "light"
          },
          "paper_bgcolor": "white",
          "plot_bgcolor": "#E5ECF6",
          "polar": {
           "angularaxis": {
            "gridcolor": "white",
            "linecolor": "white",
            "ticks": ""
           },
           "bgcolor": "#E5ECF6",
           "radialaxis": {
            "gridcolor": "white",
            "linecolor": "white",
            "ticks": ""
           }
          },
          "scene": {
           "xaxis": {
            "backgroundcolor": "#E5ECF6",
            "gridcolor": "white",
            "gridwidth": 2,
            "linecolor": "white",
            "showbackground": true,
            "ticks": "",
            "zerolinecolor": "white"
           },
           "yaxis": {
            "backgroundcolor": "#E5ECF6",
            "gridcolor": "white",
            "gridwidth": 2,
            "linecolor": "white",
            "showbackground": true,
            "ticks": "",
            "zerolinecolor": "white"
           },
           "zaxis": {
            "backgroundcolor": "#E5ECF6",
            "gridcolor": "white",
            "gridwidth": 2,
            "linecolor": "white",
            "showbackground": true,
            "ticks": "",
            "zerolinecolor": "white"
           }
          },
          "shapedefaults": {
           "line": {
            "color": "#2a3f5f"
           }
          },
          "ternary": {
           "aaxis": {
            "gridcolor": "white",
            "linecolor": "white",
            "ticks": ""
           },
           "baxis": {
            "gridcolor": "white",
            "linecolor": "white",
            "ticks": ""
           },
           "bgcolor": "#E5ECF6",
           "caxis": {
            "gridcolor": "white",
            "linecolor": "white",
            "ticks": ""
           }
          },
          "title": {
           "x": 0.05
          },
          "xaxis": {
           "automargin": true,
           "gridcolor": "white",
           "linecolor": "white",
           "ticks": "",
           "title": {
            "standoff": 15
           },
           "zerolinecolor": "white",
           "zerolinewidth": 2
          },
          "yaxis": {
           "automargin": true,
           "gridcolor": "white",
           "linecolor": "white",
           "ticks": "",
           "title": {
            "standoff": 15
           },
           "zerolinecolor": "white",
           "zerolinewidth": 2
          }
         }
        },
        "width": 800,
        "xaxis": {
         "anchor": "y",
         "categoryarray": [
          "High",
          "Not Specified",
          "Medium",
          "Low",
          "Not experienced"
         ],
         "categoryorder": "array",
         "domain": [
          0,
          1
         ],
         "title": {
          "text": "ieffect_org1"
         }
        },
        "yaxis": {
         "anchor": "x",
         "domain": [
          0,
          1
         ],
         "title": {
          "text": "count"
         }
        }
       }
      }
     },
     "metadata": {},
     "output_type": "display_data"
    }
   ],
   "source": [
    "df4\n",
    "df4.replace({' ':'Not Specified'},inplace =True)\n",
    "fig = px.histogram(df4, x=\"ieffect_org1\", color=\"ieffect_org1\",width=800, height=600)\n",
    "fig.update_layout(margin= dict(l=20, r=20, t=20, b=20),paper_bgcolor=\"#202A44\")\n",
    "fig.show()"
   ]
  },
  {
   "cell_type": "code",
   "execution_count": null,
   "metadata": {},
   "outputs": [
    {
     "data": {
      "text/html": [
       "<div>\n",
       "<style scoped>\n",
       "    .dataframe tbody tr th:only-of-type {\n",
       "        vertical-align: middle;\n",
       "    }\n",
       "\n",
       "    .dataframe tbody tr th {\n",
       "        vertical-align: top;\n",
       "    }\n",
       "\n",
       "    .dataframe thead th {\n",
       "        text-align: right;\n",
       "    }\n",
       "</style>\n",
       "<table border=\"1\" class=\"dataframe\">\n",
       "  <thead>\n",
       "    <tr style=\"text-align: right;\">\n",
       "      <th></th>\n",
       "      <th>Unnamed: 0</th>\n",
       "      <th>Types of Selected R&amp;D by  Enterprise</th>\n",
       "      <th>No of Innovations Engagement</th>\n",
       "      <th>Total Expenditure</th>\n",
       "    </tr>\n",
       "  </thead>\n",
       "  <tbody>\n",
       "    <tr>\n",
       "      <th>0</th>\n",
       "      <td>NaN</td>\n",
       "      <td>Internal R&amp;D</td>\n",
       "      <td>452</td>\n",
       "      <td>4.130207e+09</td>\n",
       "    </tr>\n",
       "    <tr>\n",
       "      <th>1</th>\n",
       "      <td>NaN</td>\n",
       "      <td>Extramural R&amp;D acquired</td>\n",
       "      <td>289</td>\n",
       "      <td>1.288138e+09</td>\n",
       "    </tr>\n",
       "    <tr>\n",
       "      <th>2</th>\n",
       "      <td>NaN</td>\n",
       "      <td>Acquired machinery, equipment, computer hardware</td>\n",
       "      <td>351</td>\n",
       "      <td>5.051279e+09</td>\n",
       "    </tr>\n",
       "    <tr>\n",
       "      <th>3</th>\n",
       "      <td>NaN</td>\n",
       "      <td>Acquired other external knowledge</td>\n",
       "      <td>402</td>\n",
       "      <td>1.496220e+09</td>\n",
       "    </tr>\n",
       "  </tbody>\n",
       "</table>\n",
       "</div>"
      ],
      "text/plain": [
       "   Unnamed: 0              Types of Selected R&D by  Enterprise  \\\n",
       "0         NaN                                      Internal R&D   \n",
       "1         NaN                           Extramural R&D acquired   \n",
       "2         NaN  Acquired machinery, equipment, computer hardware   \n",
       "3         NaN                 Acquired other external knowledge   \n",
       "\n",
       "   No of Innovations Engagement  Total Expenditure  \n",
       "0                           452       4.130207e+09  \n",
       "1                           289       1.288138e+09  \n",
       "2                           351       5.051279e+09  \n",
       "3                           402       1.496220e+09  "
      ]
     },
     "execution_count": 3,
     "metadata": {},
     "output_type": "execute_result"
    }
   ],
   "source": [
    "df7 = pd.read_excel('output.xlsx',sheet_name='Sheet3')\n",
    "df7"
   ]
  },
  {
   "cell_type": "code",
   "execution_count": null,
   "metadata": {},
   "outputs": [
    {
     "data": {
      "text/html": [
       "<div>\n",
       "<style scoped>\n",
       "    .dataframe tbody tr th:only-of-type {\n",
       "        vertical-align: middle;\n",
       "    }\n",
       "\n",
       "    .dataframe tbody tr th {\n",
       "        vertical-align: top;\n",
       "    }\n",
       "\n",
       "    .dataframe thead th {\n",
       "        text-align: right;\n",
       "    }\n",
       "</style>\n",
       "<table border=\"1\" class=\"dataframe\">\n",
       "  <thead>\n",
       "    <tr style=\"text-align: right;\">\n",
       "      <th></th>\n",
       "      <th>Types of Selected R&amp;D by  Enterprise</th>\n",
       "      <th>No of Innovations Engagement</th>\n",
       "      <th>Total Expenditure</th>\n",
       "    </tr>\n",
       "  </thead>\n",
       "  <tbody>\n",
       "    <tr>\n",
       "      <th>0</th>\n",
       "      <td>Internal R&amp;D</td>\n",
       "      <td>452</td>\n",
       "      <td>4.130207e+09</td>\n",
       "    </tr>\n",
       "    <tr>\n",
       "      <th>1</th>\n",
       "      <td>Extramural R&amp;D acquired</td>\n",
       "      <td>289</td>\n",
       "      <td>1.288138e+09</td>\n",
       "    </tr>\n",
       "    <tr>\n",
       "      <th>2</th>\n",
       "      <td>Acquired machinery, equipment, computer hardware</td>\n",
       "      <td>351</td>\n",
       "      <td>5.051279e+09</td>\n",
       "    </tr>\n",
       "    <tr>\n",
       "      <th>3</th>\n",
       "      <td>Acquired other external knowledge</td>\n",
       "      <td>402</td>\n",
       "      <td>1.496220e+09</td>\n",
       "    </tr>\n",
       "  </tbody>\n",
       "</table>\n",
       "</div>"
      ],
      "text/plain": [
       "               Types of Selected R&D by  Enterprise  \\\n",
       "0                                      Internal R&D   \n",
       "1                           Extramural R&D acquired   \n",
       "2  Acquired machinery, equipment, computer hardware   \n",
       "3                 Acquired other external knowledge   \n",
       "\n",
       "   No of Innovations Engagement  Total Expenditure  \n",
       "0                           452       4.130207e+09  \n",
       "1                           289       1.288138e+09  \n",
       "2                           351       5.051279e+09  \n",
       "3                           402       1.496220e+09  "
      ]
     },
     "execution_count": 4,
     "metadata": {},
     "output_type": "execute_result"
    }
   ],
   "source": [
    "df7 = pd.read_excel('output.xlsx',sheet_name='Sheet3')\n",
    "df7.drop('Unnamed: 0',axis = 1,inplace =True)\n",
    "df7"
   ]
  },
  {
   "cell_type": "code",
   "execution_count": null,
   "metadata": {},
   "outputs": [
    {
     "data": {
      "application/vnd.plotly.v1+json": {
       "config": {
        "plotlyServerURL": "https://plot.ly"
       },
       "data": [
        {
         "hovertemplate": "<b>%{hovertext}</b><br><br>Types of Selected R&D by  Enterprise=Internal R&D<br>No of Innovations Engagement=%{x}<br>Total Expenditure=%{marker.size}<extra></extra>",
         "hovertext": [
          "Internal R&D"
         ],
         "legendgroup": "Internal R&D",
         "marker": {
          "color": "#636efa",
          "size": [
           4130206927.9999976
          ],
          "sizemode": "area",
          "sizeref": 1403133.1438888886,
          "symbol": "circle"
         },
         "mode": "markers",
         "name": "Internal R&D",
         "orientation": "v",
         "showlegend": true,
         "type": "scatter",
         "x": [
          452
         ],
         "xaxis": "x",
         "y": [
          4130206927.9999976
         ],
         "yaxis": "y"
        },
        {
         "hovertemplate": "<b>%{hovertext}</b><br><br>Types of Selected R&D by  Enterprise=Extramural R&D acquired<br>No of Innovations Engagement=%{x}<br>Total Expenditure=%{marker.size}<extra></extra>",
         "hovertext": [
          "Extramural R&D acquired"
         ],
         "legendgroup": "Extramural R&D acquired",
         "marker": {
          "color": "#EF553B",
          "size": [
           1288138250.1499999
          ],
          "sizemode": "area",
          "sizeref": 1403133.1438888886,
          "symbol": "circle"
         },
         "mode": "markers",
         "name": "Extramural R&D acquired",
         "orientation": "v",
         "showlegend": true,
         "type": "scatter",
         "x": [
          289
         ],
         "xaxis": "x",
         "y": [
          1288138250.1499999
         ],
         "yaxis": "y"
        },
        {
         "hovertemplate": "<b>%{hovertext}</b><br><br>Types of Selected R&D by  Enterprise=Acquired machinery, equipment, computer hardware<br>No of Innovations Engagement=%{x}<br>Total Expenditure=%{marker.size}<extra></extra>",
         "hovertext": [
          "Acquired machinery, equipment, computer hardware"
         ],
         "legendgroup": "Acquired machinery, equipment, computer hardware",
         "marker": {
          "color": "#00cc96",
          "size": [
           5051279317.999999
          ],
          "sizemode": "area",
          "sizeref": 1403133.1438888886,
          "symbol": "circle"
         },
         "mode": "markers",
         "name": "Acquired machinery, equipment, computer hardware",
         "orientation": "v",
         "showlegend": true,
         "type": "scatter",
         "x": [
          351
         ],
         "xaxis": "x",
         "y": [
          5051279317.999999
         ],
         "yaxis": "y"
        },
        {
         "hovertemplate": "<b>%{hovertext}</b><br><br>Types of Selected R&D by  Enterprise=Acquired other external knowledge<br>No of Innovations Engagement=%{x}<br>Total Expenditure=%{marker.size}<extra></extra>",
         "hovertext": [
          "Acquired other external knowledge"
         ],
         "legendgroup": "Acquired other external knowledge",
         "marker": {
          "color": "#ab63fa",
          "size": [
           1496219705
          ],
          "sizemode": "area",
          "sizeref": 1403133.1438888886,
          "symbol": "circle"
         },
         "mode": "markers",
         "name": "Acquired other external knowledge",
         "orientation": "v",
         "showlegend": true,
         "type": "scatter",
         "x": [
          402
         ],
         "xaxis": "x",
         "y": [
          1496219705
         ],
         "yaxis": "y"
        }
       ],
       "layout": {
        "legend": {
         "itemsizing": "constant",
         "title": {
          "text": "Types of Selected R&D by  Enterprise"
         },
         "tracegroupgap": 0
        },
        "margin": {
         "t": 60
        },
        "template": {
         "data": {
          "bar": [
           {
            "error_x": {
             "color": "#2a3f5f"
            },
            "error_y": {
             "color": "#2a3f5f"
            },
            "marker": {
             "line": {
              "color": "#E5ECF6",
              "width": 0.5
             },
             "pattern": {
              "fillmode": "overlay",
              "size": 10,
              "solidity": 0.2
             }
            },
            "type": "bar"
           }
          ],
          "barpolar": [
           {
            "marker": {
             "line": {
              "color": "#E5ECF6",
              "width": 0.5
             },
             "pattern": {
              "fillmode": "overlay",
              "size": 10,
              "solidity": 0.2
             }
            },
            "type": "barpolar"
           }
          ],
          "carpet": [
           {
            "aaxis": {
             "endlinecolor": "#2a3f5f",
             "gridcolor": "white",
             "linecolor": "white",
             "minorgridcolor": "white",
             "startlinecolor": "#2a3f5f"
            },
            "baxis": {
             "endlinecolor": "#2a3f5f",
             "gridcolor": "white",
             "linecolor": "white",
             "minorgridcolor": "white",
             "startlinecolor": "#2a3f5f"
            },
            "type": "carpet"
           }
          ],
          "choropleth": [
           {
            "colorbar": {
             "outlinewidth": 0,
             "ticks": ""
            },
            "type": "choropleth"
           }
          ],
          "contour": [
           {
            "colorbar": {
             "outlinewidth": 0,
             "ticks": ""
            },
            "colorscale": [
             [
              0,
              "#0d0887"
             ],
             [
              0.1111111111111111,
              "#46039f"
             ],
             [
              0.2222222222222222,
              "#7201a8"
             ],
             [
              0.3333333333333333,
              "#9c179e"
             ],
             [
              0.4444444444444444,
              "#bd3786"
             ],
             [
              0.5555555555555556,
              "#d8576b"
             ],
             [
              0.6666666666666666,
              "#ed7953"
             ],
             [
              0.7777777777777778,
              "#fb9f3a"
             ],
             [
              0.8888888888888888,
              "#fdca26"
             ],
             [
              1,
              "#f0f921"
             ]
            ],
            "type": "contour"
           }
          ],
          "contourcarpet": [
           {
            "colorbar": {
             "outlinewidth": 0,
             "ticks": ""
            },
            "type": "contourcarpet"
           }
          ],
          "heatmap": [
           {
            "colorbar": {
             "outlinewidth": 0,
             "ticks": ""
            },
            "colorscale": [
             [
              0,
              "#0d0887"
             ],
             [
              0.1111111111111111,
              "#46039f"
             ],
             [
              0.2222222222222222,
              "#7201a8"
             ],
             [
              0.3333333333333333,
              "#9c179e"
             ],
             [
              0.4444444444444444,
              "#bd3786"
             ],
             [
              0.5555555555555556,
              "#d8576b"
             ],
             [
              0.6666666666666666,
              "#ed7953"
             ],
             [
              0.7777777777777778,
              "#fb9f3a"
             ],
             [
              0.8888888888888888,
              "#fdca26"
             ],
             [
              1,
              "#f0f921"
             ]
            ],
            "type": "heatmap"
           }
          ],
          "heatmapgl": [
           {
            "colorbar": {
             "outlinewidth": 0,
             "ticks": ""
            },
            "colorscale": [
             [
              0,
              "#0d0887"
             ],
             [
              0.1111111111111111,
              "#46039f"
             ],
             [
              0.2222222222222222,
              "#7201a8"
             ],
             [
              0.3333333333333333,
              "#9c179e"
             ],
             [
              0.4444444444444444,
              "#bd3786"
             ],
             [
              0.5555555555555556,
              "#d8576b"
             ],
             [
              0.6666666666666666,
              "#ed7953"
             ],
             [
              0.7777777777777778,
              "#fb9f3a"
             ],
             [
              0.8888888888888888,
              "#fdca26"
             ],
             [
              1,
              "#f0f921"
             ]
            ],
            "type": "heatmapgl"
           }
          ],
          "histogram": [
           {
            "marker": {
             "pattern": {
              "fillmode": "overlay",
              "size": 10,
              "solidity": 0.2
             }
            },
            "type": "histogram"
           }
          ],
          "histogram2d": [
           {
            "colorbar": {
             "outlinewidth": 0,
             "ticks": ""
            },
            "colorscale": [
             [
              0,
              "#0d0887"
             ],
             [
              0.1111111111111111,
              "#46039f"
             ],
             [
              0.2222222222222222,
              "#7201a8"
             ],
             [
              0.3333333333333333,
              "#9c179e"
             ],
             [
              0.4444444444444444,
              "#bd3786"
             ],
             [
              0.5555555555555556,
              "#d8576b"
             ],
             [
              0.6666666666666666,
              "#ed7953"
             ],
             [
              0.7777777777777778,
              "#fb9f3a"
             ],
             [
              0.8888888888888888,
              "#fdca26"
             ],
             [
              1,
              "#f0f921"
             ]
            ],
            "type": "histogram2d"
           }
          ],
          "histogram2dcontour": [
           {
            "colorbar": {
             "outlinewidth": 0,
             "ticks": ""
            },
            "colorscale": [
             [
              0,
              "#0d0887"
             ],
             [
              0.1111111111111111,
              "#46039f"
             ],
             [
              0.2222222222222222,
              "#7201a8"
             ],
             [
              0.3333333333333333,
              "#9c179e"
             ],
             [
              0.4444444444444444,
              "#bd3786"
             ],
             [
              0.5555555555555556,
              "#d8576b"
             ],
             [
              0.6666666666666666,
              "#ed7953"
             ],
             [
              0.7777777777777778,
              "#fb9f3a"
             ],
             [
              0.8888888888888888,
              "#fdca26"
             ],
             [
              1,
              "#f0f921"
             ]
            ],
            "type": "histogram2dcontour"
           }
          ],
          "mesh3d": [
           {
            "colorbar": {
             "outlinewidth": 0,
             "ticks": ""
            },
            "type": "mesh3d"
           }
          ],
          "parcoords": [
           {
            "line": {
             "colorbar": {
              "outlinewidth": 0,
              "ticks": ""
             }
            },
            "type": "parcoords"
           }
          ],
          "pie": [
           {
            "automargin": true,
            "type": "pie"
           }
          ],
          "scatter": [
           {
            "marker": {
             "colorbar": {
              "outlinewidth": 0,
              "ticks": ""
             }
            },
            "type": "scatter"
           }
          ],
          "scatter3d": [
           {
            "line": {
             "colorbar": {
              "outlinewidth": 0,
              "ticks": ""
             }
            },
            "marker": {
             "colorbar": {
              "outlinewidth": 0,
              "ticks": ""
             }
            },
            "type": "scatter3d"
           }
          ],
          "scattercarpet": [
           {
            "marker": {
             "colorbar": {
              "outlinewidth": 0,
              "ticks": ""
             }
            },
            "type": "scattercarpet"
           }
          ],
          "scattergeo": [
           {
            "marker": {
             "colorbar": {
              "outlinewidth": 0,
              "ticks": ""
             }
            },
            "type": "scattergeo"
           }
          ],
          "scattergl": [
           {
            "marker": {
             "colorbar": {
              "outlinewidth": 0,
              "ticks": ""
             }
            },
            "type": "scattergl"
           }
          ],
          "scattermapbox": [
           {
            "marker": {
             "colorbar": {
              "outlinewidth": 0,
              "ticks": ""
             }
            },
            "type": "scattermapbox"
           }
          ],
          "scatterpolar": [
           {
            "marker": {
             "colorbar": {
              "outlinewidth": 0,
              "ticks": ""
             }
            },
            "type": "scatterpolar"
           }
          ],
          "scatterpolargl": [
           {
            "marker": {
             "colorbar": {
              "outlinewidth": 0,
              "ticks": ""
             }
            },
            "type": "scatterpolargl"
           }
          ],
          "scatterternary": [
           {
            "marker": {
             "colorbar": {
              "outlinewidth": 0,
              "ticks": ""
             }
            },
            "type": "scatterternary"
           }
          ],
          "surface": [
           {
            "colorbar": {
             "outlinewidth": 0,
             "ticks": ""
            },
            "colorscale": [
             [
              0,
              "#0d0887"
             ],
             [
              0.1111111111111111,
              "#46039f"
             ],
             [
              0.2222222222222222,
              "#7201a8"
             ],
             [
              0.3333333333333333,
              "#9c179e"
             ],
             [
              0.4444444444444444,
              "#bd3786"
             ],
             [
              0.5555555555555556,
              "#d8576b"
             ],
             [
              0.6666666666666666,
              "#ed7953"
             ],
             [
              0.7777777777777778,
              "#fb9f3a"
             ],
             [
              0.8888888888888888,
              "#fdca26"
             ],
             [
              1,
              "#f0f921"
             ]
            ],
            "type": "surface"
           }
          ],
          "table": [
           {
            "cells": {
             "fill": {
              "color": "#EBF0F8"
             },
             "line": {
              "color": "white"
             }
            },
            "header": {
             "fill": {
              "color": "#C8D4E3"
             },
             "line": {
              "color": "white"
             }
            },
            "type": "table"
           }
          ]
         },
         "layout": {
          "annotationdefaults": {
           "arrowcolor": "#2a3f5f",
           "arrowhead": 0,
           "arrowwidth": 1
          },
          "autotypenumbers": "strict",
          "coloraxis": {
           "colorbar": {
            "outlinewidth": 0,
            "ticks": ""
           }
          },
          "colorscale": {
           "diverging": [
            [
             0,
             "#8e0152"
            ],
            [
             0.1,
             "#c51b7d"
            ],
            [
             0.2,
             "#de77ae"
            ],
            [
             0.3,
             "#f1b6da"
            ],
            [
             0.4,
             "#fde0ef"
            ],
            [
             0.5,
             "#f7f7f7"
            ],
            [
             0.6,
             "#e6f5d0"
            ],
            [
             0.7,
             "#b8e186"
            ],
            [
             0.8,
             "#7fbc41"
            ],
            [
             0.9,
             "#4d9221"
            ],
            [
             1,
             "#276419"
            ]
           ],
           "sequential": [
            [
             0,
             "#0d0887"
            ],
            [
             0.1111111111111111,
             "#46039f"
            ],
            [
             0.2222222222222222,
             "#7201a8"
            ],
            [
             0.3333333333333333,
             "#9c179e"
            ],
            [
             0.4444444444444444,
             "#bd3786"
            ],
            [
             0.5555555555555556,
             "#d8576b"
            ],
            [
             0.6666666666666666,
             "#ed7953"
            ],
            [
             0.7777777777777778,
             "#fb9f3a"
            ],
            [
             0.8888888888888888,
             "#fdca26"
            ],
            [
             1,
             "#f0f921"
            ]
           ],
           "sequentialminus": [
            [
             0,
             "#0d0887"
            ],
            [
             0.1111111111111111,
             "#46039f"
            ],
            [
             0.2222222222222222,
             "#7201a8"
            ],
            [
             0.3333333333333333,
             "#9c179e"
            ],
            [
             0.4444444444444444,
             "#bd3786"
            ],
            [
             0.5555555555555556,
             "#d8576b"
            ],
            [
             0.6666666666666666,
             "#ed7953"
            ],
            [
             0.7777777777777778,
             "#fb9f3a"
            ],
            [
             0.8888888888888888,
             "#fdca26"
            ],
            [
             1,
             "#f0f921"
            ]
           ]
          },
          "colorway": [
           "#636efa",
           "#EF553B",
           "#00cc96",
           "#ab63fa",
           "#FFA15A",
           "#19d3f3",
           "#FF6692",
           "#B6E880",
           "#FF97FF",
           "#FECB52"
          ],
          "font": {
           "color": "#2a3f5f"
          },
          "geo": {
           "bgcolor": "white",
           "lakecolor": "white",
           "landcolor": "#E5ECF6",
           "showlakes": true,
           "showland": true,
           "subunitcolor": "white"
          },
          "hoverlabel": {
           "align": "left"
          },
          "hovermode": "closest",
          "mapbox": {
           "style": "light"
          },
          "paper_bgcolor": "white",
          "plot_bgcolor": "#E5ECF6",
          "polar": {
           "angularaxis": {
            "gridcolor": "white",
            "linecolor": "white",
            "ticks": ""
           },
           "bgcolor": "#E5ECF6",
           "radialaxis": {
            "gridcolor": "white",
            "linecolor": "white",
            "ticks": ""
           }
          },
          "scene": {
           "xaxis": {
            "backgroundcolor": "#E5ECF6",
            "gridcolor": "white",
            "gridwidth": 2,
            "linecolor": "white",
            "showbackground": true,
            "ticks": "",
            "zerolinecolor": "white"
           },
           "yaxis": {
            "backgroundcolor": "#E5ECF6",
            "gridcolor": "white",
            "gridwidth": 2,
            "linecolor": "white",
            "showbackground": true,
            "ticks": "",
            "zerolinecolor": "white"
           },
           "zaxis": {
            "backgroundcolor": "#E5ECF6",
            "gridcolor": "white",
            "gridwidth": 2,
            "linecolor": "white",
            "showbackground": true,
            "ticks": "",
            "zerolinecolor": "white"
           }
          },
          "shapedefaults": {
           "line": {
            "color": "#2a3f5f"
           }
          },
          "ternary": {
           "aaxis": {
            "gridcolor": "white",
            "linecolor": "white",
            "ticks": ""
           },
           "baxis": {
            "gridcolor": "white",
            "linecolor": "white",
            "ticks": ""
           },
           "bgcolor": "#E5ECF6",
           "caxis": {
            "gridcolor": "white",
            "linecolor": "white",
            "ticks": ""
           }
          },
          "title": {
           "x": 0.05
          },
          "xaxis": {
           "automargin": true,
           "gridcolor": "white",
           "linecolor": "white",
           "ticks": "",
           "title": {
            "standoff": 15
           },
           "zerolinecolor": "white",
           "zerolinewidth": 2
          },
          "yaxis": {
           "automargin": true,
           "gridcolor": "white",
           "linecolor": "white",
           "ticks": "",
           "title": {
            "standoff": 15
           },
           "zerolinecolor": "white",
           "zerolinewidth": 2
          }
         }
        },
        "xaxis": {
         "anchor": "y",
         "domain": [
          0,
          1
         ],
         "title": {
          "text": "No of Innovations Engagement"
         },
         "type": "log"
        },
        "yaxis": {
         "anchor": "x",
         "domain": [
          0,
          1
         ],
         "title": {
          "text": "Total Expenditure"
         }
        }
       }
      }
     },
     "metadata": {},
     "output_type": "display_data"
    }
   ],
   "source": [
    "fig = px.scatter(df7, x=\"No of Innovations Engagement\", y=\"Total Expenditure\",size=\"Total Expenditure\", color=\"Types of Selected R&D by  Enterprise\",hover_name=\"Types of Selected R&D by  Enterprise\"\n",
    "                 , log_x=True, size_max=60)\n",
    "fig.show()"
   ]
  },
  {
   "cell_type": "code",
   "execution_count": 53,
   "metadata": {},
   "outputs": [
    {
     "name": "stderr",
     "output_type": "stream",
     "text": [
      "C:\\Users\\Simeon\\AppData\\Local\\Temp\\ipykernel_10148\\937305746.py:3: SettingWithCopyWarning:\n",
      "\n",
      "\n",
      "A value is trying to be set on a copy of a slice from a DataFrame\n",
      "\n",
      "See the caveats in the documentation: https://pandas.pydata.org/pandas-docs/stable/user_guide/indexing.html#returning-a-view-versus-a-copy\n",
      "\n"
     ]
    },
    {
     "data": {
      "text/html": [
       "<div>\n",
       "<style scoped>\n",
       "    .dataframe tbody tr th:only-of-type {\n",
       "        vertical-align: middle;\n",
       "    }\n",
       "\n",
       "    .dataframe tbody tr th {\n",
       "        vertical-align: top;\n",
       "    }\n",
       "\n",
       "    .dataframe thead th {\n",
       "        text-align: right;\n",
       "    }\n",
       "</style>\n",
       "<table border=\"1\" class=\"dataframe\">\n",
       "  <thead>\n",
       "    <tr style=\"text-align: right;\">\n",
       "      <th></th>\n",
       "      <th>Continuous R&amp;D</th>\n",
       "      <th>Occassional R&amp;D</th>\n",
       "    </tr>\n",
       "  </thead>\n",
       "  <tbody>\n",
       "    <tr>\n",
       "      <th>YES</th>\n",
       "      <td>147</td>\n",
       "      <td>284</td>\n",
       "    </tr>\n",
       "    <tr>\n",
       "      <th>NO</th>\n",
       "      <td>284</td>\n",
       "      <td>147</td>\n",
       "    </tr>\n",
       "  </tbody>\n",
       "</table>\n",
       "</div>"
      ],
      "text/plain": [
       "     Continuous R&D  Occassional R&D\n",
       "YES             147              284\n",
       "NO              284              147"
      ]
     },
     "execution_count": 53,
     "metadata": {},
     "output_type": "execute_result"
    }
   ],
   "source": [
    "df = pd.read_excel('randd.xlsx')\n",
    "df2 = df[['iact1','crd','ord']]\n",
    "df2.dropna(inplace=True)\n",
    "d1 = pd.crosstab(df2['iact1'],df2['ord'])\n",
    "d2 = pd.crosstab(df2['iact1'],df2['crd'])\n",
    "d3 = {\n",
    "    'Continuous R&D':[147,284],\n",
    "    'Occassional R&D':[284,147]\n",
    "}\n",
    "ITCRDORD = pd.DataFrame(d3,index = ['YES','NO'])\n",
    "ITCRDORD.rename({0:'NO',1:'YES'},axis = 0,inplace =True)\n",
    "ITCRDORD"
   ]
  },
  {
   "cell_type": "code",
   "execution_count": 54,
   "metadata": {},
   "outputs": [
    {
     "data": {
      "application/vnd.plotly.v1+json": {
       "config": {
        "plotlyServerURL": "https://plot.ly"
       },
       "data": [
        {
         "hovertemplate": "Outcome=%{x}<br>Continuous R&D=%{y}<extra></extra>",
         "legendgroup": "YES",
         "marker": {
          "color": "#636efa"
         },
         "name": "YES",
         "orientation": "v",
         "showlegend": true,
         "type": "funnel",
         "x": [
          "YES"
         ],
         "xaxis": "x",
         "y": [
          147
         ],
         "yaxis": "y"
        },
        {
         "hovertemplate": "Outcome=%{x}<br>Continuous R&D=%{y}<extra></extra>",
         "legendgroup": "NO",
         "marker": {
          "color": "#EF553B"
         },
         "name": "NO",
         "orientation": "v",
         "showlegend": true,
         "type": "funnel",
         "x": [
          "NO"
         ],
         "xaxis": "x",
         "y": [
          284
         ],
         "yaxis": "y"
        }
       ],
       "layout": {
        "legend": {
         "title": {
          "text": "Outcome"
         },
         "tracegroupgap": 0
        },
        "margin": {
         "t": 60
        },
        "template": {
         "data": {
          "bar": [
           {
            "error_x": {
             "color": "#2a3f5f"
            },
            "error_y": {
             "color": "#2a3f5f"
            },
            "marker": {
             "line": {
              "color": "#E5ECF6",
              "width": 0.5
             },
             "pattern": {
              "fillmode": "overlay",
              "size": 10,
              "solidity": 0.2
             }
            },
            "type": "bar"
           }
          ],
          "barpolar": [
           {
            "marker": {
             "line": {
              "color": "#E5ECF6",
              "width": 0.5
             },
             "pattern": {
              "fillmode": "overlay",
              "size": 10,
              "solidity": 0.2
             }
            },
            "type": "barpolar"
           }
          ],
          "carpet": [
           {
            "aaxis": {
             "endlinecolor": "#2a3f5f",
             "gridcolor": "white",
             "linecolor": "white",
             "minorgridcolor": "white",
             "startlinecolor": "#2a3f5f"
            },
            "baxis": {
             "endlinecolor": "#2a3f5f",
             "gridcolor": "white",
             "linecolor": "white",
             "minorgridcolor": "white",
             "startlinecolor": "#2a3f5f"
            },
            "type": "carpet"
           }
          ],
          "choropleth": [
           {
            "colorbar": {
             "outlinewidth": 0,
             "ticks": ""
            },
            "type": "choropleth"
           }
          ],
          "contour": [
           {
            "colorbar": {
             "outlinewidth": 0,
             "ticks": ""
            },
            "colorscale": [
             [
              0,
              "#0d0887"
             ],
             [
              0.1111111111111111,
              "#46039f"
             ],
             [
              0.2222222222222222,
              "#7201a8"
             ],
             [
              0.3333333333333333,
              "#9c179e"
             ],
             [
              0.4444444444444444,
              "#bd3786"
             ],
             [
              0.5555555555555556,
              "#d8576b"
             ],
             [
              0.6666666666666666,
              "#ed7953"
             ],
             [
              0.7777777777777778,
              "#fb9f3a"
             ],
             [
              0.8888888888888888,
              "#fdca26"
             ],
             [
              1,
              "#f0f921"
             ]
            ],
            "type": "contour"
           }
          ],
          "contourcarpet": [
           {
            "colorbar": {
             "outlinewidth": 0,
             "ticks": ""
            },
            "type": "contourcarpet"
           }
          ],
          "heatmap": [
           {
            "colorbar": {
             "outlinewidth": 0,
             "ticks": ""
            },
            "colorscale": [
             [
              0,
              "#0d0887"
             ],
             [
              0.1111111111111111,
              "#46039f"
             ],
             [
              0.2222222222222222,
              "#7201a8"
             ],
             [
              0.3333333333333333,
              "#9c179e"
             ],
             [
              0.4444444444444444,
              "#bd3786"
             ],
             [
              0.5555555555555556,
              "#d8576b"
             ],
             [
              0.6666666666666666,
              "#ed7953"
             ],
             [
              0.7777777777777778,
              "#fb9f3a"
             ],
             [
              0.8888888888888888,
              "#fdca26"
             ],
             [
              1,
              "#f0f921"
             ]
            ],
            "type": "heatmap"
           }
          ],
          "heatmapgl": [
           {
            "colorbar": {
             "outlinewidth": 0,
             "ticks": ""
            },
            "colorscale": [
             [
              0,
              "#0d0887"
             ],
             [
              0.1111111111111111,
              "#46039f"
             ],
             [
              0.2222222222222222,
              "#7201a8"
             ],
             [
              0.3333333333333333,
              "#9c179e"
             ],
             [
              0.4444444444444444,
              "#bd3786"
             ],
             [
              0.5555555555555556,
              "#d8576b"
             ],
             [
              0.6666666666666666,
              "#ed7953"
             ],
             [
              0.7777777777777778,
              "#fb9f3a"
             ],
             [
              0.8888888888888888,
              "#fdca26"
             ],
             [
              1,
              "#f0f921"
             ]
            ],
            "type": "heatmapgl"
           }
          ],
          "histogram": [
           {
            "marker": {
             "pattern": {
              "fillmode": "overlay",
              "size": 10,
              "solidity": 0.2
             }
            },
            "type": "histogram"
           }
          ],
          "histogram2d": [
           {
            "colorbar": {
             "outlinewidth": 0,
             "ticks": ""
            },
            "colorscale": [
             [
              0,
              "#0d0887"
             ],
             [
              0.1111111111111111,
              "#46039f"
             ],
             [
              0.2222222222222222,
              "#7201a8"
             ],
             [
              0.3333333333333333,
              "#9c179e"
             ],
             [
              0.4444444444444444,
              "#bd3786"
             ],
             [
              0.5555555555555556,
              "#d8576b"
             ],
             [
              0.6666666666666666,
              "#ed7953"
             ],
             [
              0.7777777777777778,
              "#fb9f3a"
             ],
             [
              0.8888888888888888,
              "#fdca26"
             ],
             [
              1,
              "#f0f921"
             ]
            ],
            "type": "histogram2d"
           }
          ],
          "histogram2dcontour": [
           {
            "colorbar": {
             "outlinewidth": 0,
             "ticks": ""
            },
            "colorscale": [
             [
              0,
              "#0d0887"
             ],
             [
              0.1111111111111111,
              "#46039f"
             ],
             [
              0.2222222222222222,
              "#7201a8"
             ],
             [
              0.3333333333333333,
              "#9c179e"
             ],
             [
              0.4444444444444444,
              "#bd3786"
             ],
             [
              0.5555555555555556,
              "#d8576b"
             ],
             [
              0.6666666666666666,
              "#ed7953"
             ],
             [
              0.7777777777777778,
              "#fb9f3a"
             ],
             [
              0.8888888888888888,
              "#fdca26"
             ],
             [
              1,
              "#f0f921"
             ]
            ],
            "type": "histogram2dcontour"
           }
          ],
          "mesh3d": [
           {
            "colorbar": {
             "outlinewidth": 0,
             "ticks": ""
            },
            "type": "mesh3d"
           }
          ],
          "parcoords": [
           {
            "line": {
             "colorbar": {
              "outlinewidth": 0,
              "ticks": ""
             }
            },
            "type": "parcoords"
           }
          ],
          "pie": [
           {
            "automargin": true,
            "type": "pie"
           }
          ],
          "scatter": [
           {
            "marker": {
             "colorbar": {
              "outlinewidth": 0,
              "ticks": ""
             }
            },
            "type": "scatter"
           }
          ],
          "scatter3d": [
           {
            "line": {
             "colorbar": {
              "outlinewidth": 0,
              "ticks": ""
             }
            },
            "marker": {
             "colorbar": {
              "outlinewidth": 0,
              "ticks": ""
             }
            },
            "type": "scatter3d"
           }
          ],
          "scattercarpet": [
           {
            "marker": {
             "colorbar": {
              "outlinewidth": 0,
              "ticks": ""
             }
            },
            "type": "scattercarpet"
           }
          ],
          "scattergeo": [
           {
            "marker": {
             "colorbar": {
              "outlinewidth": 0,
              "ticks": ""
             }
            },
            "type": "scattergeo"
           }
          ],
          "scattergl": [
           {
            "marker": {
             "colorbar": {
              "outlinewidth": 0,
              "ticks": ""
             }
            },
            "type": "scattergl"
           }
          ],
          "scattermapbox": [
           {
            "marker": {
             "colorbar": {
              "outlinewidth": 0,
              "ticks": ""
             }
            },
            "type": "scattermapbox"
           }
          ],
          "scatterpolar": [
           {
            "marker": {
             "colorbar": {
              "outlinewidth": 0,
              "ticks": ""
             }
            },
            "type": "scatterpolar"
           }
          ],
          "scatterpolargl": [
           {
            "marker": {
             "colorbar": {
              "outlinewidth": 0,
              "ticks": ""
             }
            },
            "type": "scatterpolargl"
           }
          ],
          "scatterternary": [
           {
            "marker": {
             "colorbar": {
              "outlinewidth": 0,
              "ticks": ""
             }
            },
            "type": "scatterternary"
           }
          ],
          "surface": [
           {
            "colorbar": {
             "outlinewidth": 0,
             "ticks": ""
            },
            "colorscale": [
             [
              0,
              "#0d0887"
             ],
             [
              0.1111111111111111,
              "#46039f"
             ],
             [
              0.2222222222222222,
              "#7201a8"
             ],
             [
              0.3333333333333333,
              "#9c179e"
             ],
             [
              0.4444444444444444,
              "#bd3786"
             ],
             [
              0.5555555555555556,
              "#d8576b"
             ],
             [
              0.6666666666666666,
              "#ed7953"
             ],
             [
              0.7777777777777778,
              "#fb9f3a"
             ],
             [
              0.8888888888888888,
              "#fdca26"
             ],
             [
              1,
              "#f0f921"
             ]
            ],
            "type": "surface"
           }
          ],
          "table": [
           {
            "cells": {
             "fill": {
              "color": "#EBF0F8"
             },
             "line": {
              "color": "white"
             }
            },
            "header": {
             "fill": {
              "color": "#C8D4E3"
             },
             "line": {
              "color": "white"
             }
            },
            "type": "table"
           }
          ]
         },
         "layout": {
          "annotationdefaults": {
           "arrowcolor": "#2a3f5f",
           "arrowhead": 0,
           "arrowwidth": 1
          },
          "autotypenumbers": "strict",
          "coloraxis": {
           "colorbar": {
            "outlinewidth": 0,
            "ticks": ""
           }
          },
          "colorscale": {
           "diverging": [
            [
             0,
             "#8e0152"
            ],
            [
             0.1,
             "#c51b7d"
            ],
            [
             0.2,
             "#de77ae"
            ],
            [
             0.3,
             "#f1b6da"
            ],
            [
             0.4,
             "#fde0ef"
            ],
            [
             0.5,
             "#f7f7f7"
            ],
            [
             0.6,
             "#e6f5d0"
            ],
            [
             0.7,
             "#b8e186"
            ],
            [
             0.8,
             "#7fbc41"
            ],
            [
             0.9,
             "#4d9221"
            ],
            [
             1,
             "#276419"
            ]
           ],
           "sequential": [
            [
             0,
             "#0d0887"
            ],
            [
             0.1111111111111111,
             "#46039f"
            ],
            [
             0.2222222222222222,
             "#7201a8"
            ],
            [
             0.3333333333333333,
             "#9c179e"
            ],
            [
             0.4444444444444444,
             "#bd3786"
            ],
            [
             0.5555555555555556,
             "#d8576b"
            ],
            [
             0.6666666666666666,
             "#ed7953"
            ],
            [
             0.7777777777777778,
             "#fb9f3a"
            ],
            [
             0.8888888888888888,
             "#fdca26"
            ],
            [
             1,
             "#f0f921"
            ]
           ],
           "sequentialminus": [
            [
             0,
             "#0d0887"
            ],
            [
             0.1111111111111111,
             "#46039f"
            ],
            [
             0.2222222222222222,
             "#7201a8"
            ],
            [
             0.3333333333333333,
             "#9c179e"
            ],
            [
             0.4444444444444444,
             "#bd3786"
            ],
            [
             0.5555555555555556,
             "#d8576b"
            ],
            [
             0.6666666666666666,
             "#ed7953"
            ],
            [
             0.7777777777777778,
             "#fb9f3a"
            ],
            [
             0.8888888888888888,
             "#fdca26"
            ],
            [
             1,
             "#f0f921"
            ]
           ]
          },
          "colorway": [
           "#636efa",
           "#EF553B",
           "#00cc96",
           "#ab63fa",
           "#FFA15A",
           "#19d3f3",
           "#FF6692",
           "#B6E880",
           "#FF97FF",
           "#FECB52"
          ],
          "font": {
           "color": "#2a3f5f"
          },
          "geo": {
           "bgcolor": "white",
           "lakecolor": "white",
           "landcolor": "#E5ECF6",
           "showlakes": true,
           "showland": true,
           "subunitcolor": "white"
          },
          "hoverlabel": {
           "align": "left"
          },
          "hovermode": "closest",
          "mapbox": {
           "style": "light"
          },
          "paper_bgcolor": "white",
          "plot_bgcolor": "#E5ECF6",
          "polar": {
           "angularaxis": {
            "gridcolor": "white",
            "linecolor": "white",
            "ticks": ""
           },
           "bgcolor": "#E5ECF6",
           "radialaxis": {
            "gridcolor": "white",
            "linecolor": "white",
            "ticks": ""
           }
          },
          "scene": {
           "xaxis": {
            "backgroundcolor": "#E5ECF6",
            "gridcolor": "white",
            "gridwidth": 2,
            "linecolor": "white",
            "showbackground": true,
            "ticks": "",
            "zerolinecolor": "white"
           },
           "yaxis": {
            "backgroundcolor": "#E5ECF6",
            "gridcolor": "white",
            "gridwidth": 2,
            "linecolor": "white",
            "showbackground": true,
            "ticks": "",
            "zerolinecolor": "white"
           },
           "zaxis": {
            "backgroundcolor": "#E5ECF6",
            "gridcolor": "white",
            "gridwidth": 2,
            "linecolor": "white",
            "showbackground": true,
            "ticks": "",
            "zerolinecolor": "white"
           }
          },
          "shapedefaults": {
           "line": {
            "color": "#2a3f5f"
           }
          },
          "ternary": {
           "aaxis": {
            "gridcolor": "white",
            "linecolor": "white",
            "ticks": ""
           },
           "baxis": {
            "gridcolor": "white",
            "linecolor": "white",
            "ticks": ""
           },
           "bgcolor": "#E5ECF6",
           "caxis": {
            "gridcolor": "white",
            "linecolor": "white",
            "ticks": ""
           }
          },
          "title": {
           "x": 0.05
          },
          "xaxis": {
           "automargin": true,
           "gridcolor": "white",
           "linecolor": "white",
           "ticks": "",
           "title": {
            "standoff": 15
           },
           "zerolinecolor": "white",
           "zerolinewidth": 2
          },
          "yaxis": {
           "automargin": true,
           "gridcolor": "white",
           "linecolor": "white",
           "ticks": "",
           "title": {
            "standoff": 15
           },
           "zerolinecolor": "white",
           "zerolinewidth": 2
          }
         }
        },
        "xaxis": {
         "anchor": "y",
         "categoryarray": [
          "YES",
          "NO"
         ],
         "categoryorder": "array",
         "domain": [
          0,
          1
         ],
         "title": {
          "text": "Outcome"
         }
        },
        "yaxis": {
         "anchor": "x",
         "domain": [
          0,
          1
         ],
         "title": {
          "text": "Continuous R&D"
         }
        }
       }
      }
     },
     "metadata": {},
     "output_type": "display_data"
    }
   ],
   "source": [
    "ITCRDORD.reset_index(inplace=True)\n",
    "ITCRDORD.rename({'index':'Outcome'},axis = 1,inplace =True)\n",
    "fig = px.funnel(ITCRDORD, x=\"Outcome\", y=\"Continuous R&D\",color = 'Outcome')\n",
    "fig.show()"
   ]
  },
  {
   "cell_type": "code",
   "execution_count": 55,
   "metadata": {},
   "outputs": [
    {
     "data": {
      "application/vnd.plotly.v1+json": {
       "config": {
        "plotlyServerURL": "https://plot.ly"
       },
       "data": [
        {
         "hovertemplate": "Outcome=%{x}<br>Occassional R&D=%{y}<extra></extra>",
         "legendgroup": "YES",
         "marker": {
          "color": "#636efa"
         },
         "name": "YES",
         "orientation": "v",
         "showlegend": true,
         "type": "funnel",
         "x": [
          "YES"
         ],
         "xaxis": "x",
         "y": [
          284
         ],
         "yaxis": "y"
        },
        {
         "hovertemplate": "Outcome=%{x}<br>Occassional R&D=%{y}<extra></extra>",
         "legendgroup": "NO",
         "marker": {
          "color": "#EF553B"
         },
         "name": "NO",
         "orientation": "v",
         "showlegend": true,
         "type": "funnel",
         "x": [
          "NO"
         ],
         "xaxis": "x",
         "y": [
          147
         ],
         "yaxis": "y"
        }
       ],
       "layout": {
        "legend": {
         "title": {
          "text": "Outcome"
         },
         "tracegroupgap": 0
        },
        "margin": {
         "t": 60
        },
        "template": {
         "data": {
          "bar": [
           {
            "error_x": {
             "color": "#2a3f5f"
            },
            "error_y": {
             "color": "#2a3f5f"
            },
            "marker": {
             "line": {
              "color": "#E5ECF6",
              "width": 0.5
             },
             "pattern": {
              "fillmode": "overlay",
              "size": 10,
              "solidity": 0.2
             }
            },
            "type": "bar"
           }
          ],
          "barpolar": [
           {
            "marker": {
             "line": {
              "color": "#E5ECF6",
              "width": 0.5
             },
             "pattern": {
              "fillmode": "overlay",
              "size": 10,
              "solidity": 0.2
             }
            },
            "type": "barpolar"
           }
          ],
          "carpet": [
           {
            "aaxis": {
             "endlinecolor": "#2a3f5f",
             "gridcolor": "white",
             "linecolor": "white",
             "minorgridcolor": "white",
             "startlinecolor": "#2a3f5f"
            },
            "baxis": {
             "endlinecolor": "#2a3f5f",
             "gridcolor": "white",
             "linecolor": "white",
             "minorgridcolor": "white",
             "startlinecolor": "#2a3f5f"
            },
            "type": "carpet"
           }
          ],
          "choropleth": [
           {
            "colorbar": {
             "outlinewidth": 0,
             "ticks": ""
            },
            "type": "choropleth"
           }
          ],
          "contour": [
           {
            "colorbar": {
             "outlinewidth": 0,
             "ticks": ""
            },
            "colorscale": [
             [
              0,
              "#0d0887"
             ],
             [
              0.1111111111111111,
              "#46039f"
             ],
             [
              0.2222222222222222,
              "#7201a8"
             ],
             [
              0.3333333333333333,
              "#9c179e"
             ],
             [
              0.4444444444444444,
              "#bd3786"
             ],
             [
              0.5555555555555556,
              "#d8576b"
             ],
             [
              0.6666666666666666,
              "#ed7953"
             ],
             [
              0.7777777777777778,
              "#fb9f3a"
             ],
             [
              0.8888888888888888,
              "#fdca26"
             ],
             [
              1,
              "#f0f921"
             ]
            ],
            "type": "contour"
           }
          ],
          "contourcarpet": [
           {
            "colorbar": {
             "outlinewidth": 0,
             "ticks": ""
            },
            "type": "contourcarpet"
           }
          ],
          "heatmap": [
           {
            "colorbar": {
             "outlinewidth": 0,
             "ticks": ""
            },
            "colorscale": [
             [
              0,
              "#0d0887"
             ],
             [
              0.1111111111111111,
              "#46039f"
             ],
             [
              0.2222222222222222,
              "#7201a8"
             ],
             [
              0.3333333333333333,
              "#9c179e"
             ],
             [
              0.4444444444444444,
              "#bd3786"
             ],
             [
              0.5555555555555556,
              "#d8576b"
             ],
             [
              0.6666666666666666,
              "#ed7953"
             ],
             [
              0.7777777777777778,
              "#fb9f3a"
             ],
             [
              0.8888888888888888,
              "#fdca26"
             ],
             [
              1,
              "#f0f921"
             ]
            ],
            "type": "heatmap"
           }
          ],
          "heatmapgl": [
           {
            "colorbar": {
             "outlinewidth": 0,
             "ticks": ""
            },
            "colorscale": [
             [
              0,
              "#0d0887"
             ],
             [
              0.1111111111111111,
              "#46039f"
             ],
             [
              0.2222222222222222,
              "#7201a8"
             ],
             [
              0.3333333333333333,
              "#9c179e"
             ],
             [
              0.4444444444444444,
              "#bd3786"
             ],
             [
              0.5555555555555556,
              "#d8576b"
             ],
             [
              0.6666666666666666,
              "#ed7953"
             ],
             [
              0.7777777777777778,
              "#fb9f3a"
             ],
             [
              0.8888888888888888,
              "#fdca26"
             ],
             [
              1,
              "#f0f921"
             ]
            ],
            "type": "heatmapgl"
           }
          ],
          "histogram": [
           {
            "marker": {
             "pattern": {
              "fillmode": "overlay",
              "size": 10,
              "solidity": 0.2
             }
            },
            "type": "histogram"
           }
          ],
          "histogram2d": [
           {
            "colorbar": {
             "outlinewidth": 0,
             "ticks": ""
            },
            "colorscale": [
             [
              0,
              "#0d0887"
             ],
             [
              0.1111111111111111,
              "#46039f"
             ],
             [
              0.2222222222222222,
              "#7201a8"
             ],
             [
              0.3333333333333333,
              "#9c179e"
             ],
             [
              0.4444444444444444,
              "#bd3786"
             ],
             [
              0.5555555555555556,
              "#d8576b"
             ],
             [
              0.6666666666666666,
              "#ed7953"
             ],
             [
              0.7777777777777778,
              "#fb9f3a"
             ],
             [
              0.8888888888888888,
              "#fdca26"
             ],
             [
              1,
              "#f0f921"
             ]
            ],
            "type": "histogram2d"
           }
          ],
          "histogram2dcontour": [
           {
            "colorbar": {
             "outlinewidth": 0,
             "ticks": ""
            },
            "colorscale": [
             [
              0,
              "#0d0887"
             ],
             [
              0.1111111111111111,
              "#46039f"
             ],
             [
              0.2222222222222222,
              "#7201a8"
             ],
             [
              0.3333333333333333,
              "#9c179e"
             ],
             [
              0.4444444444444444,
              "#bd3786"
             ],
             [
              0.5555555555555556,
              "#d8576b"
             ],
             [
              0.6666666666666666,
              "#ed7953"
             ],
             [
              0.7777777777777778,
              "#fb9f3a"
             ],
             [
              0.8888888888888888,
              "#fdca26"
             ],
             [
              1,
              "#f0f921"
             ]
            ],
            "type": "histogram2dcontour"
           }
          ],
          "mesh3d": [
           {
            "colorbar": {
             "outlinewidth": 0,
             "ticks": ""
            },
            "type": "mesh3d"
           }
          ],
          "parcoords": [
           {
            "line": {
             "colorbar": {
              "outlinewidth": 0,
              "ticks": ""
             }
            },
            "type": "parcoords"
           }
          ],
          "pie": [
           {
            "automargin": true,
            "type": "pie"
           }
          ],
          "scatter": [
           {
            "marker": {
             "colorbar": {
              "outlinewidth": 0,
              "ticks": ""
             }
            },
            "type": "scatter"
           }
          ],
          "scatter3d": [
           {
            "line": {
             "colorbar": {
              "outlinewidth": 0,
              "ticks": ""
             }
            },
            "marker": {
             "colorbar": {
              "outlinewidth": 0,
              "ticks": ""
             }
            },
            "type": "scatter3d"
           }
          ],
          "scattercarpet": [
           {
            "marker": {
             "colorbar": {
              "outlinewidth": 0,
              "ticks": ""
             }
            },
            "type": "scattercarpet"
           }
          ],
          "scattergeo": [
           {
            "marker": {
             "colorbar": {
              "outlinewidth": 0,
              "ticks": ""
             }
            },
            "type": "scattergeo"
           }
          ],
          "scattergl": [
           {
            "marker": {
             "colorbar": {
              "outlinewidth": 0,
              "ticks": ""
             }
            },
            "type": "scattergl"
           }
          ],
          "scattermapbox": [
           {
            "marker": {
             "colorbar": {
              "outlinewidth": 0,
              "ticks": ""
             }
            },
            "type": "scattermapbox"
           }
          ],
          "scatterpolar": [
           {
            "marker": {
             "colorbar": {
              "outlinewidth": 0,
              "ticks": ""
             }
            },
            "type": "scatterpolar"
           }
          ],
          "scatterpolargl": [
           {
            "marker": {
             "colorbar": {
              "outlinewidth": 0,
              "ticks": ""
             }
            },
            "type": "scatterpolargl"
           }
          ],
          "scatterternary": [
           {
            "marker": {
             "colorbar": {
              "outlinewidth": 0,
              "ticks": ""
             }
            },
            "type": "scatterternary"
           }
          ],
          "surface": [
           {
            "colorbar": {
             "outlinewidth": 0,
             "ticks": ""
            },
            "colorscale": [
             [
              0,
              "#0d0887"
             ],
             [
              0.1111111111111111,
              "#46039f"
             ],
             [
              0.2222222222222222,
              "#7201a8"
             ],
             [
              0.3333333333333333,
              "#9c179e"
             ],
             [
              0.4444444444444444,
              "#bd3786"
             ],
             [
              0.5555555555555556,
              "#d8576b"
             ],
             [
              0.6666666666666666,
              "#ed7953"
             ],
             [
              0.7777777777777778,
              "#fb9f3a"
             ],
             [
              0.8888888888888888,
              "#fdca26"
             ],
             [
              1,
              "#f0f921"
             ]
            ],
            "type": "surface"
           }
          ],
          "table": [
           {
            "cells": {
             "fill": {
              "color": "#EBF0F8"
             },
             "line": {
              "color": "white"
             }
            },
            "header": {
             "fill": {
              "color": "#C8D4E3"
             },
             "line": {
              "color": "white"
             }
            },
            "type": "table"
           }
          ]
         },
         "layout": {
          "annotationdefaults": {
           "arrowcolor": "#2a3f5f",
           "arrowhead": 0,
           "arrowwidth": 1
          },
          "autotypenumbers": "strict",
          "coloraxis": {
           "colorbar": {
            "outlinewidth": 0,
            "ticks": ""
           }
          },
          "colorscale": {
           "diverging": [
            [
             0,
             "#8e0152"
            ],
            [
             0.1,
             "#c51b7d"
            ],
            [
             0.2,
             "#de77ae"
            ],
            [
             0.3,
             "#f1b6da"
            ],
            [
             0.4,
             "#fde0ef"
            ],
            [
             0.5,
             "#f7f7f7"
            ],
            [
             0.6,
             "#e6f5d0"
            ],
            [
             0.7,
             "#b8e186"
            ],
            [
             0.8,
             "#7fbc41"
            ],
            [
             0.9,
             "#4d9221"
            ],
            [
             1,
             "#276419"
            ]
           ],
           "sequential": [
            [
             0,
             "#0d0887"
            ],
            [
             0.1111111111111111,
             "#46039f"
            ],
            [
             0.2222222222222222,
             "#7201a8"
            ],
            [
             0.3333333333333333,
             "#9c179e"
            ],
            [
             0.4444444444444444,
             "#bd3786"
            ],
            [
             0.5555555555555556,
             "#d8576b"
            ],
            [
             0.6666666666666666,
             "#ed7953"
            ],
            [
             0.7777777777777778,
             "#fb9f3a"
            ],
            [
             0.8888888888888888,
             "#fdca26"
            ],
            [
             1,
             "#f0f921"
            ]
           ],
           "sequentialminus": [
            [
             0,
             "#0d0887"
            ],
            [
             0.1111111111111111,
             "#46039f"
            ],
            [
             0.2222222222222222,
             "#7201a8"
            ],
            [
             0.3333333333333333,
             "#9c179e"
            ],
            [
             0.4444444444444444,
             "#bd3786"
            ],
            [
             0.5555555555555556,
             "#d8576b"
            ],
            [
             0.6666666666666666,
             "#ed7953"
            ],
            [
             0.7777777777777778,
             "#fb9f3a"
            ],
            [
             0.8888888888888888,
             "#fdca26"
            ],
            [
             1,
             "#f0f921"
            ]
           ]
          },
          "colorway": [
           "#636efa",
           "#EF553B",
           "#00cc96",
           "#ab63fa",
           "#FFA15A",
           "#19d3f3",
           "#FF6692",
           "#B6E880",
           "#FF97FF",
           "#FECB52"
          ],
          "font": {
           "color": "#2a3f5f"
          },
          "geo": {
           "bgcolor": "white",
           "lakecolor": "white",
           "landcolor": "#E5ECF6",
           "showlakes": true,
           "showland": true,
           "subunitcolor": "white"
          },
          "hoverlabel": {
           "align": "left"
          },
          "hovermode": "closest",
          "mapbox": {
           "style": "light"
          },
          "paper_bgcolor": "white",
          "plot_bgcolor": "#E5ECF6",
          "polar": {
           "angularaxis": {
            "gridcolor": "white",
            "linecolor": "white",
            "ticks": ""
           },
           "bgcolor": "#E5ECF6",
           "radialaxis": {
            "gridcolor": "white",
            "linecolor": "white",
            "ticks": ""
           }
          },
          "scene": {
           "xaxis": {
            "backgroundcolor": "#E5ECF6",
            "gridcolor": "white",
            "gridwidth": 2,
            "linecolor": "white",
            "showbackground": true,
            "ticks": "",
            "zerolinecolor": "white"
           },
           "yaxis": {
            "backgroundcolor": "#E5ECF6",
            "gridcolor": "white",
            "gridwidth": 2,
            "linecolor": "white",
            "showbackground": true,
            "ticks": "",
            "zerolinecolor": "white"
           },
           "zaxis": {
            "backgroundcolor": "#E5ECF6",
            "gridcolor": "white",
            "gridwidth": 2,
            "linecolor": "white",
            "showbackground": true,
            "ticks": "",
            "zerolinecolor": "white"
           }
          },
          "shapedefaults": {
           "line": {
            "color": "#2a3f5f"
           }
          },
          "ternary": {
           "aaxis": {
            "gridcolor": "white",
            "linecolor": "white",
            "ticks": ""
           },
           "baxis": {
            "gridcolor": "white",
            "linecolor": "white",
            "ticks": ""
           },
           "bgcolor": "#E5ECF6",
           "caxis": {
            "gridcolor": "white",
            "linecolor": "white",
            "ticks": ""
           }
          },
          "title": {
           "x": 0.05
          },
          "xaxis": {
           "automargin": true,
           "gridcolor": "white",
           "linecolor": "white",
           "ticks": "",
           "title": {
            "standoff": 15
           },
           "zerolinecolor": "white",
           "zerolinewidth": 2
          },
          "yaxis": {
           "automargin": true,
           "gridcolor": "white",
           "linecolor": "white",
           "ticks": "",
           "title": {
            "standoff": 15
           },
           "zerolinecolor": "white",
           "zerolinewidth": 2
          }
         }
        },
        "xaxis": {
         "anchor": "y",
         "categoryarray": [
          "YES",
          "NO"
         ],
         "categoryorder": "array",
         "domain": [
          0,
          1
         ],
         "title": {
          "text": "Outcome"
         }
        },
        "yaxis": {
         "anchor": "x",
         "domain": [
          0,
          1
         ],
         "title": {
          "text": "Occassional R&D"
         }
        }
       }
      }
     },
     "metadata": {},
     "output_type": "display_data"
    }
   ],
   "source": [
    "fig = px.funnel(ITCRDORD, x=\"Outcome\", y=\"Occassional R&D\",color ='Outcome')\n",
    "fig.show()"
   ]
  },
  {
   "cell_type": "code",
   "execution_count": null,
   "metadata": {},
   "outputs": [],
   "source": []
  }
 ],
 "metadata": {
  "kernelspec": {
   "display_name": "Python 3.9.12 ('base')",
   "language": "python",
   "name": "python3"
  },
  "language_info": {
   "codemirror_mode": {
    "name": "ipython",
    "version": 3
   },
   "file_extension": ".py",
   "mimetype": "text/x-python",
   "name": "python",
   "nbconvert_exporter": "python",
   "pygments_lexer": "ipython3",
   "version": "3.9.12"
  },
  "orig_nbformat": 4,
  "vscode": {
   "interpreter": {
    "hash": "7c5b4b5f72701d0da4703e0631ab80e1a1879b4a1224ff4bb856e690b4256287"
   }
  }
 },
 "nbformat": 4,
 "nbformat_minor": 2
}
